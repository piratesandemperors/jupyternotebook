{
 "cells": [
  {
   "cell_type": "code",
   "execution_count": 1,
   "metadata": {
    "collapsed": false,
    "deletable": true,
    "editable": true,
    "scrolled": true
   },
   "outputs": [
    {
     "data": {
      "text/html": [
       "<script>requirejs.config({paths: { 'plotly': ['https://cdn.plot.ly/plotly-latest.min']},});if(!window.Plotly) {{require(['plotly'],function(plotly) {window.Plotly=plotly;});}}</script>"
      ],
      "text/vnd.plotly.v1+html": [
       "<script>requirejs.config({paths: { 'plotly': ['https://cdn.plot.ly/plotly-latest.min']},});if(!window.Plotly) {{require(['plotly'],function(plotly) {window.Plotly=plotly;});}}</script>"
      ]
     },
     "metadata": {},
     "output_type": "display_data"
    }
   ],
   "source": [
    "import pandas as pd\n",
    "import numpy as np\n",
    "import datetime as dt\n",
    "import seaborn as sns\n",
    "from plotly.offline import init_notebook_mode,iplot,iplot_mpl,download_plotlyjs,enable_mpl_offline\n",
    "import plotly.graph_objs as go\n",
    "import matplotlib.pyplot as plt\n",
    "%matplotlib inline\n",
    "init_notebook_mode(connected=True)"
   ]
  },
  {
   "cell_type": "code",
   "execution_count": 2,
   "metadata": {
    "collapsed": false,
    "deletable": true,
    "editable": true
   },
   "outputs": [],
   "source": [
    "noshow_df = pd.read_csv('noshowappointments-kagglev2-may-2016.csv')"
   ]
  },
  {
   "cell_type": "code",
   "execution_count": 3,
   "metadata": {
    "collapsed": false,
    "deletable": true,
    "editable": true
   },
   "outputs": [
    {
     "name": "stdout",
     "output_type": "stream",
     "text": [
      "<class 'pandas.core.frame.DataFrame'>\n",
      "RangeIndex: 110527 entries, 0 to 110526\n",
      "Data columns (total 14 columns):\n",
      "PatientId         110527 non-null float64\n",
      "AppointmentID     110527 non-null int64\n",
      "Gender            110527 non-null object\n",
      "ScheduledDay      110527 non-null object\n",
      "AppointmentDay    110527 non-null object\n",
      "Age               110527 non-null int64\n",
      "Neighbourhood     110527 non-null object\n",
      "Scholarship       110527 non-null int64\n",
      "Hipertension      110527 non-null int64\n",
      "Diabetes          110527 non-null int64\n",
      "Alcoholism        110527 non-null int64\n",
      "Handcap           110527 non-null int64\n",
      "SMS_received      110527 non-null int64\n",
      "No-show           110527 non-null object\n",
      "dtypes: float64(1), int64(8), object(5)\n",
      "memory usage: 11.8+ MB\n"
     ]
    }
   ],
   "source": [
    "noshow_df.info()"
   ]
  },
  {
   "cell_type": "code",
   "execution_count": 4,
   "metadata": {
    "collapsed": false,
    "deletable": true,
    "editable": true
   },
   "outputs": [
    {
     "data": {
      "text/html": [
       "<div>\n",
       "<table border=\"1\" class=\"dataframe\">\n",
       "  <thead>\n",
       "    <tr style=\"text-align: right;\">\n",
       "      <th></th>\n",
       "      <th>PatientId</th>\n",
       "      <th>AppointmentID</th>\n",
       "      <th>Gender</th>\n",
       "      <th>ScheduledDay</th>\n",
       "      <th>AppointmentDay</th>\n",
       "      <th>Age</th>\n",
       "      <th>Neighbourhood</th>\n",
       "      <th>Scholarship</th>\n",
       "      <th>Hipertension</th>\n",
       "      <th>Diabetes</th>\n",
       "      <th>Alcoholism</th>\n",
       "      <th>Handcap</th>\n",
       "      <th>SMS_received</th>\n",
       "      <th>No-show</th>\n",
       "    </tr>\n",
       "  </thead>\n",
       "  <tbody>\n",
       "    <tr>\n",
       "      <th>0</th>\n",
       "      <td>2.987250e+13</td>\n",
       "      <td>5642903</td>\n",
       "      <td>F</td>\n",
       "      <td>2016-04-29T18:38:08Z</td>\n",
       "      <td>2016-04-29T00:00:00Z</td>\n",
       "      <td>62</td>\n",
       "      <td>JARDIM DA PENHA</td>\n",
       "      <td>0</td>\n",
       "      <td>1</td>\n",
       "      <td>0</td>\n",
       "      <td>0</td>\n",
       "      <td>0</td>\n",
       "      <td>0</td>\n",
       "      <td>No</td>\n",
       "    </tr>\n",
       "    <tr>\n",
       "      <th>1</th>\n",
       "      <td>5.589978e+14</td>\n",
       "      <td>5642503</td>\n",
       "      <td>M</td>\n",
       "      <td>2016-04-29T16:08:27Z</td>\n",
       "      <td>2016-04-29T00:00:00Z</td>\n",
       "      <td>56</td>\n",
       "      <td>JARDIM DA PENHA</td>\n",
       "      <td>0</td>\n",
       "      <td>0</td>\n",
       "      <td>0</td>\n",
       "      <td>0</td>\n",
       "      <td>0</td>\n",
       "      <td>0</td>\n",
       "      <td>No</td>\n",
       "    </tr>\n",
       "    <tr>\n",
       "      <th>2</th>\n",
       "      <td>4.262962e+12</td>\n",
       "      <td>5642549</td>\n",
       "      <td>F</td>\n",
       "      <td>2016-04-29T16:19:04Z</td>\n",
       "      <td>2016-04-29T00:00:00Z</td>\n",
       "      <td>62</td>\n",
       "      <td>MATA DA PRAIA</td>\n",
       "      <td>0</td>\n",
       "      <td>0</td>\n",
       "      <td>0</td>\n",
       "      <td>0</td>\n",
       "      <td>0</td>\n",
       "      <td>0</td>\n",
       "      <td>No</td>\n",
       "    </tr>\n",
       "    <tr>\n",
       "      <th>3</th>\n",
       "      <td>8.679512e+11</td>\n",
       "      <td>5642828</td>\n",
       "      <td>F</td>\n",
       "      <td>2016-04-29T17:29:31Z</td>\n",
       "      <td>2016-04-29T00:00:00Z</td>\n",
       "      <td>8</td>\n",
       "      <td>PONTAL DE CAMBURI</td>\n",
       "      <td>0</td>\n",
       "      <td>0</td>\n",
       "      <td>0</td>\n",
       "      <td>0</td>\n",
       "      <td>0</td>\n",
       "      <td>0</td>\n",
       "      <td>No</td>\n",
       "    </tr>\n",
       "    <tr>\n",
       "      <th>4</th>\n",
       "      <td>8.841186e+12</td>\n",
       "      <td>5642494</td>\n",
       "      <td>F</td>\n",
       "      <td>2016-04-29T16:07:23Z</td>\n",
       "      <td>2016-04-29T00:00:00Z</td>\n",
       "      <td>56</td>\n",
       "      <td>JARDIM DA PENHA</td>\n",
       "      <td>0</td>\n",
       "      <td>1</td>\n",
       "      <td>1</td>\n",
       "      <td>0</td>\n",
       "      <td>0</td>\n",
       "      <td>0</td>\n",
       "      <td>No</td>\n",
       "    </tr>\n",
       "  </tbody>\n",
       "</table>\n",
       "</div>"
      ],
      "text/plain": [
       "      PatientId  AppointmentID Gender          ScheduledDay  \\\n",
       "0  2.987250e+13        5642903      F  2016-04-29T18:38:08Z   \n",
       "1  5.589978e+14        5642503      M  2016-04-29T16:08:27Z   \n",
       "2  4.262962e+12        5642549      F  2016-04-29T16:19:04Z   \n",
       "3  8.679512e+11        5642828      F  2016-04-29T17:29:31Z   \n",
       "4  8.841186e+12        5642494      F  2016-04-29T16:07:23Z   \n",
       "\n",
       "         AppointmentDay  Age      Neighbourhood  Scholarship  Hipertension  \\\n",
       "0  2016-04-29T00:00:00Z   62    JARDIM DA PENHA            0             1   \n",
       "1  2016-04-29T00:00:00Z   56    JARDIM DA PENHA            0             0   \n",
       "2  2016-04-29T00:00:00Z   62      MATA DA PRAIA            0             0   \n",
       "3  2016-04-29T00:00:00Z    8  PONTAL DE CAMBURI            0             0   \n",
       "4  2016-04-29T00:00:00Z   56    JARDIM DA PENHA            0             1   \n",
       "\n",
       "   Diabetes  Alcoholism  Handcap  SMS_received No-show  \n",
       "0         0           0        0             0      No  \n",
       "1         0           0        0             0      No  \n",
       "2         0           0        0             0      No  \n",
       "3         0           0        0             0      No  \n",
       "4         1           0        0             0      No  "
      ]
     },
     "execution_count": 4,
     "metadata": {},
     "output_type": "execute_result"
    }
   ],
   "source": [
    "noshow_df.head()"
   ]
  },
  {
   "cell_type": "code",
   "execution_count": 5,
   "metadata": {
    "collapsed": false,
    "deletable": true,
    "editable": true,
    "scrolled": true
   },
   "outputs": [
    {
     "data": {
      "text/html": [
       "<div>\n",
       "<table border=\"1\" class=\"dataframe\">\n",
       "  <thead>\n",
       "    <tr style=\"text-align: right;\">\n",
       "      <th></th>\n",
       "      <th>Gender</th>\n",
       "      <th>Age</th>\n",
       "      <th>Neighbourhood</th>\n",
       "      <th>Scholarship</th>\n",
       "      <th>Hipertension</th>\n",
       "      <th>Diabetes</th>\n",
       "      <th>Alcoholism</th>\n",
       "      <th>Handcap</th>\n",
       "      <th>SMS_received</th>\n",
       "      <th>No-show</th>\n",
       "      <th>Registration_Date</th>\n",
       "      <th>RegistrationTime</th>\n",
       "      <th>Appointment_Date</th>\n",
       "    </tr>\n",
       "  </thead>\n",
       "  <tbody>\n",
       "    <tr>\n",
       "      <th>0</th>\n",
       "      <td>F</td>\n",
       "      <td>62</td>\n",
       "      <td>JARDIM DA PENHA</td>\n",
       "      <td>0</td>\n",
       "      <td>1</td>\n",
       "      <td>0</td>\n",
       "      <td>0</td>\n",
       "      <td>0</td>\n",
       "      <td>0</td>\n",
       "      <td>No</td>\n",
       "      <td>2016-04-29</td>\n",
       "      <td>18:38:08</td>\n",
       "      <td>2016-04-29</td>\n",
       "    </tr>\n",
       "    <tr>\n",
       "      <th>1</th>\n",
       "      <td>M</td>\n",
       "      <td>56</td>\n",
       "      <td>JARDIM DA PENHA</td>\n",
       "      <td>0</td>\n",
       "      <td>0</td>\n",
       "      <td>0</td>\n",
       "      <td>0</td>\n",
       "      <td>0</td>\n",
       "      <td>0</td>\n",
       "      <td>No</td>\n",
       "      <td>2016-04-29</td>\n",
       "      <td>16:08:27</td>\n",
       "      <td>2016-04-29</td>\n",
       "    </tr>\n",
       "    <tr>\n",
       "      <th>2</th>\n",
       "      <td>F</td>\n",
       "      <td>62</td>\n",
       "      <td>MATA DA PRAIA</td>\n",
       "      <td>0</td>\n",
       "      <td>0</td>\n",
       "      <td>0</td>\n",
       "      <td>0</td>\n",
       "      <td>0</td>\n",
       "      <td>0</td>\n",
       "      <td>No</td>\n",
       "      <td>2016-04-29</td>\n",
       "      <td>16:19:04</td>\n",
       "      <td>2016-04-29</td>\n",
       "    </tr>\n",
       "    <tr>\n",
       "      <th>3</th>\n",
       "      <td>F</td>\n",
       "      <td>8</td>\n",
       "      <td>PONTAL DE CAMBURI</td>\n",
       "      <td>0</td>\n",
       "      <td>0</td>\n",
       "      <td>0</td>\n",
       "      <td>0</td>\n",
       "      <td>0</td>\n",
       "      <td>0</td>\n",
       "      <td>No</td>\n",
       "      <td>2016-04-29</td>\n",
       "      <td>17:29:31</td>\n",
       "      <td>2016-04-29</td>\n",
       "    </tr>\n",
       "    <tr>\n",
       "      <th>4</th>\n",
       "      <td>F</td>\n",
       "      <td>56</td>\n",
       "      <td>JARDIM DA PENHA</td>\n",
       "      <td>0</td>\n",
       "      <td>1</td>\n",
       "      <td>1</td>\n",
       "      <td>0</td>\n",
       "      <td>0</td>\n",
       "      <td>0</td>\n",
       "      <td>No</td>\n",
       "      <td>2016-04-29</td>\n",
       "      <td>16:07:23</td>\n",
       "      <td>2016-04-29</td>\n",
       "    </tr>\n",
       "    <tr>\n",
       "      <th>5</th>\n",
       "      <td>F</td>\n",
       "      <td>76</td>\n",
       "      <td>REPÚBLICA</td>\n",
       "      <td>0</td>\n",
       "      <td>1</td>\n",
       "      <td>0</td>\n",
       "      <td>0</td>\n",
       "      <td>0</td>\n",
       "      <td>0</td>\n",
       "      <td>No</td>\n",
       "      <td>2016-04-27</td>\n",
       "      <td>08:36:51</td>\n",
       "      <td>2016-04-29</td>\n",
       "    </tr>\n",
       "    <tr>\n",
       "      <th>6</th>\n",
       "      <td>F</td>\n",
       "      <td>23</td>\n",
       "      <td>GOIABEIRAS</td>\n",
       "      <td>0</td>\n",
       "      <td>0</td>\n",
       "      <td>0</td>\n",
       "      <td>0</td>\n",
       "      <td>0</td>\n",
       "      <td>0</td>\n",
       "      <td>Yes</td>\n",
       "      <td>2016-04-27</td>\n",
       "      <td>15:05:12</td>\n",
       "      <td>2016-04-29</td>\n",
       "    </tr>\n",
       "    <tr>\n",
       "      <th>7</th>\n",
       "      <td>F</td>\n",
       "      <td>39</td>\n",
       "      <td>GOIABEIRAS</td>\n",
       "      <td>0</td>\n",
       "      <td>0</td>\n",
       "      <td>0</td>\n",
       "      <td>0</td>\n",
       "      <td>0</td>\n",
       "      <td>0</td>\n",
       "      <td>Yes</td>\n",
       "      <td>2016-04-27</td>\n",
       "      <td>15:39:58</td>\n",
       "      <td>2016-04-29</td>\n",
       "    </tr>\n",
       "    <tr>\n",
       "      <th>8</th>\n",
       "      <td>F</td>\n",
       "      <td>21</td>\n",
       "      <td>ANDORINHAS</td>\n",
       "      <td>0</td>\n",
       "      <td>0</td>\n",
       "      <td>0</td>\n",
       "      <td>0</td>\n",
       "      <td>0</td>\n",
       "      <td>0</td>\n",
       "      <td>No</td>\n",
       "      <td>2016-04-29</td>\n",
       "      <td>08:02:16</td>\n",
       "      <td>2016-04-29</td>\n",
       "    </tr>\n",
       "    <tr>\n",
       "      <th>9</th>\n",
       "      <td>F</td>\n",
       "      <td>19</td>\n",
       "      <td>CONQUISTA</td>\n",
       "      <td>0</td>\n",
       "      <td>0</td>\n",
       "      <td>0</td>\n",
       "      <td>0</td>\n",
       "      <td>0</td>\n",
       "      <td>0</td>\n",
       "      <td>No</td>\n",
       "      <td>2016-04-27</td>\n",
       "      <td>12:48:25</td>\n",
       "      <td>2016-04-29</td>\n",
       "    </tr>\n",
       "  </tbody>\n",
       "</table>\n",
       "</div>"
      ],
      "text/plain": [
       "  Gender  Age      Neighbourhood  Scholarship  Hipertension  Diabetes  \\\n",
       "0      F   62    JARDIM DA PENHA            0             1         0   \n",
       "1      M   56    JARDIM DA PENHA            0             0         0   \n",
       "2      F   62      MATA DA PRAIA            0             0         0   \n",
       "3      F    8  PONTAL DE CAMBURI            0             0         0   \n",
       "4      F   56    JARDIM DA PENHA            0             1         1   \n",
       "5      F   76          REPÚBLICA            0             1         0   \n",
       "6      F   23         GOIABEIRAS            0             0         0   \n",
       "7      F   39         GOIABEIRAS            0             0         0   \n",
       "8      F   21         ANDORINHAS            0             0         0   \n",
       "9      F   19          CONQUISTA            0             0         0   \n",
       "\n",
       "   Alcoholism  Handcap  SMS_received No-show Registration_Date  \\\n",
       "0           0        0             0      No        2016-04-29   \n",
       "1           0        0             0      No        2016-04-29   \n",
       "2           0        0             0      No        2016-04-29   \n",
       "3           0        0             0      No        2016-04-29   \n",
       "4           0        0             0      No        2016-04-29   \n",
       "5           0        0             0      No        2016-04-27   \n",
       "6           0        0             0     Yes        2016-04-27   \n",
       "7           0        0             0     Yes        2016-04-27   \n",
       "8           0        0             0      No        2016-04-29   \n",
       "9           0        0             0      No        2016-04-27   \n",
       "\n",
       "  RegistrationTime Appointment_Date  \n",
       "0         18:38:08       2016-04-29  \n",
       "1         16:08:27       2016-04-29  \n",
       "2         16:19:04       2016-04-29  \n",
       "3         17:29:31       2016-04-29  \n",
       "4         16:07:23       2016-04-29  \n",
       "5         08:36:51       2016-04-29  \n",
       "6         15:05:12       2016-04-29  \n",
       "7         15:39:58       2016-04-29  \n",
       "8         08:02:16       2016-04-29  \n",
       "9         12:48:25       2016-04-29  "
      ]
     },
     "execution_count": 5,
     "metadata": {},
     "output_type": "execute_result"
    }
   ],
   "source": [
    "# converting dates to datetime format and removing unwanted columns\n",
    "noshow_df['Registration_Date'] = noshow_df['ScheduledDay'].str.split('T').str[0]\n",
    "noshow_df['Registration_Date'] = noshow_df['Registration_Date'].astype('datetime64[ns]')\n",
    "noshow_df['RegistrationTime'] = noshow_df['ScheduledDay'].str.split('T').str[-1].str.replace('Z','')\n",
    "noshow_df['Appointment_Date'] = noshow_df['AppointmentDay'].str.split('T').str[0]\n",
    "noshow_df['Appointment_Date'] = noshow_df['Appointment_Date'].astype('datetime64[ns]')\n",
    "noshow_df.drop(['PatientId','AppointmentID','AppointmentDay','ScheduledDay'],axis=1,inplace=True)\n",
    "noshow_df.head(10)\n"
   ]
  },
  {
   "cell_type": "code",
   "execution_count": 6,
   "metadata": {
    "collapsed": false,
    "deletable": true,
    "editable": true
   },
   "outputs": [
    {
     "data": {
      "text/html": [
       "<div>\n",
       "<table border=\"1\" class=\"dataframe\">\n",
       "  <thead>\n",
       "    <tr style=\"text-align: right;\">\n",
       "      <th></th>\n",
       "      <th>Gender</th>\n",
       "      <th>Age</th>\n",
       "      <th>Neighbourhood</th>\n",
       "      <th>Scholarship</th>\n",
       "      <th>Hipertension</th>\n",
       "      <th>Diabetes</th>\n",
       "      <th>Alcoholism</th>\n",
       "      <th>Handcap</th>\n",
       "      <th>SMS_received</th>\n",
       "      <th>No-show</th>\n",
       "      <th>Registration_Date</th>\n",
       "      <th>RegistrationTime</th>\n",
       "      <th>Appointment_Date</th>\n",
       "      <th>AppointmentMonth</th>\n",
       "      <th>DayOfWeek</th>\n",
       "      <th>WaitingDays</th>\n",
       "    </tr>\n",
       "  </thead>\n",
       "  <tbody>\n",
       "    <tr>\n",
       "      <th>0</th>\n",
       "      <td>F</td>\n",
       "      <td>62</td>\n",
       "      <td>JARDIM DA PENHA</td>\n",
       "      <td>0</td>\n",
       "      <td>1</td>\n",
       "      <td>0</td>\n",
       "      <td>0</td>\n",
       "      <td>0</td>\n",
       "      <td>0</td>\n",
       "      <td>No</td>\n",
       "      <td>2016-04-29</td>\n",
       "      <td>18:38:08</td>\n",
       "      <td>2016-04-29</td>\n",
       "      <td>4</td>\n",
       "      <td>5</td>\n",
       "      <td>0</td>\n",
       "    </tr>\n",
       "    <tr>\n",
       "      <th>1</th>\n",
       "      <td>M</td>\n",
       "      <td>56</td>\n",
       "      <td>JARDIM DA PENHA</td>\n",
       "      <td>0</td>\n",
       "      <td>0</td>\n",
       "      <td>0</td>\n",
       "      <td>0</td>\n",
       "      <td>0</td>\n",
       "      <td>0</td>\n",
       "      <td>No</td>\n",
       "      <td>2016-04-29</td>\n",
       "      <td>16:08:27</td>\n",
       "      <td>2016-04-29</td>\n",
       "      <td>4</td>\n",
       "      <td>5</td>\n",
       "      <td>0</td>\n",
       "    </tr>\n",
       "    <tr>\n",
       "      <th>2</th>\n",
       "      <td>F</td>\n",
       "      <td>62</td>\n",
       "      <td>MATA DA PRAIA</td>\n",
       "      <td>0</td>\n",
       "      <td>0</td>\n",
       "      <td>0</td>\n",
       "      <td>0</td>\n",
       "      <td>0</td>\n",
       "      <td>0</td>\n",
       "      <td>No</td>\n",
       "      <td>2016-04-29</td>\n",
       "      <td>16:19:04</td>\n",
       "      <td>2016-04-29</td>\n",
       "      <td>4</td>\n",
       "      <td>5</td>\n",
       "      <td>0</td>\n",
       "    </tr>\n",
       "    <tr>\n",
       "      <th>3</th>\n",
       "      <td>F</td>\n",
       "      <td>8</td>\n",
       "      <td>PONTAL DE CAMBURI</td>\n",
       "      <td>0</td>\n",
       "      <td>0</td>\n",
       "      <td>0</td>\n",
       "      <td>0</td>\n",
       "      <td>0</td>\n",
       "      <td>0</td>\n",
       "      <td>No</td>\n",
       "      <td>2016-04-29</td>\n",
       "      <td>17:29:31</td>\n",
       "      <td>2016-04-29</td>\n",
       "      <td>4</td>\n",
       "      <td>5</td>\n",
       "      <td>0</td>\n",
       "    </tr>\n",
       "    <tr>\n",
       "      <th>4</th>\n",
       "      <td>F</td>\n",
       "      <td>56</td>\n",
       "      <td>JARDIM DA PENHA</td>\n",
       "      <td>0</td>\n",
       "      <td>1</td>\n",
       "      <td>1</td>\n",
       "      <td>0</td>\n",
       "      <td>0</td>\n",
       "      <td>0</td>\n",
       "      <td>No</td>\n",
       "      <td>2016-04-29</td>\n",
       "      <td>16:07:23</td>\n",
       "      <td>2016-04-29</td>\n",
       "      <td>4</td>\n",
       "      <td>5</td>\n",
       "      <td>0</td>\n",
       "    </tr>\n",
       "  </tbody>\n",
       "</table>\n",
       "</div>"
      ],
      "text/plain": [
       "  Gender  Age      Neighbourhood  Scholarship  Hipertension  Diabetes  \\\n",
       "0      F   62    JARDIM DA PENHA            0             1         0   \n",
       "1      M   56    JARDIM DA PENHA            0             0         0   \n",
       "2      F   62      MATA DA PRAIA            0             0         0   \n",
       "3      F    8  PONTAL DE CAMBURI            0             0         0   \n",
       "4      F   56    JARDIM DA PENHA            0             1         1   \n",
       "\n",
       "   Alcoholism  Handcap  SMS_received No-show Registration_Date  \\\n",
       "0           0        0             0      No        2016-04-29   \n",
       "1           0        0             0      No        2016-04-29   \n",
       "2           0        0             0      No        2016-04-29   \n",
       "3           0        0             0      No        2016-04-29   \n",
       "4           0        0             0      No        2016-04-29   \n",
       "\n",
       "  RegistrationTime Appointment_Date  AppointmentMonth  DayOfWeek  WaitingDays  \n",
       "0         18:38:08       2016-04-29                 4          5            0  \n",
       "1         16:08:27       2016-04-29                 4          5            0  \n",
       "2         16:19:04       2016-04-29                 4          5            0  \n",
       "3         17:29:31       2016-04-29                 4          5            0  \n",
       "4         16:07:23       2016-04-29                 4          5            0  "
      ]
     },
     "execution_count": 6,
     "metadata": {},
     "output_type": "execute_result"
    }
   ],
   "source": [
    "# creating columns for day and month of regestration and appointmnt\n",
    "noshow_df['AppointmentMonth'] = noshow_df['Appointment_Date'].dt.month\n",
    "noshow_df['DayOfWeek'] = pd.to_datetime(noshow_df['Appointment_Date']).apply(lambda x: x.isoweekday())\n",
    "noshow_df['WaitingDays'] = (noshow_df.Appointment_Date-noshow_df.Registration_Date).dt.days\n",
    "noshow_df.head()"
   ]
  },
  {
   "cell_type": "code",
   "execution_count": 7,
   "metadata": {
    "collapsed": false,
    "deletable": true,
    "editable": true
   },
   "outputs": [],
   "source": [
    " noshow_df[\"HourOfDay\"]= pd.to_datetime(noshow_df.RegistrationTime).dt.hour\n",
    " "
   ]
  },
  {
   "cell_type": "code",
   "execution_count": 8,
   "metadata": {
    "collapsed": true,
    "deletable": true,
    "editable": true
   },
   "outputs": [],
   "source": [
    "#renaming the column name to avoid confusion \n",
    "noshow_df.rename(columns={'No-show': 'Status'}, inplace=True)"
   ]
  },
  {
   "cell_type": "code",
   "execution_count": 9,
   "metadata": {
    "collapsed": false,
    "deletable": true,
    "editable": true
   },
   "outputs": [
    {
     "data": {
      "text/html": [
       "<div>\n",
       "<table border=\"1\" class=\"dataframe\">\n",
       "  <thead>\n",
       "    <tr style=\"text-align: right;\">\n",
       "      <th></th>\n",
       "      <th>Gender</th>\n",
       "      <th>Age</th>\n",
       "      <th>Neighbourhood</th>\n",
       "      <th>Scholarship</th>\n",
       "      <th>Hipertension</th>\n",
       "      <th>Diabetes</th>\n",
       "      <th>Alcoholism</th>\n",
       "      <th>Handcap</th>\n",
       "      <th>SMS_received</th>\n",
       "      <th>Status</th>\n",
       "      <th>Registration_Date</th>\n",
       "      <th>RegistrationTime</th>\n",
       "      <th>Appointment_Date</th>\n",
       "      <th>AppointmentMonth</th>\n",
       "      <th>DayOfWeek</th>\n",
       "      <th>WaitingDays</th>\n",
       "      <th>HourOfDay</th>\n",
       "    </tr>\n",
       "  </thead>\n",
       "  <tbody>\n",
       "    <tr>\n",
       "      <th>0</th>\n",
       "      <td>F</td>\n",
       "      <td>62</td>\n",
       "      <td>JARDIM DA PENHA</td>\n",
       "      <td>0</td>\n",
       "      <td>1</td>\n",
       "      <td>0</td>\n",
       "      <td>0</td>\n",
       "      <td>0</td>\n",
       "      <td>0</td>\n",
       "      <td>Show-Up</td>\n",
       "      <td>2016-04-29</td>\n",
       "      <td>18:38:08</td>\n",
       "      <td>2016-04-29</td>\n",
       "      <td>4</td>\n",
       "      <td>5</td>\n",
       "      <td>0</td>\n",
       "      <td>18</td>\n",
       "    </tr>\n",
       "    <tr>\n",
       "      <th>1</th>\n",
       "      <td>M</td>\n",
       "      <td>56</td>\n",
       "      <td>JARDIM DA PENHA</td>\n",
       "      <td>0</td>\n",
       "      <td>0</td>\n",
       "      <td>0</td>\n",
       "      <td>0</td>\n",
       "      <td>0</td>\n",
       "      <td>0</td>\n",
       "      <td>Show-Up</td>\n",
       "      <td>2016-04-29</td>\n",
       "      <td>16:08:27</td>\n",
       "      <td>2016-04-29</td>\n",
       "      <td>4</td>\n",
       "      <td>5</td>\n",
       "      <td>0</td>\n",
       "      <td>16</td>\n",
       "    </tr>\n",
       "    <tr>\n",
       "      <th>2</th>\n",
       "      <td>F</td>\n",
       "      <td>62</td>\n",
       "      <td>MATA DA PRAIA</td>\n",
       "      <td>0</td>\n",
       "      <td>0</td>\n",
       "      <td>0</td>\n",
       "      <td>0</td>\n",
       "      <td>0</td>\n",
       "      <td>0</td>\n",
       "      <td>Show-Up</td>\n",
       "      <td>2016-04-29</td>\n",
       "      <td>16:19:04</td>\n",
       "      <td>2016-04-29</td>\n",
       "      <td>4</td>\n",
       "      <td>5</td>\n",
       "      <td>0</td>\n",
       "      <td>16</td>\n",
       "    </tr>\n",
       "    <tr>\n",
       "      <th>3</th>\n",
       "      <td>F</td>\n",
       "      <td>8</td>\n",
       "      <td>PONTAL DE CAMBURI</td>\n",
       "      <td>0</td>\n",
       "      <td>0</td>\n",
       "      <td>0</td>\n",
       "      <td>0</td>\n",
       "      <td>0</td>\n",
       "      <td>0</td>\n",
       "      <td>Show-Up</td>\n",
       "      <td>2016-04-29</td>\n",
       "      <td>17:29:31</td>\n",
       "      <td>2016-04-29</td>\n",
       "      <td>4</td>\n",
       "      <td>5</td>\n",
       "      <td>0</td>\n",
       "      <td>17</td>\n",
       "    </tr>\n",
       "    <tr>\n",
       "      <th>4</th>\n",
       "      <td>F</td>\n",
       "      <td>56</td>\n",
       "      <td>JARDIM DA PENHA</td>\n",
       "      <td>0</td>\n",
       "      <td>1</td>\n",
       "      <td>1</td>\n",
       "      <td>0</td>\n",
       "      <td>0</td>\n",
       "      <td>0</td>\n",
       "      <td>Show-Up</td>\n",
       "      <td>2016-04-29</td>\n",
       "      <td>16:07:23</td>\n",
       "      <td>2016-04-29</td>\n",
       "      <td>4</td>\n",
       "      <td>5</td>\n",
       "      <td>0</td>\n",
       "      <td>16</td>\n",
       "    </tr>\n",
       "  </tbody>\n",
       "</table>\n",
       "</div>"
      ],
      "text/plain": [
       "  Gender  Age      Neighbourhood  Scholarship  Hipertension  Diabetes  \\\n",
       "0      F   62    JARDIM DA PENHA            0             1         0   \n",
       "1      M   56    JARDIM DA PENHA            0             0         0   \n",
       "2      F   62      MATA DA PRAIA            0             0         0   \n",
       "3      F    8  PONTAL DE CAMBURI            0             0         0   \n",
       "4      F   56    JARDIM DA PENHA            0             1         1   \n",
       "\n",
       "   Alcoholism  Handcap  SMS_received   Status Registration_Date  \\\n",
       "0           0        0             0  Show-Up        2016-04-29   \n",
       "1           0        0             0  Show-Up        2016-04-29   \n",
       "2           0        0             0  Show-Up        2016-04-29   \n",
       "3           0        0             0  Show-Up        2016-04-29   \n",
       "4           0        0             0  Show-Up        2016-04-29   \n",
       "\n",
       "  RegistrationTime Appointment_Date  AppointmentMonth  DayOfWeek  WaitingDays  \\\n",
       "0         18:38:08       2016-04-29                 4          5            0   \n",
       "1         16:08:27       2016-04-29                 4          5            0   \n",
       "2         16:19:04       2016-04-29                 4          5            0   \n",
       "3         17:29:31       2016-04-29                 4          5            0   \n",
       "4         16:07:23       2016-04-29                 4          5            0   \n",
       "\n",
       "   HourOfDay  \n",
       "0         18  \n",
       "1         16  \n",
       "2         16  \n",
       "3         17  \n",
       "4         16  "
      ]
     },
     "execution_count": 9,
     "metadata": {},
     "output_type": "execute_result"
    }
   ],
   "source": [
    "# changing the values of status \n",
    "# No-1, Yes-0, 1 means showed up and 0 means did not show up\n",
    "noshow_df['Status'] = noshow_df.Status.apply(lambda x: 'No-Show' if x=='Yes' else 'Show-Up')\n",
    "noshow_df.head()"
   ]
  },
  {
   "cell_type": "code",
   "execution_count": 10,
   "metadata": {
    "collapsed": false,
    "deletable": true,
    "editable": true
   },
   "outputs": [],
   "source": [
    "# cleaning ages\n",
    "noshow_df = noshow_df[(noshow_df['Age']>=0) & (noshow_df['Age']<100)]"
   ]
  },
  {
   "cell_type": "code",
   "execution_count": 11,
   "metadata": {
    "collapsed": false,
    "deletable": true,
    "editable": true
   },
   "outputs": [],
   "source": [
    "def ageGroup(x):\n",
    "    if x < 10:\n",
    "        return \"Kids\"\n",
    "    elif x >= 10 and x <=18:\n",
    "        return \"Teens\"\n",
    "    elif x >18 and x <= 35:\n",
    "        return \"Young Adults\"\n",
    "    elif x >35 and x <= 65:\n",
    "        return \"Older Adults\"\n",
    "    else:\n",
    "        return \"Seniors\""
   ]
  },
  {
   "cell_type": "code",
   "execution_count": 12,
   "metadata": {
    "collapsed": true,
    "deletable": true,
    "editable": true
   },
   "outputs": [],
   "source": [
    "noshow_df['AgeGroup'] = noshow_df['Age'].apply(ageGroup)"
   ]
  },
  {
   "cell_type": "code",
   "execution_count": 13,
   "metadata": {
    "collapsed": false,
    "deletable": true,
    "editable": true
   },
   "outputs": [
    {
     "data": {
      "text/plain": [
       "['Gender',\n",
       " 'Age',\n",
       " 'Neighbourhood',\n",
       " 'Scholarship',\n",
       " 'Hipertension',\n",
       " 'Diabetes',\n",
       " 'Alcoholism',\n",
       " 'Handcap',\n",
       " 'SMS_received',\n",
       " 'Status',\n",
       " 'Registration_Date',\n",
       " 'RegistrationTime',\n",
       " 'Appointment_Date',\n",
       " 'AppointmentMonth',\n",
       " 'DayOfWeek',\n",
       " 'WaitingDays',\n",
       " 'HourOfDay',\n",
       " 'AgeGroup']"
      ]
     },
     "execution_count": 13,
     "metadata": {},
     "output_type": "execute_result"
    }
   ],
   "source": [
    "cols = list(noshow_df.columns.values)\n",
    "cols"
   ]
  },
  {
   "cell_type": "code",
   "execution_count": 14,
   "metadata": {
    "collapsed": false,
    "deletable": true,
    "editable": true
   },
   "outputs": [],
   "source": [
    "noshow_df.drop(['RegistrationTime'],axis=1,inplace=True)"
   ]
  },
  {
   "cell_type": "code",
   "execution_count": 15,
   "metadata": {
    "collapsed": false,
    "deletable": true,
    "editable": true
   },
   "outputs": [
    {
     "name": "stdout",
     "output_type": "stream",
     "text": [
      "<class 'pandas.core.frame.DataFrame'>\n",
      "Int64Index: 110515 entries, 0 to 110526\n",
      "Data columns (total 17 columns):\n",
      "Neighbourhood        110515 non-null object\n",
      "Gender               110515 non-null object\n",
      "Age                  110515 non-null int64\n",
      "AgeGroup             110515 non-null object\n",
      "Registration_Date    110515 non-null datetime64[ns]\n",
      "Appointment_Date     110515 non-null datetime64[ns]\n",
      "AppointmentMonth     110515 non-null int64\n",
      "DayOfWeek            110515 non-null int64\n",
      "HourOfDay            110515 non-null int64\n",
      "Hipertension         110515 non-null int64\n",
      "Diabetes             110515 non-null int64\n",
      "Alcoholism           110515 non-null int64\n",
      "Handcap              110515 non-null int64\n",
      "Scholarship          110515 non-null int64\n",
      "SMS_received         110515 non-null int64\n",
      "Status               110515 non-null object\n",
      "WaitingDays          110515 non-null int64\n",
      "dtypes: datetime64[ns](2), int64(11), object(4)\n",
      "memory usage: 15.2+ MB\n"
     ]
    }
   ],
   "source": [
    "# arranging columns\n",
    "noshow_df = noshow_df[['Neighbourhood', 'Gender', 'Age','AgeGroup','Registration_Date','Appointment_Date','AppointmentMonth','DayOfWeek','HourOfDay','Hipertension','Diabetes','Alcoholism','Handcap','Scholarship','SMS_received','Status','WaitingDays']]\n",
    "noshow_df.info()"
   ]
  },
  {
   "cell_type": "markdown",
   "metadata": {
    "collapsed": true,
    "deletable": true,
    "editable": true
   },
   "source": [
    "## Exploratory Analysis"
   ]
  },
  {
   "cell_type": "markdown",
   "metadata": {
    "deletable": true,
    "editable": true
   },
   "source": [
    "### 1. Show-Up vs No-Show"
   ]
  },
  {
   "cell_type": "code",
   "execution_count": 16,
   "metadata": {
    "collapsed": false,
    "deletable": true,
    "editable": true
   },
   "outputs": [
    {
     "name": "stdout",
     "output_type": "stream",
     "text": [
      "Show-Up    88199\n",
      "No-Show    22316\n",
      "Name: Status, dtype: int64\n"
     ]
    }
   ],
   "source": [
    "noshow = noshow_df['Status'].value_counts()\n",
    "print(noshow)"
   ]
  },
  {
   "cell_type": "markdown",
   "metadata": {
    "deletable": true,
    "editable": true
   },
   "source": [
    "Off the entire population 20316 didn't showup on the appointment day"
   ]
  },
  {
   "cell_type": "code",
   "execution_count": 17,
   "metadata": {
    "collapsed": false,
    "deletable": true,
    "editable": true
   },
   "outputs": [
    {
     "name": "stdout",
     "output_type": "stream",
     "text": [
      "Percentage of patients not attending appointments: 20.19%\n"
     ]
    }
   ],
   "source": [
    "#Percentage no-shows over entire population\n",
    "percent_no_show = (noshow[1]/ noshow.sum()) * 100\n",
    "print('Percentage of patients not attending appointments: {}%'.format(round(percent_no_show,2)))"
   ]
  },
  {
   "cell_type": "code",
   "execution_count": 18,
   "metadata": {
    "collapsed": false,
    "deletable": true,
    "editable": true,
    "scrolled": true
   },
   "outputs": [
    {
     "data": {
      "image/png": "[encoded data removed]",
      "text/plain": [
       "<matplotlib.figure.Figure at 0x25c328b85f8>"
      ]
     },
     "metadata": {},
     "output_type": "display_data"
    }
   ],
   "source": [
    "group = noshow_df.groupby(['Status'])\n",
    "gps = group.size()\n",
    "ax = sns.barplot(x=gps.index.tolist(), y=gps.values)\n",
    "sns.plt.title(\"Number of People: Show-Up v/s No-Show\", fontsize = '15')\n",
    "sns.plt.xlabel(\"Noshow/Showup\")\n",
    "sns.plt.ylabel(\"Total Number\")\n",
    "sns.plt.show()"
   ]
  },
  {
   "cell_type": "code",
   "execution_count": 19,
   "metadata": {
    "collapsed": false,
    "deletable": true,
    "editable": true
   },
   "outputs": [],
   "source": [
    "def prob_noshow(dataset,group_by):\n",
    "    df = pd.crosstab(index = dataset[group_by],columns = dataset.Status).reset_index()\n",
    "    df['probNoShow'] = df['No-Show']/(df['Show-Up']+df['No-Show'])\n",
    "    return df[[group_by,'probNoShow']]"
   ]
  },
  {
   "cell_type": "markdown",
   "metadata": {
    "collapsed": true,
    "deletable": true,
    "editable": true
   },
   "source": [
    "### 2. Probability of showing up with respect to different features"
   ]
  },
  {
   "cell_type": "code",
   "execution_count": 20,
   "metadata": {
    "collapsed": false,
    "deletable": true,
    "editable": true,
    "scrolled": true
   },
   "outputs": [
    {
     "data": {
      "image/png": "[encoded data removed]",
      "text/plain": [
       "<matplotlib.figure.Figure at 0x25c333da6d8>"
      ]
     },
     "metadata": {},
     "output_type": "display_data"
    }
   ],
   "source": [
    "fig = plt.figure(figsize=(18,10))\n",
    "ax1 = fig.add_subplot(221)\n",
    "plt.title('Probability of No-Show with respect to age')\n",
    "sns.regplot(data = prob_noshow(noshow_df,'Age'),x = 'Age',y = 'probNoShow',ax=ax1)\n",
    "\n",
    "ax2 = fig.add_subplot(222)\n",
    "plt.title('Probability of No-Show with respect to Hour of the Days')\n",
    "sns.regplot(data = prob_noshow(noshow_df,'HourOfDay'),x = 'HourOfDay',y = 'probNoShow',ax=ax2)\n",
    "\n",
    "ax3 = fig.add_subplot(223)\n",
    "plt.title('Probability of No-Show with respect to Day of Week')\n",
    "sns.regplot(data = prob_noshow(noshow_df,'DayOfWeek'),x = 'DayOfWeek',y = 'probNoShow',ax=ax3)\n",
    "\n",
    "ax4 = fig.add_subplot(224)\n",
    "plt.title('Probability of No-Show with respect to waiting days')\n",
    "sns.regplot(data = prob_noshow(noshow_df,'WaitingDays'),x = 'WaitingDays',y = 'probNoShow', ax=ax4)\n",
    "\n",
    "\n",
    "plt.tight_layout()\n",
    "\n",
    "plt.show()"
   ]
  },
  {
   "cell_type": "markdown",
   "metadata": {
    "deletable": true,
    "editable": true
   },
   "source": [
    "\n",
    "\n",
    "Clearly, HourOfTheDay and AwaitingTime are not good predictors of Status, since the probability of showing up depends feebly on the HourOfTheDay and not at all on the AwaitingTime. The significantly stronger dependency is observed with respect to Age.\n",
    "\n",
    "Next, we do the same analysis for the other variables except AppointmentRegistration and AppointmentData since we have already analyzed the probability of showing up with respect to HourOfTheDay and AwaitingTime.\n"
   ]
  },
  {
   "cell_type": "markdown",
   "metadata": {
    "deletable": true,
    "editable": true
   },
   "source": [
    "### gender based patterns"
   ]
  },
  {
   "cell_type": "code",
   "execution_count": 21,
   "metadata": {
    "collapsed": false,
    "deletable": true,
    "editable": true
   },
   "outputs": [
    {
     "data": {
      "image/png": "[encoded data removed]",
      "text/plain": [
       "<matplotlib.figure.Figure at 0x25c3360e898>"
      ]
     },
     "metadata": {},
     "output_type": "display_data"
    }
   ],
   "source": [
    "g = sns.countplot(x='Gender',hue='Status',data=noshow_df)\n",
    "plt.show()"
   ]
  },
  {
   "cell_type": "markdown",
   "metadata": {
    "deletable": true,
    "editable": true
   },
   "source": [
    "### Weekly and Hourly distribution "
   ]
  },
  {
   "cell_type": "code",
   "execution_count": 22,
   "metadata": {
    "collapsed": false,
    "deletable": true,
    "editable": true
   },
   "outputs": [
    {
     "data": {
      "image/png": "[encoded data removed]",
      "text/plain": [
       "<matplotlib.figure.Figure at 0x25c328c4fd0>"
      ]
     },
     "metadata": {},
     "output_type": "display_data"
    }
   ],
   "source": [
    "#weekly analysis\n",
    "fig1 = plt.figure(figsize=(18,10))\n",
    "ax = fig1.add_subplot(1,2,1)\n",
    "ax.set_title(\"Weekly Count\")\n",
    "sns.countplot(x=\"DayOfWeek\",hue=\"Status\",data=noshow_df,palette='winter',ax=ax)\n",
    "ax.set_xlabel(\"Weekday (starts from Monday)\")\n",
    "\n",
    "ax2 = fig1.add_subplot(1,2,2)\n",
    "ax2.set_title(\"Hourly Count\")\n",
    "sns.countplot(x=\"HourOfDay\",hue=\"Status\",data=noshow_df,palette='winter',ax=ax2)\n",
    "ax2.set_xlabel(\"Hour of the day(24 hours)\")\n",
    "\n",
    "plt.tight_layout\n",
    "plt.show()\n"
   ]
  },
  {
   "cell_type": "code",
   "execution_count": 23,
   "metadata": {
    "collapsed": false,
    "deletable": true,
    "editable": true
   },
   "outputs": [
    {
     "data": {
      "text/plain": [
       "array([4, 5, 6], dtype=int64)"
      ]
     },
     "execution_count": 23,
     "metadata": {},
     "output_type": "execute_result"
    }
   ],
   "source": [
    "noshow_df['AppointmentMonth'].unique()"
   ]
  },
  {
   "cell_type": "code",
   "execution_count": 24,
   "metadata": {
    "collapsed": false,
    "deletable": true,
    "editable": true
   },
   "outputs": [],
   "source": [
    "disease = noshow_df.groupby(['Scholarship'])[['Handcap','Diabetes','Alcoholism','Hipertension']].sum()"
   ]
  },
  {
   "cell_type": "code",
   "execution_count": 25,
   "metadata": {
    "collapsed": false,
    "deletable": true,
    "editable": true
   },
   "outputs": [
    {
     "data": {
      "text/html": [
       "<div>\n",
       "<table border=\"1\" class=\"dataframe\">\n",
       "  <thead>\n",
       "    <tr style=\"text-align: right;\">\n",
       "      <th></th>\n",
       "      <th>Handcap</th>\n",
       "      <th>Diabetes</th>\n",
       "      <th>Alcoholism</th>\n",
       "      <th>Hipertension</th>\n",
       "    </tr>\n",
       "    <tr>\n",
       "      <th>Scholarship</th>\n",
       "      <th></th>\n",
       "      <th></th>\n",
       "      <th></th>\n",
       "      <th></th>\n",
       "    </tr>\n",
       "  </thead>\n",
       "  <tbody>\n",
       "    <tr>\n",
       "      <th>0</th>\n",
       "      <td>2257</td>\n",
       "      <td>7374</td>\n",
       "      <td>2832</td>\n",
       "      <td>19916</td>\n",
       "    </tr>\n",
       "    <tr>\n",
       "      <th>1</th>\n",
       "      <td>196</td>\n",
       "      <td>569</td>\n",
       "      <td>528</td>\n",
       "      <td>1884</td>\n",
       "    </tr>\n",
       "  </tbody>\n",
       "</table>\n",
       "</div>"
      ],
      "text/plain": [
       "             Handcap  Diabetes  Alcoholism  Hipertension\n",
       "Scholarship                                             \n",
       "0               2257      7374        2832         19916\n",
       "1                196       569         528          1884"
      ]
     },
     "execution_count": 25,
     "metadata": {},
     "output_type": "execute_result"
    }
   ],
   "source": [
    "disease"
   ]
  },
  {
   "cell_type": "markdown",
   "metadata": {
    "deletable": true,
    "editable": true
   },
   "source": [
    "### Disease based patterns"
   ]
  },
  {
   "cell_type": "code",
   "execution_count": 26,
   "metadata": {
    "collapsed": true,
    "deletable": true,
    "editable": true
   },
   "outputs": [],
   "source": [
    "pv1 = noshow_df.pivot_table(values=[\"Diabetes\",\"Alcoholism\",\"Hipertension\",\"Handcap\"],columns=\"Status\",index=[\"HourOfDay\"],aggfunc=np.sum)"
   ]
  },
  {
   "cell_type": "code",
   "execution_count": 27,
   "metadata": {
    "collapsed": true,
    "deletable": true,
    "editable": true
   },
   "outputs": [],
   "source": [
    "disease_data = pv1.unstack().unstack('Status').reset_index().rename(columns={\"level_0\":\"Category\"})"
   ]
  },
  {
   "cell_type": "code",
   "execution_count": 28,
   "metadata": {
    "collapsed": false,
    "deletable": true,
    "editable": true
   },
   "outputs": [],
   "source": [
    "disease_data[\"No Show Rate\"] = disease_data['No-Show'] / (disease_data['No-Show'] + disease_data['Show-Up'])"
   ]
  },
  {
   "cell_type": "code",
   "execution_count": 29,
   "metadata": {
    "collapsed": false,
    "deletable": true,
    "editable": true
   },
   "outputs": [
    {
     "data": {
      "text/html": [
       "<div>\n",
       "<table border=\"1\" class=\"dataframe\">\n",
       "  <thead>\n",
       "    <tr style=\"text-align: right;\">\n",
       "      <th>Status</th>\n",
       "      <th>Category</th>\n",
       "      <th>HourOfDay</th>\n",
       "      <th>No-Show</th>\n",
       "      <th>Show-Up</th>\n",
       "      <th>No Show Rate</th>\n",
       "    </tr>\n",
       "  </thead>\n",
       "  <tbody>\n",
       "    <tr>\n",
       "      <th>0</th>\n",
       "      <td>Diabetes</td>\n",
       "      <td>6</td>\n",
       "      <td>42</td>\n",
       "      <td>132</td>\n",
       "      <td>0.241379</td>\n",
       "    </tr>\n",
       "    <tr>\n",
       "      <th>1</th>\n",
       "      <td>Diabetes</td>\n",
       "      <td>7</td>\n",
       "      <td>208</td>\n",
       "      <td>1223</td>\n",
       "      <td>0.145353</td>\n",
       "    </tr>\n",
       "    <tr>\n",
       "      <th>2</th>\n",
       "      <td>Diabetes</td>\n",
       "      <td>8</td>\n",
       "      <td>155</td>\n",
       "      <td>901</td>\n",
       "      <td>0.146780</td>\n",
       "    </tr>\n",
       "    <tr>\n",
       "      <th>3</th>\n",
       "      <td>Diabetes</td>\n",
       "      <td>9</td>\n",
       "      <td>166</td>\n",
       "      <td>809</td>\n",
       "      <td>0.170256</td>\n",
       "    </tr>\n",
       "    <tr>\n",
       "      <th>4</th>\n",
       "      <td>Diabetes</td>\n",
       "      <td>10</td>\n",
       "      <td>167</td>\n",
       "      <td>650</td>\n",
       "      <td>0.204406</td>\n",
       "    </tr>\n",
       "  </tbody>\n",
       "</table>\n",
       "</div>"
      ],
      "text/plain": [
       "Status  Category  HourOfDay  No-Show  Show-Up  No Show Rate\n",
       "0       Diabetes          6       42      132      0.241379\n",
       "1       Diabetes          7      208     1223      0.145353\n",
       "2       Diabetes          8      155      901      0.146780\n",
       "3       Diabetes          9      166      809      0.170256\n",
       "4       Diabetes         10      167      650      0.204406"
      ]
     },
     "execution_count": 29,
     "metadata": {},
     "output_type": "execute_result"
    }
   ],
   "source": [
    "disease_data.head()"
   ]
  },
  {
   "cell_type": "code",
   "execution_count": 30,
   "metadata": {
    "collapsed": false,
    "deletable": true,
    "editable": true
   },
   "outputs": [
    {
     "data": {
      "text/plain": [
       "<matplotlib.axes._axes.Axes at 0x25c33743cf8>"
      ]
     },
     "execution_count": 30,
     "metadata": {},
     "output_type": "execute_result"
    },
    {
     "data": {
      "image/png": "[encoded data removed]",
      "text/plain": [
       "<matplotlib.figure.Figure at 0x25c33743b38>"
      ]
     },
     "metadata": {},
     "output_type": "display_data"
    }
   ],
   "source": [
    "figure = plt.figure(figsize=(10,6))\n",
    "ax = figure.add_axes([0,0,1,1])\n",
    "sns.boxplot(x=\"Category\",y=\"Show-Up\",data=disease_data)"
   ]
  },
  {
   "cell_type": "code",
   "execution_count": 31,
   "metadata": {
    "collapsed": false,
    "deletable": true,
    "editable": true
   },
   "outputs": [
    {
     "data": {
      "application/vnd.plotly.v1+json": {
       "data": [
        {
         "mode": "lines+markers",
         "name": "Diabetes",
         "text": [
          "Diabetes",
          "Diabetes",
          "Diabetes",
          "Diabetes",
          "Diabetes",
          "Diabetes",
          "Diabetes",
          "Diabetes",
          "Diabetes",
          "Diabetes",
          "Diabetes",
          "Diabetes",
          "Diabetes",
          "Diabetes",
          "Diabetes",
          "Diabetes"
         ],
         "type": "scatter",
         "x": [
          6,
          7,
          8,
          9,
          10,
          11,
          12,
          13,
          14,
          15,
          16,
          17,
          18,
          19,
          20,
          21
         ],
         "y": [
          24.137931034482758,
          14.535290006988118,
          14.678030303030305,
          17.025641025641026,
          20.4406364749082,
          17.0846394984326,
          18.097447795823665,
          17.93570219966159,
          20.846905537459286,
          21.853146853146853,
          22.647058823529413,
          26.063829787234045,
          15.730337078651685,
          22.727272727272727,
          20,
          null
         ]
        },
        {
         "mode": "lines+markers",
         "name": "Alcoholism",
         "text": [
          "Alcoholism",
          "Alcoholism",
          "Alcoholism",
          "Alcoholism",
          "Alcoholism",
          "Alcoholism",
          "Alcoholism",
          "Alcoholism",
          "Alcoholism",
          "Alcoholism",
          "Alcoholism",
          "Alcoholism",
          "Alcoholism",
          "Alcoholism",
          "Alcoholism",
          "Alcoholism"
         ],
         "type": "scatter",
         "x": [
          6,
          7,
          8,
          9,
          10,
          11,
          12,
          13,
          14,
          15,
          16,
          17,
          18,
          19,
          20,
          21
         ],
         "y": [
          35,
          19.516407599309154,
          16.8,
          19.571045576407506,
          25.538461538461537,
          16.16766467065868,
          14.583333333333334,
          22.831050228310502,
          22.400000000000002,
          25.688073394495415,
          16.55629139072848,
          21.367521367521366,
          26.666666666666668,
          15.384615384615385,
          50,
          null
         ]
        },
        {
         "mode": "lines+markers",
         "name": "Handcap",
         "text": [
          "Handcap",
          "Handcap",
          "Handcap",
          "Handcap",
          "Handcap",
          "Handcap",
          "Handcap",
          "Handcap",
          "Handcap",
          "Handcap",
          "Handcap",
          "Handcap",
          "Handcap",
          "Handcap",
          "Handcap",
          "Handcap"
         ],
         "type": "scatter",
         "x": [
          6,
          7,
          8,
          9,
          10,
          11,
          12,
          13,
          14,
          15,
          16,
          17,
          18,
          19,
          20,
          21
         ],
         "y": [
          34.21052631578947,
          17.23076923076923,
          15.40880503144654,
          15.868263473053892,
          19.850187265917604,
          21.686746987951807,
          18.58407079646018,
          17.209302325581397,
          16.5,
          21.83406113537118,
          15.53398058252427,
          27.500000000000004,
          21.052631578947366,
          0,
          null,
          null
         ]
        },
        {
         "mode": "lines+markers",
         "name": "Hipertension",
         "text": [
          "Hipertension",
          "Hipertension",
          "Hipertension",
          "Hipertension",
          "Hipertension",
          "Hipertension",
          "Hipertension",
          "Hipertension",
          "Hipertension",
          "Hipertension",
          "Hipertension",
          "Hipertension",
          "Hipertension",
          "Hipertension",
          "Hipertension",
          "Hipertension"
         ],
         "type": "scatter",
         "x": [
          6,
          7,
          8,
          9,
          10,
          11,
          12,
          13,
          14,
          15,
          16,
          17,
          18,
          19,
          20,
          21
         ],
         "y": [
          20.92511013215859,
          13.753853450320133,
          14.91989319092123,
          17.118178248920298,
          18.767249310027598,
          18.964514252472366,
          17.026793431287814,
          15.54140127388535,
          19.83575489576753,
          19.31443638760712,
          22.31237322515213,
          25.665399239543724,
          20.53231939163498,
          23.376623376623375,
          35.714285714285715,
          null
         ]
        }
       ],
       "layout": {
        "hovermode": "closest",
        "title": "No Shows Rate over week",
        "xaxis": {
         "title": "Day of Week (Monday - Saturday)"
        },
        "yaxis": {
         "title": "No Show Rate in Percent"
        }
       }
      },
      "text/html": [
       "<div id=\"5fe0e211-3f0b-4974-91c1-1001f5786039\" style=\"height: 525px; width: 100%;\" class=\"plotly-graph-div\"></div><script type=\"text/javascript\">require([\"plotly\"], function(Plotly) { window.PLOTLYENV=window.PLOTLYENV || {};window.PLOTLYENV.BASE_URL=\"https://plot.ly\";Plotly.newPlot(\"5fe0e211-3f0b-4974-91c1-1001f5786039\", [{\"type\": \"scatter\", \"x\": [6, 7, 8, 9, 10, 11, 12, 13, 14, 15, 16, 17, 18, 19, 20, 21], \"y\": [24.137931034482758, 14.535290006988118, 14.678030303030305, 17.025641025641026, 20.4406364749082, 17.0846394984326, 18.097447795823665, 17.93570219966159, 20.846905537459286, 21.853146853146853, 22.647058823529413, 26.063829787234045, 15.730337078651685, 22.727272727272727, 20.0, null], \"mode\": \"lines+markers\", \"text\": [\"Diabetes\", \"Diabetes\", \"Diabetes\", \"Diabetes\", \"Diabetes\", \"Diabetes\", \"Diabetes\", \"Diabetes\", \"Diabetes\", \"Diabetes\", \"Diabetes\", \"Diabetes\", \"Diabetes\", \"Diabetes\", \"Diabetes\", \"Diabetes\"], \"name\": \"Diabetes\"}, {\"type\": \"scatter\", \"x\": [6, 7, 8, 9, 10, 11, 12, 13, 14, 15, 16, 17, 18, 19, 20, 21], \"y\": [35.0, 19.516407599309154, 16.8, 19.571045576407506, 25.538461538461537, 16.16766467065868, 14.583333333333334, 22.831050228310502, 22.400000000000002, 25.688073394495415, 16.55629139072848, 21.367521367521366, 26.666666666666668, 15.384615384615385, 50.0, null], \"mode\": \"lines+markers\", \"text\": [\"Alcoholism\", \"Alcoholism\", \"Alcoholism\", \"Alcoholism\", \"Alcoholism\", \"Alcoholism\", \"Alcoholism\", \"Alcoholism\", \"Alcoholism\", \"Alcoholism\", \"Alcoholism\", \"Alcoholism\", \"Alcoholism\", \"Alcoholism\", \"Alcoholism\", \"Alcoholism\"], \"name\": \"Alcoholism\"}, {\"type\": \"scatter\", \"x\": [6, 7, 8, 9, 10, 11, 12, 13, 14, 15, 16, 17, 18, 19, 20, 21], \"y\": [34.21052631578947, 17.23076923076923, 15.40880503144654, 15.868263473053892, 19.850187265917604, 21.686746987951807, 18.58407079646018, 17.209302325581397, 16.5, 21.83406113537118, 15.53398058252427, 27.500000000000004, 21.052631578947366, 0.0, null, null], \"mode\": \"lines+markers\", \"text\": [\"Handcap\", \"Handcap\", \"Handcap\", \"Handcap\", \"Handcap\", \"Handcap\", \"Handcap\", \"Handcap\", \"Handcap\", \"Handcap\", \"Handcap\", \"Handcap\", \"Handcap\", \"Handcap\", \"Handcap\", \"Handcap\"], \"name\": \"Handcap\"}, {\"type\": \"scatter\", \"x\": [6, 7, 8, 9, 10, 11, 12, 13, 14, 15, 16, 17, 18, 19, 20, 21], \"y\": [20.92511013215859, 13.753853450320133, 14.91989319092123, 17.118178248920298, 18.767249310027598, 18.964514252472366, 17.026793431287814, 15.54140127388535, 19.83575489576753, 19.31443638760712, 22.31237322515213, 25.665399239543724, 20.53231939163498, 23.376623376623375, 35.714285714285715, null], \"mode\": \"lines+markers\", \"text\": [\"Hipertension\", \"Hipertension\", \"Hipertension\", \"Hipertension\", \"Hipertension\", \"Hipertension\", \"Hipertension\", \"Hipertension\", \"Hipertension\", \"Hipertension\", \"Hipertension\", \"Hipertension\", \"Hipertension\", \"Hipertension\", \"Hipertension\", \"Hipertension\"], \"name\": \"Hipertension\"}], {\"title\": \"No Shows Rate over week\", \"hovermode\": \"closest\", \"xaxis\": {\"title\": \"Day of Week (Monday - Saturday)\"}, \"yaxis\": {\"title\": \"No Show Rate in Percent\"}}, {\"showLink\": true, \"linkText\": \"Export to plot.ly\"})});</script>"
      ],
      "text/vnd.plotly.v1+html": [
       "<div id=\"5fe0e211-3f0b-4974-91c1-1001f5786039\" style=\"height: 525px; width: 100%;\" class=\"plotly-graph-div\"></div><script type=\"text/javascript\">require([\"plotly\"], function(Plotly) { window.PLOTLYENV=window.PLOTLYENV || {};window.PLOTLYENV.BASE_URL=\"https://plot.ly\";Plotly.newPlot(\"5fe0e211-3f0b-4974-91c1-1001f5786039\", [{\"type\": \"scatter\", \"x\": [6, 7, 8, 9, 10, 11, 12, 13, 14, 15, 16, 17, 18, 19, 20, 21], \"y\": [24.137931034482758, 14.535290006988118, 14.678030303030305, 17.025641025641026, 20.4406364749082, 17.0846394984326, 18.097447795823665, 17.93570219966159, 20.846905537459286, 21.853146853146853, 22.647058823529413, 26.063829787234045, 15.730337078651685, 22.727272727272727, 20.0, null], \"mode\": \"lines+markers\", \"text\": [\"Diabetes\", \"Diabetes\", \"Diabetes\", \"Diabetes\", \"Diabetes\", \"Diabetes\", \"Diabetes\", \"Diabetes\", \"Diabetes\", \"Diabetes\", \"Diabetes\", \"Diabetes\", \"Diabetes\", \"Diabetes\", \"Diabetes\", \"Diabetes\"], \"name\": \"Diabetes\"}, {\"type\": \"scatter\", \"x\": [6, 7, 8, 9, 10, 11, 12, 13, 14, 15, 16, 17, 18, 19, 20, 21], \"y\": [35.0, 19.516407599309154, 16.8, 19.571045576407506, 25.538461538461537, 16.16766467065868, 14.583333333333334, 22.831050228310502, 22.400000000000002, 25.688073394495415, 16.55629139072848, 21.367521367521366, 26.666666666666668, 15.384615384615385, 50.0, null], \"mode\": \"lines+markers\", \"text\": [\"Alcoholism\", \"Alcoholism\", \"Alcoholism\", \"Alcoholism\", \"Alcoholism\", \"Alcoholism\", \"Alcoholism\", \"Alcoholism\", \"Alcoholism\", \"Alcoholism\", \"Alcoholism\", \"Alcoholism\", \"Alcoholism\", \"Alcoholism\", \"Alcoholism\", \"Alcoholism\"], \"name\": \"Alcoholism\"}, {\"type\": \"scatter\", \"x\": [6, 7, 8, 9, 10, 11, 12, 13, 14, 15, 16, 17, 18, 19, 20, 21], \"y\": [34.21052631578947, 17.23076923076923, 15.40880503144654, 15.868263473053892, 19.850187265917604, 21.686746987951807, 18.58407079646018, 17.209302325581397, 16.5, 21.83406113537118, 15.53398058252427, 27.500000000000004, 21.052631578947366, 0.0, null, null], \"mode\": \"lines+markers\", \"text\": [\"Handcap\", \"Handcap\", \"Handcap\", \"Handcap\", \"Handcap\", \"Handcap\", \"Handcap\", \"Handcap\", \"Handcap\", \"Handcap\", \"Handcap\", \"Handcap\", \"Handcap\", \"Handcap\", \"Handcap\", \"Handcap\"], \"name\": \"Handcap\"}, {\"type\": \"scatter\", \"x\": [6, 7, 8, 9, 10, 11, 12, 13, 14, 15, 16, 17, 18, 19, 20, 21], \"y\": [20.92511013215859, 13.753853450320133, 14.91989319092123, 17.118178248920298, 18.767249310027598, 18.964514252472366, 17.026793431287814, 15.54140127388535, 19.83575489576753, 19.31443638760712, 22.31237322515213, 25.665399239543724, 20.53231939163498, 23.376623376623375, 35.714285714285715, null], \"mode\": \"lines+markers\", \"text\": [\"Hipertension\", \"Hipertension\", \"Hipertension\", \"Hipertension\", \"Hipertension\", \"Hipertension\", \"Hipertension\", \"Hipertension\", \"Hipertension\", \"Hipertension\", \"Hipertension\", \"Hipertension\", \"Hipertension\", \"Hipertension\", \"Hipertension\", \"Hipertension\"], \"name\": \"Hipertension\"}], {\"title\": \"No Shows Rate over week\", \"hovermode\": \"closest\", \"xaxis\": {\"title\": \"Day of Week (Monday - Saturday)\"}, \"yaxis\": {\"title\": \"No Show Rate in Percent\"}}, {\"showLink\": true, \"linkText\": \"Export to plot.ly\"})});</script>"
      ]
     },
     "metadata": {},
     "output_type": "display_data"
    }
   ],
   "source": [
    "Diabetes = disease_data[disease_data['Category'] == 'Diabetes']\n",
    "Alcoholism = disease_data[disease_data['Category'] == 'Alcoholism']\n",
    "Handcap = disease_data[disease_data['Category'] == 'Handcap']\n",
    "Hipertension = disease_data[disease_data['Category'] == 'Hipertension']\n",
    "\n",
    "\n",
    "trace0 = go.Scatter(\n",
    "    x= Diabetes['HourOfDay'],\n",
    "    y=Diabetes['No Show Rate']*100,\n",
    "    mode= 'lines+markers',\n",
    "    text=Diabetes['Category'],\n",
    "    name=\"Diabetes\")\n",
    "\n",
    "trace1 = go.Scatter(\n",
    "    x= Alcoholism['HourOfDay'],\n",
    "    y=Alcoholism['No Show Rate']*100,\n",
    "    mode= 'lines+markers',\n",
    "    text=Alcoholism['Category'],\n",
    "    name=\"Alcoholism\")\n",
    "\n",
    "trace2 = go.Scatter(\n",
    "    x= Handcap['HourOfDay'],\n",
    "    y=Handcap['No Show Rate']*100,\n",
    "    mode= 'lines+markers',\n",
    "    text=Handcap['Category'],\n",
    "    name='Handcap')\n",
    "\n",
    "trace3 = go.Scatter(\n",
    "    x= Hipertension['HourOfDay'],\n",
    "    y=Hipertension['No Show Rate']*100,\n",
    "    mode= 'lines+markers',\n",
    "    text=Hipertension['Category'],\n",
    "    name='Hipertension')\n",
    "\n",
    "layout = dict(title = \"No Shows Rate over week\",hovermode='closest',xaxis=dict({\"title\":\"Day of Week (Monday - Saturday)\"}),\n",
    "             yaxis=dict({\"title\":\"No Show Rate in Percent\"}))\n",
    "dat = [trace0,trace1,trace2,trace3]\n",
    "fig = go.Figure(data=dat,layout=layout)\n",
    "iplot(fig,filename='basic-line')"
   ]
  },
  {
   "cell_type": "code",
   "execution_count": 32,
   "metadata": {
    "collapsed": false,
    "deletable": true,
    "editable": true
   },
   "outputs": [
    {
     "data": {
      "application/vnd.plotly.v1+json": {
       "data": [
        {
         "mode": "lines+markers",
         "name": "Diabetes",
         "text": [
          "Diabetes",
          "Diabetes",
          "Diabetes",
          "Diabetes",
          "Diabetes",
          "Diabetes",
          "Diabetes",
          "Diabetes",
          "Diabetes",
          "Diabetes",
          "Diabetes",
          "Diabetes",
          "Diabetes",
          "Diabetes",
          "Diabetes",
          "Diabetes"
         ],
         "type": "scatter",
         "x": [
          6,
          7,
          8,
          9,
          10,
          11,
          12,
          13,
          14,
          15,
          16,
          17,
          18,
          19,
          20,
          21
         ],
         "y": [
          132,
          1223,
          901,
          809,
          650,
          529,
          353,
          485,
          486,
          447,
          263,
          139,
          75,
          17,
          4,
          0
         ]
        },
        {
         "mode": "lines+markers",
         "name": "Alcoholism",
         "text": [
          "Alcoholism",
          "Alcoholism",
          "Alcoholism",
          "Alcoholism",
          "Alcoholism",
          "Alcoholism",
          "Alcoholism",
          "Alcoholism",
          "Alcoholism",
          "Alcoholism",
          "Alcoholism",
          "Alcoholism",
          "Alcoholism",
          "Alcoholism",
          "Alcoholism",
          "Alcoholism"
         ],
         "type": "scatter",
         "x": [
          6,
          7,
          8,
          9,
          10,
          11,
          12,
          13,
          14,
          15,
          16,
          17,
          18,
          19,
          20,
          21
         ],
         "y": [
          26,
          466,
          416,
          300,
          242,
          280,
          164,
          169,
          194,
          162,
          126,
          92,
          33,
          11,
          2,
          0
         ]
        },
        {
         "mode": "lines+markers",
         "name": "Handcap",
         "text": [
          "Handcap",
          "Handcap",
          "Handcap",
          "Handcap",
          "Handcap",
          "Handcap",
          "Handcap",
          "Handcap",
          "Handcap",
          "Handcap",
          "Handcap",
          "Handcap",
          "Handcap",
          "Handcap",
          "Handcap",
          "Handcap"
         ],
         "type": "scatter",
         "x": [
          6,
          7,
          8,
          9,
          10,
          11,
          12,
          13,
          14,
          15,
          16,
          17,
          18,
          19,
          20,
          21
         ],
         "y": [
          25,
          269,
          269,
          281,
          214,
          195,
          92,
          178,
          167,
          179,
          87,
          29,
          15,
          3,
          0,
          0
         ]
        },
        {
         "mode": "lines+markers",
         "name": "Hipertension",
         "text": [
          "Hipertension",
          "Hipertension",
          "Hipertension",
          "Hipertension",
          "Hipertension",
          "Hipertension",
          "Hipertension",
          "Hipertension",
          "Hipertension",
          "Hipertension",
          "Hipertension",
          "Hipertension",
          "Hipertension",
          "Hipertension",
          "Hipertension",
          "Hipertension"
         ],
         "type": "scatter",
         "x": [
          6,
          7,
          8,
          9,
          10,
          11,
          12,
          13,
          14,
          15,
          16,
          17,
          18,
          19,
          20,
          21
         ],
         "y": [
          359,
          3637,
          2549,
          2111,
          1766,
          1393,
          960,
          1326,
          1269,
          1224,
          766,
          391,
          209,
          59,
          9,
          0
         ]
        }
       ],
       "layout": {
        "hovermode": "closest",
        "title": "Show-Up over week",
        "xaxis": {
         "title": "Day of Week (Monday - Saturday)"
        },
        "yaxis": {
         "title": "Show-Up over week"
        }
       }
      },
      "text/html": [
       "<div id=\"3383a834-7df3-4c18-b6ed-3c779b758e11\" style=\"height: 525px; width: 100%;\" class=\"plotly-graph-div\"></div><script type=\"text/javascript\">require([\"plotly\"], function(Plotly) { window.PLOTLYENV=window.PLOTLYENV || {};window.PLOTLYENV.BASE_URL=\"https://plot.ly\";Plotly.newPlot(\"3383a834-7df3-4c18-b6ed-3c779b758e11\", [{\"type\": \"scatter\", \"x\": [6, 7, 8, 9, 10, 11, 12, 13, 14, 15, 16, 17, 18, 19, 20, 21], \"y\": [132, 1223, 901, 809, 650, 529, 353, 485, 486, 447, 263, 139, 75, 17, 4, 0], \"mode\": \"lines+markers\", \"text\": [\"Diabetes\", \"Diabetes\", \"Diabetes\", \"Diabetes\", \"Diabetes\", \"Diabetes\", \"Diabetes\", \"Diabetes\", \"Diabetes\", \"Diabetes\", \"Diabetes\", \"Diabetes\", \"Diabetes\", \"Diabetes\", \"Diabetes\", \"Diabetes\"], \"name\": \"Diabetes\"}, {\"type\": \"scatter\", \"x\": [6, 7, 8, 9, 10, 11, 12, 13, 14, 15, 16, 17, 18, 19, 20, 21], \"y\": [26, 466, 416, 300, 242, 280, 164, 169, 194, 162, 126, 92, 33, 11, 2, 0], \"mode\": \"lines+markers\", \"text\": [\"Alcoholism\", \"Alcoholism\", \"Alcoholism\", \"Alcoholism\", \"Alcoholism\", \"Alcoholism\", \"Alcoholism\", \"Alcoholism\", \"Alcoholism\", \"Alcoholism\", \"Alcoholism\", \"Alcoholism\", \"Alcoholism\", \"Alcoholism\", \"Alcoholism\", \"Alcoholism\"], \"name\": \"Alcoholism\"}, {\"type\": \"scatter\", \"x\": [6, 7, 8, 9, 10, 11, 12, 13, 14, 15, 16, 17, 18, 19, 20, 21], \"y\": [25, 269, 269, 281, 214, 195, 92, 178, 167, 179, 87, 29, 15, 3, 0, 0], \"mode\": \"lines+markers\", \"text\": [\"Handcap\", \"Handcap\", \"Handcap\", \"Handcap\", \"Handcap\", \"Handcap\", \"Handcap\", \"Handcap\", \"Handcap\", \"Handcap\", \"Handcap\", \"Handcap\", \"Handcap\", \"Handcap\", \"Handcap\", \"Handcap\"], \"name\": \"Handcap\"}, {\"type\": \"scatter\", \"x\": [6, 7, 8, 9, 10, 11, 12, 13, 14, 15, 16, 17, 18, 19, 20, 21], \"y\": [359, 3637, 2549, 2111, 1766, 1393, 960, 1326, 1269, 1224, 766, 391, 209, 59, 9, 0], \"mode\": \"lines+markers\", \"text\": [\"Hipertension\", \"Hipertension\", \"Hipertension\", \"Hipertension\", \"Hipertension\", \"Hipertension\", \"Hipertension\", \"Hipertension\", \"Hipertension\", \"Hipertension\", \"Hipertension\", \"Hipertension\", \"Hipertension\", \"Hipertension\", \"Hipertension\", \"Hipertension\"], \"name\": \"Hipertension\"}], {\"title\": \"Show-Up over week\", \"hovermode\": \"closest\", \"xaxis\": {\"title\": \"Day of Week (Monday - Saturday)\"}, \"yaxis\": {\"title\": \"Show-Up over week\"}}, {\"showLink\": true, \"linkText\": \"Export to plot.ly\"})});</script>"
      ],
      "text/vnd.plotly.v1+html": [
       "<div id=\"3383a834-7df3-4c18-b6ed-3c779b758e11\" style=\"height: 525px; width: 100%;\" class=\"plotly-graph-div\"></div><script type=\"text/javascript\">require([\"plotly\"], function(Plotly) { window.PLOTLYENV=window.PLOTLYENV || {};window.PLOTLYENV.BASE_URL=\"https://plot.ly\";Plotly.newPlot(\"3383a834-7df3-4c18-b6ed-3c779b758e11\", [{\"type\": \"scatter\", \"x\": [6, 7, 8, 9, 10, 11, 12, 13, 14, 15, 16, 17, 18, 19, 20, 21], \"y\": [132, 1223, 901, 809, 650, 529, 353, 485, 486, 447, 263, 139, 75, 17, 4, 0], \"mode\": \"lines+markers\", \"text\": [\"Diabetes\", \"Diabetes\", \"Diabetes\", \"Diabetes\", \"Diabetes\", \"Diabetes\", \"Diabetes\", \"Diabetes\", \"Diabetes\", \"Diabetes\", \"Diabetes\", \"Diabetes\", \"Diabetes\", \"Diabetes\", \"Diabetes\", \"Diabetes\"], \"name\": \"Diabetes\"}, {\"type\": \"scatter\", \"x\": [6, 7, 8, 9, 10, 11, 12, 13, 14, 15, 16, 17, 18, 19, 20, 21], \"y\": [26, 466, 416, 300, 242, 280, 164, 169, 194, 162, 126, 92, 33, 11, 2, 0], \"mode\": \"lines+markers\", \"text\": [\"Alcoholism\", \"Alcoholism\", \"Alcoholism\", \"Alcoholism\", \"Alcoholism\", \"Alcoholism\", \"Alcoholism\", \"Alcoholism\", \"Alcoholism\", \"Alcoholism\", \"Alcoholism\", \"Alcoholism\", \"Alcoholism\", \"Alcoholism\", \"Alcoholism\", \"Alcoholism\"], \"name\": \"Alcoholism\"}, {\"type\": \"scatter\", \"x\": [6, 7, 8, 9, 10, 11, 12, 13, 14, 15, 16, 17, 18, 19, 20, 21], \"y\": [25, 269, 269, 281, 214, 195, 92, 178, 167, 179, 87, 29, 15, 3, 0, 0], \"mode\": \"lines+markers\", \"text\": [\"Handcap\", \"Handcap\", \"Handcap\", \"Handcap\", \"Handcap\", \"Handcap\", \"Handcap\", \"Handcap\", \"Handcap\", \"Handcap\", \"Handcap\", \"Handcap\", \"Handcap\", \"Handcap\", \"Handcap\", \"Handcap\"], \"name\": \"Handcap\"}, {\"type\": \"scatter\", \"x\": [6, 7, 8, 9, 10, 11, 12, 13, 14, 15, 16, 17, 18, 19, 20, 21], \"y\": [359, 3637, 2549, 2111, 1766, 1393, 960, 1326, 1269, 1224, 766, 391, 209, 59, 9, 0], \"mode\": \"lines+markers\", \"text\": [\"Hipertension\", \"Hipertension\", \"Hipertension\", \"Hipertension\", \"Hipertension\", \"Hipertension\", \"Hipertension\", \"Hipertension\", \"Hipertension\", \"Hipertension\", \"Hipertension\", \"Hipertension\", \"Hipertension\", \"Hipertension\", \"Hipertension\", \"Hipertension\"], \"name\": \"Hipertension\"}], {\"title\": \"Show-Up over week\", \"hovermode\": \"closest\", \"xaxis\": {\"title\": \"Day of Week (Monday - Saturday)\"}, \"yaxis\": {\"title\": \"Show-Up over week\"}}, {\"showLink\": true, \"linkText\": \"Export to plot.ly\"})});</script>"
      ]
     },
     "metadata": {},
     "output_type": "display_data"
    }
   ],
   "source": [
    "trace0 = go.Scatter(\n",
    "    x= Diabetes['HourOfDay'],\n",
    "    y=Diabetes['Show-Up'],\n",
    "    mode= 'lines+markers',\n",
    "    text=Diabetes['Category'],\n",
    "    name=\"Diabetes\")\n",
    "\n",
    "trace1 = go.Scatter(\n",
    "    x= Alcoholism['HourOfDay'],\n",
    "    y=Alcoholism['Show-Up'],\n",
    "    mode= 'lines+markers',\n",
    "    text=Alcoholism['Category'],\n",
    "    name=\"Alcoholism\")\n",
    "\n",
    "trace2 = go.Scatter(\n",
    "    x= Handcap['HourOfDay'],\n",
    "    y=Handcap['Show-Up'],\n",
    "    mode= 'lines+markers',\n",
    "    text=Handcap['Category'],\n",
    "    name='Handcap')\n",
    "\n",
    "trace3 = go.Scatter(\n",
    "    x= Hipertension['HourOfDay'],\n",
    "    y=Hipertension['Show-Up'],\n",
    "    mode= 'lines+markers',\n",
    "    text=Hipertension['Category'],\n",
    "    name='Hipertension')\n",
    "\n",
    "layout = dict(title = \"Show-Up over week\",hovermode='closest',xaxis=dict({\"title\":\"Day of Week (Monday - Saturday)\"}),\n",
    "             yaxis=dict({\"title\":\"Show-Up over week\"}))\n",
    "dat = [trace0,trace1,trace2,trace3]\n",
    "fig = go.Figure(data=dat,layout=layout)\n",
    "iplot(fig,filename='basic-line')"
   ]
  },
  {
   "cell_type": "code",
   "execution_count": 33,
   "metadata": {
    "collapsed": true,
    "deletable": true,
    "editable": true
   },
   "outputs": [],
   "source": [
    "pv2 = noshow_df.pivot_table(values=[\"Diabetes\",\"Alcoholism\",\"Hipertension\",\"Handcap\"],columns=\"Status\",index=\"AgeGroup\",aggfunc=np.sum)"
   ]
  },
  {
   "cell_type": "code",
   "execution_count": 34,
   "metadata": {
    "collapsed": true,
    "deletable": true,
    "editable": true
   },
   "outputs": [],
   "source": [
    "Age_data = pv2.unstack().unstack('Status').reset_index().rename(columns={\"level_0\":\"Category\"})"
   ]
  },
  {
   "cell_type": "code",
   "execution_count": 35,
   "metadata": {
    "collapsed": true,
    "deletable": true,
    "editable": true
   },
   "outputs": [],
   "source": [
    "Age_data[\"Total\"] =  (Age_data['No-Show'] + Age_data['Show-Up'])"
   ]
  },
  {
   "cell_type": "code",
   "execution_count": 36,
   "metadata": {
    "collapsed": false,
    "deletable": true,
    "editable": true
   },
   "outputs": [
    {
     "data": {
      "text/html": [
       "<div>\n",
       "<table border=\"1\" class=\"dataframe\">\n",
       "  <thead>\n",
       "    <tr style=\"text-align: right;\">\n",
       "      <th>Status</th>\n",
       "      <th>Category</th>\n",
       "      <th>AgeGroup</th>\n",
       "      <th>No-Show</th>\n",
       "      <th>Show-Up</th>\n",
       "      <th>Total</th>\n",
       "    </tr>\n",
       "  </thead>\n",
       "  <tbody>\n",
       "    <tr>\n",
       "      <th>0</th>\n",
       "      <td>Diabetes</td>\n",
       "      <td>Kids</td>\n",
       "      <td>3</td>\n",
       "      <td>5</td>\n",
       "      <td>8</td>\n",
       "    </tr>\n",
       "    <tr>\n",
       "      <th>1</th>\n",
       "      <td>Diabetes</td>\n",
       "      <td>Older Adults</td>\n",
       "      <td>819</td>\n",
       "      <td>3740</td>\n",
       "      <td>4559</td>\n",
       "    </tr>\n",
       "    <tr>\n",
       "      <th>2</th>\n",
       "      <td>Diabetes</td>\n",
       "      <td>Seniors</td>\n",
       "      <td>533</td>\n",
       "      <td>2574</td>\n",
       "      <td>3107</td>\n",
       "    </tr>\n",
       "    <tr>\n",
       "      <th>3</th>\n",
       "      <td>Diabetes</td>\n",
       "      <td>Teens</td>\n",
       "      <td>13</td>\n",
       "      <td>30</td>\n",
       "      <td>43</td>\n",
       "    </tr>\n",
       "    <tr>\n",
       "      <th>4</th>\n",
       "      <td>Diabetes</td>\n",
       "      <td>Young Adults</td>\n",
       "      <td>62</td>\n",
       "      <td>164</td>\n",
       "      <td>226</td>\n",
       "    </tr>\n",
       "    <tr>\n",
       "      <th>5</th>\n",
       "      <td>Alcoholism</td>\n",
       "      <td>Kids</td>\n",
       "      <td>1</td>\n",
       "      <td>4</td>\n",
       "      <td>5</td>\n",
       "    </tr>\n",
       "    <tr>\n",
       "      <th>6</th>\n",
       "      <td>Alcoholism</td>\n",
       "      <td>Older Adults</td>\n",
       "      <td>499</td>\n",
       "      <td>2080</td>\n",
       "      <td>2579</td>\n",
       "    </tr>\n",
       "    <tr>\n",
       "      <th>7</th>\n",
       "      <td>Alcoholism</td>\n",
       "      <td>Seniors</td>\n",
       "      <td>50</td>\n",
       "      <td>259</td>\n",
       "      <td>309</td>\n",
       "    </tr>\n",
       "    <tr>\n",
       "      <th>8</th>\n",
       "      <td>Alcoholism</td>\n",
       "      <td>Teens</td>\n",
       "      <td>11</td>\n",
       "      <td>12</td>\n",
       "      <td>23</td>\n",
       "    </tr>\n",
       "    <tr>\n",
       "      <th>9</th>\n",
       "      <td>Alcoholism</td>\n",
       "      <td>Young Adults</td>\n",
       "      <td>116</td>\n",
       "      <td>328</td>\n",
       "      <td>444</td>\n",
       "    </tr>\n",
       "    <tr>\n",
       "      <th>10</th>\n",
       "      <td>Hipertension</td>\n",
       "      <td>Kids</td>\n",
       "      <td>2</td>\n",
       "      <td>6</td>\n",
       "      <td>8</td>\n",
       "    </tr>\n",
       "    <tr>\n",
       "      <th>11</th>\n",
       "      <td>Hipertension</td>\n",
       "      <td>Older Adults</td>\n",
       "      <td>2302</td>\n",
       "      <td>10667</td>\n",
       "      <td>12969</td>\n",
       "    </tr>\n",
       "    <tr>\n",
       "      <th>12</th>\n",
       "      <td>Hipertension</td>\n",
       "      <td>Seniors</td>\n",
       "      <td>1286</td>\n",
       "      <td>6697</td>\n",
       "      <td>7983</td>\n",
       "    </tr>\n",
       "    <tr>\n",
       "      <th>13</th>\n",
       "      <td>Hipertension</td>\n",
       "      <td>Teens</td>\n",
       "      <td>11</td>\n",
       "      <td>21</td>\n",
       "      <td>32</td>\n",
       "    </tr>\n",
       "    <tr>\n",
       "      <th>14</th>\n",
       "      <td>Hipertension</td>\n",
       "      <td>Young Adults</td>\n",
       "      <td>171</td>\n",
       "      <td>637</td>\n",
       "      <td>808</td>\n",
       "    </tr>\n",
       "    <tr>\n",
       "      <th>15</th>\n",
       "      <td>Handcap</td>\n",
       "      <td>Kids</td>\n",
       "      <td>32</td>\n",
       "      <td>48</td>\n",
       "      <td>80</td>\n",
       "    </tr>\n",
       "    <tr>\n",
       "      <th>16</th>\n",
       "      <td>Handcap</td>\n",
       "      <td>Older Adults</td>\n",
       "      <td>169</td>\n",
       "      <td>895</td>\n",
       "      <td>1064</td>\n",
       "    </tr>\n",
       "    <tr>\n",
       "      <th>17</th>\n",
       "      <td>Handcap</td>\n",
       "      <td>Seniors</td>\n",
       "      <td>124</td>\n",
       "      <td>555</td>\n",
       "      <td>679</td>\n",
       "    </tr>\n",
       "    <tr>\n",
       "      <th>18</th>\n",
       "      <td>Handcap</td>\n",
       "      <td>Teens</td>\n",
       "      <td>55</td>\n",
       "      <td>187</td>\n",
       "      <td>242</td>\n",
       "    </tr>\n",
       "    <tr>\n",
       "      <th>19</th>\n",
       "      <td>Handcap</td>\n",
       "      <td>Young Adults</td>\n",
       "      <td>70</td>\n",
       "      <td>318</td>\n",
       "      <td>388</td>\n",
       "    </tr>\n",
       "  </tbody>\n",
       "</table>\n",
       "</div>"
      ],
      "text/plain": [
       "Status      Category      AgeGroup  No-Show  Show-Up  Total\n",
       "0           Diabetes          Kids        3        5      8\n",
       "1           Diabetes  Older Adults      819     3740   4559\n",
       "2           Diabetes       Seniors      533     2574   3107\n",
       "3           Diabetes         Teens       13       30     43\n",
       "4           Diabetes  Young Adults       62      164    226\n",
       "5         Alcoholism          Kids        1        4      5\n",
       "6         Alcoholism  Older Adults      499     2080   2579\n",
       "7         Alcoholism       Seniors       50      259    309\n",
       "8         Alcoholism         Teens       11       12     23\n",
       "9         Alcoholism  Young Adults      116      328    444\n",
       "10      Hipertension          Kids        2        6      8\n",
       "11      Hipertension  Older Adults     2302    10667  12969\n",
       "12      Hipertension       Seniors     1286     6697   7983\n",
       "13      Hipertension         Teens       11       21     32\n",
       "14      Hipertension  Young Adults      171      637    808\n",
       "15           Handcap          Kids       32       48     80\n",
       "16           Handcap  Older Adults      169      895   1064\n",
       "17           Handcap       Seniors      124      555    679\n",
       "18           Handcap         Teens       55      187    242\n",
       "19           Handcap  Young Adults       70      318    388"
      ]
     },
     "execution_count": 36,
     "metadata": {},
     "output_type": "execute_result"
    }
   ],
   "source": [
    "Age_data"
   ]
  },
  {
   "cell_type": "code",
   "execution_count": 37,
   "metadata": {
    "collapsed": false,
    "deletable": true,
    "editable": true
   },
   "outputs": [
    {
     "data": {
      "application/vnd.plotly.v1+json": {
       "data": [
        {
         "name": "Kids",
         "text": [
          "Kids",
          "Kids",
          "Kids",
          "Kids"
         ],
         "type": "bar",
         "x": [
          "Diabetes",
          "Alcoholism",
          "Hipertension",
          "Handcap"
         ],
         "y": [
          8,
          5,
          8,
          80
         ]
        },
        {
         "name": "Teens",
         "text": [
          "Teens",
          "Teens",
          "Teens",
          "Teens"
         ],
         "type": "bar",
         "x": [
          "Diabetes",
          "Alcoholism",
          "Hipertension",
          "Handcap"
         ],
         "y": [
          43,
          23,
          32,
          242
         ]
        },
        {
         "name": "YoungAdults",
         "text": [
          "Young Adults",
          "Young Adults",
          "Young Adults",
          "Young Adults"
         ],
         "type": "bar",
         "x": [
          "Diabetes",
          "Alcoholism",
          "Hipertension",
          "Handcap"
         ],
         "y": [
          226,
          444,
          808,
          388
         ]
        },
        {
         "name": "OlderAdults",
         "text": [
          "Older Adults",
          "Older Adults",
          "Older Adults",
          "Older Adults"
         ],
         "type": "bar",
         "x": [
          "Diabetes",
          "Alcoholism",
          "Hipertension",
          "Handcap"
         ],
         "y": [
          4559,
          2579,
          12969,
          1064
         ]
        },
        {
         "name": "Seniors",
         "text": [
          "Seniors",
          "Seniors",
          "Seniors",
          "Seniors"
         ],
         "type": "bar",
         "x": [
          "Diabetes",
          "Alcoholism",
          "Hipertension",
          "Handcap"
         ],
         "y": [
          3107,
          309,
          7983,
          679
         ]
        }
       ],
       "layout": {
        "barmode": "group",
        "title": "Diseases by age group",
        "xaxis": {
         "title": "Diseases"
        },
        "yaxis": {
         "title": "Total no of cases"
        }
       }
      },
      "text/html": [
       "<div id=\"fe5c0854-e2cf-4fc2-ae7c-9a57e7676ea4\" style=\"height: 525px; width: 100%;\" class=\"plotly-graph-div\"></div><script type=\"text/javascript\">require([\"plotly\"], function(Plotly) { window.PLOTLYENV=window.PLOTLYENV || {};window.PLOTLYENV.BASE_URL=\"https://plot.ly\";Plotly.newPlot(\"fe5c0854-e2cf-4fc2-ae7c-9a57e7676ea4\", [{\"type\": \"bar\", \"x\": [\"Diabetes\", \"Alcoholism\", \"Hipertension\", \"Handcap\"], \"y\": [8, 5, 8, 80], \"text\": [\"Kids\", \"Kids\", \"Kids\", \"Kids\"], \"name\": \"Kids\"}, {\"type\": \"bar\", \"x\": [\"Diabetes\", \"Alcoholism\", \"Hipertension\", \"Handcap\"], \"y\": [43, 23, 32, 242], \"text\": [\"Teens\", \"Teens\", \"Teens\", \"Teens\"], \"name\": \"Teens\"}, {\"type\": \"bar\", \"x\": [\"Diabetes\", \"Alcoholism\", \"Hipertension\", \"Handcap\"], \"y\": [226, 444, 808, 388], \"text\": [\"Young Adults\", \"Young Adults\", \"Young Adults\", \"Young Adults\"], \"name\": \"YoungAdults\"}, {\"type\": \"bar\", \"x\": [\"Diabetes\", \"Alcoholism\", \"Hipertension\", \"Handcap\"], \"y\": [4559, 2579, 12969, 1064], \"text\": [\"Older Adults\", \"Older Adults\", \"Older Adults\", \"Older Adults\"], \"name\": \"OlderAdults\"}, {\"type\": \"bar\", \"x\": [\"Diabetes\", \"Alcoholism\", \"Hipertension\", \"Handcap\"], \"y\": [3107, 309, 7983, 679], \"text\": [\"Seniors\", \"Seniors\", \"Seniors\", \"Seniors\"], \"name\": \"Seniors\"}], {\"title\": \"Diseases by age group\", \"barmode\": \"group\", \"xaxis\": {\"title\": \"Diseases\"}, \"yaxis\": {\"title\": \"Total no of cases\"}}, {\"showLink\": true, \"linkText\": \"Export to plot.ly\"})});</script>"
      ],
      "text/vnd.plotly.v1+html": [
       "<div id=\"fe5c0854-e2cf-4fc2-ae7c-9a57e7676ea4\" style=\"height: 525px; width: 100%;\" class=\"plotly-graph-div\"></div><script type=\"text/javascript\">require([\"plotly\"], function(Plotly) { window.PLOTLYENV=window.PLOTLYENV || {};window.PLOTLYENV.BASE_URL=\"https://plot.ly\";Plotly.newPlot(\"fe5c0854-e2cf-4fc2-ae7c-9a57e7676ea4\", [{\"type\": \"bar\", \"x\": [\"Diabetes\", \"Alcoholism\", \"Hipertension\", \"Handcap\"], \"y\": [8, 5, 8, 80], \"text\": [\"Kids\", \"Kids\", \"Kids\", \"Kids\"], \"name\": \"Kids\"}, {\"type\": \"bar\", \"x\": [\"Diabetes\", \"Alcoholism\", \"Hipertension\", \"Handcap\"], \"y\": [43, 23, 32, 242], \"text\": [\"Teens\", \"Teens\", \"Teens\", \"Teens\"], \"name\": \"Teens\"}, {\"type\": \"bar\", \"x\": [\"Diabetes\", \"Alcoholism\", \"Hipertension\", \"Handcap\"], \"y\": [226, 444, 808, 388], \"text\": [\"Young Adults\", \"Young Adults\", \"Young Adults\", \"Young Adults\"], \"name\": \"YoungAdults\"}, {\"type\": \"bar\", \"x\": [\"Diabetes\", \"Alcoholism\", \"Hipertension\", \"Handcap\"], \"y\": [4559, 2579, 12969, 1064], \"text\": [\"Older Adults\", \"Older Adults\", \"Older Adults\", \"Older Adults\"], \"name\": \"OlderAdults\"}, {\"type\": \"bar\", \"x\": [\"Diabetes\", \"Alcoholism\", \"Hipertension\", \"Handcap\"], \"y\": [3107, 309, 7983, 679], \"text\": [\"Seniors\", \"Seniors\", \"Seniors\", \"Seniors\"], \"name\": \"Seniors\"}], {\"title\": \"Diseases by age group\", \"barmode\": \"group\", \"xaxis\": {\"title\": \"Diseases\"}, \"yaxis\": {\"title\": \"Total no of cases\"}}, {\"showLink\": true, \"linkText\": \"Export to plot.ly\"})});</script>"
      ]
     },
     "metadata": {},
     "output_type": "display_data"
    }
   ],
   "source": [
    "kids = Age_data[Age_data['AgeGroup'] == 'Kids']\n",
    "Teens = Age_data[Age_data['AgeGroup'] == 'Teens']\n",
    "YoungAdults = Age_data[Age_data['AgeGroup'] == 'Young Adults']\n",
    "OlderAdults = Age_data[Age_data['AgeGroup'] == 'Older Adults']\n",
    "Seniors = Age_data[Age_data['AgeGroup'] == 'Seniors']\n",
    "\n",
    "\n",
    "trace0 = go.Bar(\n",
    "    x= kids['Category'],\n",
    "    y=kids['Total'],\n",
    "    text=kids['AgeGroup'],\n",
    "    name=\"Kids\")\n",
    "\n",
    "trace1 = go.Bar(\n",
    "    x= Teens['Category'],\n",
    "    y=Teens['Total'],\n",
    "    text=Teens['AgeGroup'],\n",
    "    name=\"Teens\")\n",
    "\n",
    "trace2 = go.Bar(\n",
    "    x= YoungAdults['Category'],\n",
    "    y=YoungAdults['Total'],\n",
    "    text=YoungAdults['AgeGroup'],\n",
    "    name=\"YoungAdults\")\n",
    "\n",
    "trace3 = go.Bar(\n",
    "    x= OlderAdults['Category'],\n",
    "    y=OlderAdults['Total'],\n",
    "    text=OlderAdults['AgeGroup'],\n",
    "    name=\"OlderAdults\")\n",
    "\n",
    "trace4 = go.Bar(\n",
    "    x= Seniors['Category'],\n",
    "    y=Seniors['Total'],\n",
    "    text=Seniors['AgeGroup'],\n",
    "    name=\"Seniors\")\n",
    "\n",
    "\n",
    "layout = dict(title = \"Diseases by age group\",barmode='group',xaxis=dict({\"title\":\"Diseases\"}),\n",
    "             yaxis=dict({\"title\":\"Total no of cases\"}))\n",
    "dat = [trace0,trace1,trace2,trace3,trace4]\n",
    "fig = go.Figure(data=dat,layout=layout)\n",
    "iplot(fig,filename='grouped-bar')"
   ]
  },
  {
   "cell_type": "code",
   "execution_count": 38,
   "metadata": {
    "collapsed": true,
    "deletable": true,
    "editable": true
   },
   "outputs": [],
   "source": [
    "pv3 = noshow_df.pivot_table(values=[\"Diabetes\",\"Alcoholism\",\"Hipertension\",\"Handcap\"],columns=\"Status\",index=\"Gender\",aggfunc=np.sum)"
   ]
  },
  {
   "cell_type": "code",
   "execution_count": 39,
   "metadata": {
    "collapsed": false,
    "deletable": true,
    "editable": true
   },
   "outputs": [],
   "source": [
    "Gender_data = pv3.unstack().unstack('Status').reset_index().rename(columns={\"level_0\":\"Category\"})"
   ]
  },
  {
   "cell_type": "code",
   "execution_count": 40,
   "metadata": {
    "collapsed": false,
    "deletable": true,
    "editable": true
   },
   "outputs": [
    {
     "data": {
      "text/html": [
       "<div>\n",
       "<table border=\"1\" class=\"dataframe\">\n",
       "  <thead>\n",
       "    <tr style=\"text-align: right;\">\n",
       "      <th>Status</th>\n",
       "      <th>Category</th>\n",
       "      <th>Gender</th>\n",
       "      <th>No-Show</th>\n",
       "      <th>Show-Up</th>\n",
       "    </tr>\n",
       "  </thead>\n",
       "  <tbody>\n",
       "    <tr>\n",
       "      <th>0</th>\n",
       "      <td>Diabetes</td>\n",
       "      <td>F</td>\n",
       "      <td>1017</td>\n",
       "      <td>4589</td>\n",
       "    </tr>\n",
       "    <tr>\n",
       "      <th>1</th>\n",
       "      <td>Diabetes</td>\n",
       "      <td>M</td>\n",
       "      <td>413</td>\n",
       "      <td>1924</td>\n",
       "    </tr>\n",
       "    <tr>\n",
       "      <th>2</th>\n",
       "      <td>Alcoholism</td>\n",
       "      <td>F</td>\n",
       "      <td>308</td>\n",
       "      <td>915</td>\n",
       "    </tr>\n",
       "    <tr>\n",
       "      <th>3</th>\n",
       "      <td>Alcoholism</td>\n",
       "      <td>M</td>\n",
       "      <td>369</td>\n",
       "      <td>1768</td>\n",
       "    </tr>\n",
       "    <tr>\n",
       "      <th>4</th>\n",
       "      <td>Hipertension</td>\n",
       "      <td>F</td>\n",
       "      <td>2657</td>\n",
       "      <td>12681</td>\n",
       "    </tr>\n",
       "    <tr>\n",
       "      <th>5</th>\n",
       "      <td>Hipertension</td>\n",
       "      <td>M</td>\n",
       "      <td>1115</td>\n",
       "      <td>5347</td>\n",
       "    </tr>\n",
       "    <tr>\n",
       "      <th>6</th>\n",
       "      <td>Handcap</td>\n",
       "      <td>F</td>\n",
       "      <td>268</td>\n",
       "      <td>1132</td>\n",
       "    </tr>\n",
       "    <tr>\n",
       "      <th>7</th>\n",
       "      <td>Handcap</td>\n",
       "      <td>M</td>\n",
       "      <td>182</td>\n",
       "      <td>871</td>\n",
       "    </tr>\n",
       "  </tbody>\n",
       "</table>\n",
       "</div>"
      ],
      "text/plain": [
       "Status      Category Gender  No-Show  Show-Up\n",
       "0           Diabetes      F     1017     4589\n",
       "1           Diabetes      M      413     1924\n",
       "2         Alcoholism      F      308      915\n",
       "3         Alcoholism      M      369     1768\n",
       "4       Hipertension      F     2657    12681\n",
       "5       Hipertension      M     1115     5347\n",
       "6            Handcap      F      268     1132\n",
       "7            Handcap      M      182      871"
      ]
     },
     "execution_count": 40,
     "metadata": {},
     "output_type": "execute_result"
    }
   ],
   "source": [
    "Gender_data"
   ]
  },
  {
   "cell_type": "code",
   "execution_count": 41,
   "metadata": {
    "collapsed": false,
    "deletable": true,
    "editable": true
   },
   "outputs": [],
   "source": [
    "Gender_data[\"Total\"] =  (Gender_data['No-Show'] + Gender_data['Show-Up'])"
   ]
  },
  {
   "cell_type": "code",
   "execution_count": 42,
   "metadata": {
    "collapsed": false,
    "deletable": true,
    "editable": true
   },
   "outputs": [
    {
     "data": {
      "text/html": [
       "<div>\n",
       "<table border=\"1\" class=\"dataframe\">\n",
       "  <thead>\n",
       "    <tr style=\"text-align: right;\">\n",
       "      <th>Status</th>\n",
       "      <th>Category</th>\n",
       "      <th>Gender</th>\n",
       "      <th>No-Show</th>\n",
       "      <th>Show-Up</th>\n",
       "      <th>Total</th>\n",
       "    </tr>\n",
       "  </thead>\n",
       "  <tbody>\n",
       "    <tr>\n",
       "      <th>0</th>\n",
       "      <td>Diabetes</td>\n",
       "      <td>F</td>\n",
       "      <td>1017</td>\n",
       "      <td>4589</td>\n",
       "      <td>5606</td>\n",
       "    </tr>\n",
       "    <tr>\n",
       "      <th>1</th>\n",
       "      <td>Diabetes</td>\n",
       "      <td>M</td>\n",
       "      <td>413</td>\n",
       "      <td>1924</td>\n",
       "      <td>2337</td>\n",
       "    </tr>\n",
       "    <tr>\n",
       "      <th>2</th>\n",
       "      <td>Alcoholism</td>\n",
       "      <td>F</td>\n",
       "      <td>308</td>\n",
       "      <td>915</td>\n",
       "      <td>1223</td>\n",
       "    </tr>\n",
       "    <tr>\n",
       "      <th>3</th>\n",
       "      <td>Alcoholism</td>\n",
       "      <td>M</td>\n",
       "      <td>369</td>\n",
       "      <td>1768</td>\n",
       "      <td>2137</td>\n",
       "    </tr>\n",
       "    <tr>\n",
       "      <th>4</th>\n",
       "      <td>Hipertension</td>\n",
       "      <td>F</td>\n",
       "      <td>2657</td>\n",
       "      <td>12681</td>\n",
       "      <td>15338</td>\n",
       "    </tr>\n",
       "    <tr>\n",
       "      <th>5</th>\n",
       "      <td>Hipertension</td>\n",
       "      <td>M</td>\n",
       "      <td>1115</td>\n",
       "      <td>5347</td>\n",
       "      <td>6462</td>\n",
       "    </tr>\n",
       "    <tr>\n",
       "      <th>6</th>\n",
       "      <td>Handcap</td>\n",
       "      <td>F</td>\n",
       "      <td>268</td>\n",
       "      <td>1132</td>\n",
       "      <td>1400</td>\n",
       "    </tr>\n",
       "    <tr>\n",
       "      <th>7</th>\n",
       "      <td>Handcap</td>\n",
       "      <td>M</td>\n",
       "      <td>182</td>\n",
       "      <td>871</td>\n",
       "      <td>1053</td>\n",
       "    </tr>\n",
       "  </tbody>\n",
       "</table>\n",
       "</div>"
      ],
      "text/plain": [
       "Status      Category Gender  No-Show  Show-Up  Total\n",
       "0           Diabetes      F     1017     4589   5606\n",
       "1           Diabetes      M      413     1924   2337\n",
       "2         Alcoholism      F      308      915   1223\n",
       "3         Alcoholism      M      369     1768   2137\n",
       "4       Hipertension      F     2657    12681  15338\n",
       "5       Hipertension      M     1115     5347   6462\n",
       "6            Handcap      F      268     1132   1400\n",
       "7            Handcap      M      182      871   1053"
      ]
     },
     "execution_count": 42,
     "metadata": {},
     "output_type": "execute_result"
    }
   ],
   "source": [
    "Gender_data"
   ]
  },
  {
   "cell_type": "code",
   "execution_count": 43,
   "metadata": {
    "collapsed": false,
    "deletable": true,
    "editable": true
   },
   "outputs": [
    {
     "data": {
      "application/vnd.plotly.v1+json": {
       "data": [
        {
         "name": "Male",
         "text": [
          "M",
          "M",
          "M",
          "M"
         ],
         "type": "bar",
         "x": [
          "Diabetes",
          "Alcoholism",
          "Hipertension",
          "Handcap"
         ],
         "y": [
          2337,
          2137,
          6462,
          1053
         ]
        },
        {
         "name": "Female",
         "text": [
          "F",
          "F",
          "F",
          "F"
         ],
         "type": "bar",
         "x": [
          "Diabetes",
          "Alcoholism",
          "Hipertension",
          "Handcap"
         ],
         "y": [
          5606,
          1223,
          15338,
          1400
         ]
        }
       ],
       "layout": {
        "barmode": "group",
        "title": "Diseases by Gender",
        "xaxis": {
         "title": "Diseases"
        },
        "yaxis": {
         "title": "Total no of cases"
        }
       }
      },
      "text/html": [
       "<div id=\"b656bb1c-f2ae-44b5-aecd-9849a317e64c\" style=\"height: 525px; width: 100%;\" class=\"plotly-graph-div\"></div><script type=\"text/javascript\">require([\"plotly\"], function(Plotly) { window.PLOTLYENV=window.PLOTLYENV || {};window.PLOTLYENV.BASE_URL=\"https://plot.ly\";Plotly.newPlot(\"b656bb1c-f2ae-44b5-aecd-9849a317e64c\", [{\"type\": \"bar\", \"x\": [\"Diabetes\", \"Alcoholism\", \"Hipertension\", \"Handcap\"], \"y\": [2337, 2137, 6462, 1053], \"text\": [\"M\", \"M\", \"M\", \"M\"], \"name\": \"Male\"}, {\"type\": \"bar\", \"x\": [\"Diabetes\", \"Alcoholism\", \"Hipertension\", \"Handcap\"], \"y\": [5606, 1223, 15338, 1400], \"text\": [\"F\", \"F\", \"F\", \"F\"], \"name\": \"Female\"}], {\"title\": \"Diseases by Gender\", \"barmode\": \"group\", \"xaxis\": {\"title\": \"Diseases\"}, \"yaxis\": {\"title\": \"Total no of cases\"}}, {\"showLink\": true, \"linkText\": \"Export to plot.ly\"})});</script>"
      ],
      "text/vnd.plotly.v1+html": [
       "<div id=\"b656bb1c-f2ae-44b5-aecd-9849a317e64c\" style=\"height: 525px; width: 100%;\" class=\"plotly-graph-div\"></div><script type=\"text/javascript\">require([\"plotly\"], function(Plotly) { window.PLOTLYENV=window.PLOTLYENV || {};window.PLOTLYENV.BASE_URL=\"https://plot.ly\";Plotly.newPlot(\"b656bb1c-f2ae-44b5-aecd-9849a317e64c\", [{\"type\": \"bar\", \"x\": [\"Diabetes\", \"Alcoholism\", \"Hipertension\", \"Handcap\"], \"y\": [2337, 2137, 6462, 1053], \"text\": [\"M\", \"M\", \"M\", \"M\"], \"name\": \"Male\"}, {\"type\": \"bar\", \"x\": [\"Diabetes\", \"Alcoholism\", \"Hipertension\", \"Handcap\"], \"y\": [5606, 1223, 15338, 1400], \"text\": [\"F\", \"F\", \"F\", \"F\"], \"name\": \"Female\"}], {\"title\": \"Diseases by Gender\", \"barmode\": \"group\", \"xaxis\": {\"title\": \"Diseases\"}, \"yaxis\": {\"title\": \"Total no of cases\"}}, {\"showLink\": true, \"linkText\": \"Export to plot.ly\"})});</script>"
      ]
     },
     "metadata": {},
     "output_type": "display_data"
    }
   ],
   "source": [
    "Male = Gender_data[Gender_data['Gender'] == 'M']\n",
    "Female = Gender_data[Gender_data['Gender'] == 'F']\n",
    "\n",
    "trace0 = go.Bar(\n",
    "    x= Male['Category'],\n",
    "    y=Male['Total'],\n",
    "    text=Male['Gender'],\n",
    "    name=\"Male\")\n",
    "\n",
    "trace1 = go.Bar(\n",
    "    x= Female['Category'],\n",
    "    y=Female['Total'],\n",
    "    text=Female['Gender'],\n",
    "    name=\"Female\")\n",
    "\n",
    "\n",
    "layout = dict(title = \"Diseases by Gender\",barmode='group',xaxis=dict({\"title\":\"Diseases\"}),\n",
    "             yaxis=dict({\"title\":\"Total no of cases\"}))\n",
    "dat = [trace0,trace1]\n",
    "fig = go.Figure(data=dat,layout=layout)\n",
    "iplot(fig,filename='grouped-bar')"
   ]
  },
  {
   "cell_type": "markdown",
   "metadata": {
    "collapsed": true,
    "deletable": true,
    "editable": true
   },
   "source": [
    "### Correlation between different features"
   ]
  },
  {
   "cell_type": "code",
   "execution_count": 46,
   "metadata": {
    "collapsed": false
   },
   "outputs": [
    {
     "data": {
      "image/png": "[encoded data removed]",
      "text/plain": [
       "<matplotlib.figure.Figure at 0x25c32596128>"
      ]
     },
     "metadata": {},
     "output_type": "display_data"
    }
   ],
   "source": [
    "corrilation_matrix = noshow_df.corr()\n",
    "plt.figure(figsize=(11,11))\n",
    "sns.heatmap(corrilation_matrix, cmap = 'viridis', annot=True)\n",
    "plt.title('Correlation between different features')\n",
    "plt.show()"
   ]
  },
  {
   "cell_type": "code",
   "execution_count": null,
   "metadata": {
    "collapsed": true
   },
   "outputs": [],
   "source": []
  }
 ],
 "metadata": {
  "kernelspec": {
   "display_name": "Python 3",
   "language": "python",
   "name": "python3"
  },
  "language_info": {
   "codemirror_mode": {
    "name": "ipython",
    "version": 3
   },
   "file_extension": ".py",
   "mimetype": "text/x-python",
   "name": "python",
   "nbconvert_exporter": "python",
   "pygments_lexer": "ipython3",
   "version": "3.6.0"
  }
 },
 "nbformat": 4,
 "nbformat_minor": 2
}
