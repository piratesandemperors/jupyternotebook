{
 "cells": [
  {
   "cell_type": "markdown",
   "metadata": {
    "deletable": true,
    "editable": true
   },
   "source": [
    "### Project 3: Investigate a Dataset\n"
   ]
  },
  {
   "cell_type": "markdown",
   "metadata": {
    "collapsed": true,
    "deletable": true,
    "editable": true
   },
   "source": [
    "#### Dataset: Medical Appointment No Shows \n",
    "##### Source: **[Kaggle(Medical Appointment No Shows)](https://www.kaggle.com/joniarroba/noshowappointments/data)**\n",
    "#### By : Vishal Kandagatla\n",
    "#### Contents\n",
    " 1. Introduction\n",
    " 2. Data Cleaning and Wrangling\n",
    " 3. Exploratory Data Analysis\n",
    " 4. Conclusion\n",
    " 5. Drawbacks"
   ]
  },
  {
   "cell_type": "markdown",
   "metadata": {
    "deletable": true,
    "editable": true
   },
   "source": [
    "### 1. Introduction \n",
    "The dataset consists of 100k medical appointment records of patients in brazil who show-up and do not show-up for the appointment. This analysis tries to identify patterns in data leading to No-Show and investigates variables in the dataset.\n",
    "#### Dependent variables\n",
    "* No Show\n",
    "\n",
    "#### Independent Variables\n",
    "* Neighborhood\n",
    "* Age\n",
    "* Gender\n",
    "* Scheduled Day\n",
    "* Appointment Day\n",
    "* Scholarship\n",
    "* Medical Conditions\n",
    "* SMS_received"
   ]
  },
  {
   "cell_type": "code",
   "execution_count": 1,
   "metadata": {
    "collapsed": false,
    "deletable": true,
    "editable": true
   },
   "outputs": [
    {
     "name": "stderr",
     "output_type": "stream",
     "text": [
      "C:\\Users\\kvish\\Anaconda3\\lib\\site-packages\\plotly\\tools.py:103: UserWarning:\n",
      "\n",
      "Looks like you don't have 'read-write' permission to your 'home' ('~') directory or to our '~/.plotly' directory. That means plotly's python api can't setup local configuration files. No problem though! You'll just have to sign-in using 'plotly.plotly.sign_in()'. For help with that: 'help(plotly.plotly.sign_in)'.\n",
      "Questions? Visit https://support.plot.ly\n",
      "\n"
     ]
    },
    {
     "data": {
      "text/html": [
       "<script>requirejs.config({paths: { 'plotly': ['https://cdn.plot.ly/plotly-latest.min']},});if(!window.Plotly) {{require(['plotly'],function(plotly) {window.Plotly=plotly;});}}</script>"
      ],
      "text/vnd.plotly.v1+html": [
       "<script>requirejs.config({paths: { 'plotly': ['https://cdn.plot.ly/plotly-latest.min']},});if(!window.Plotly) {{require(['plotly'],function(plotly) {window.Plotly=plotly;});}}</script>"
      ]
     },
     "metadata": {},
     "output_type": "display_data"
    }
   ],
   "source": [
    "#Importing libraries\n",
    "import pandas as pd\n",
    "import numpy as np\n",
    "import datetime as dt\n",
    "import seaborn as sns\n",
    "from plotly.offline import init_notebook_mode,iplot,iplot_mpl,download_plotlyjs,enable_mpl_offline\n",
    "import plotly.graph_objs as go\n",
    "import matplotlib.pyplot as plt\n",
    "init_notebook_mode(connected=True)\n",
    "%matplotlib inline"
   ]
  },
  {
   "cell_type": "code",
   "execution_count": 2,
   "metadata": {
    "collapsed": true,
    "deletable": true,
    "editable": true
   },
   "outputs": [],
   "source": [
    "# Reading the input file\n",
    "noshow_df = pd.read_csv('noshowappointments-kagglev2-may-2016.csv')"
   ]
  },
  {
   "cell_type": "code",
   "execution_count": 3,
   "metadata": {
    "collapsed": false,
    "deletable": true,
    "editable": true
   },
   "outputs": [
    {
     "name": "stdout",
     "output_type": "stream",
     "text": [
      "<class 'pandas.core.frame.DataFrame'>\n",
      "RangeIndex: 110527 entries, 0 to 110526\n",
      "Data columns (total 14 columns):\n",
      "PatientId         110527 non-null float64\n",
      "AppointmentID     110527 non-null int64\n",
      "Gender            110527 non-null object\n",
      "ScheduledDay      110527 non-null object\n",
      "AppointmentDay    110527 non-null object\n",
      "Age               110527 non-null int64\n",
      "Neighbourhood     110527 non-null object\n",
      "Scholarship       110527 non-null int64\n",
      "Hipertension      110527 non-null int64\n",
      "Diabetes          110527 non-null int64\n",
      "Alcoholism        110527 non-null int64\n",
      "Handcap           110527 non-null int64\n",
      "SMS_received      110527 non-null int64\n",
      "No-show           110527 non-null object\n",
      "dtypes: float64(1), int64(8), object(5)\n",
      "memory usage: 11.8+ MB\n"
     ]
    }
   ],
   "source": [
    "noshow_df.info()"
   ]
  },
  {
   "cell_type": "markdown",
   "metadata": {
    "deletable": true,
    "editable": true
   },
   "source": [
    "There are no missing values in rows, so no rows need to be removed from the data. Not all columns are needed for analysis. I will be removing few columns and creating few columns for ease of analysis in further steps."
   ]
  },
  {
   "cell_type": "code",
   "execution_count": 4,
   "metadata": {
    "collapsed": false,
    "deletable": true,
    "editable": true
   },
   "outputs": [
    {
     "data": {
      "text/plain": [
       "PatientId         float64\n",
       "AppointmentID       int64\n",
       "Gender             object\n",
       "ScheduledDay       object\n",
       "AppointmentDay     object\n",
       "Age                 int64\n",
       "Neighbourhood      object\n",
       "Scholarship         int64\n",
       "Hipertension        int64\n",
       "Diabetes            int64\n",
       "Alcoholism          int64\n",
       "Handcap             int64\n",
       "SMS_received        int64\n",
       "No-show            object\n",
       "dtype: object"
      ]
     },
     "execution_count": 4,
     "metadata": {},
     "output_type": "execute_result"
    }
   ],
   "source": [
    "# checking data types\n",
    "noshow_df.dtypes"
   ]
  },
  {
   "cell_type": "code",
   "execution_count": 5,
   "metadata": {
    "collapsed": false,
    "deletable": true,
    "editable": true
   },
   "outputs": [
    {
     "name": "stdout",
     "output_type": "stream",
     "text": [
      "Age:  [-1, 0, 1, 2, 3, 4, 5, 6, 7, 8, 9, 10, 11, 12, 13, 14, 15, 16, 17, 18, 19, 20, 21, 22, 23, 24, 25, 26, 27, 28, 29, 30, 31, 32, 33, 34, 35, 36, 37, 38, 39, 40, 41, 42, 43, 44, 45, 46, 47, 48, 49, 50, 51, 52, 53, 54, 55, 56, 57, 58, 59, 60, 61, 62, 63, 64, 65, 66, 67, 68, 69, 70, 71, 72, 73, 74, 75, 76, 77, 78, 79, 80, 81, 82, 83, 84, 85, 86, 87, 88, 89, 90, 91, 92, 93, 94, 95, 96, 97, 98, 99, 100, 102, 115]\n",
      "Alcoholism:  [0, 1]\n",
      "Diabetes:  [0, 1]\n",
      "Gender:  ['F', 'M']\n",
      "Handcap:  [0, 1, 2, 3, 4]\n",
      "Hipertension:  [0, 1]\n",
      "Scholarship:  [0, 1]\n",
      "SMS_received: [0, 1]\n"
     ]
    }
   ],
   "source": [
    "# cheking for uniques values among few variables\n",
    "\n",
    "print('Age: ', sorted (noshow_df.Age.unique()))\n",
    "print('Alcoholism: ', sorted (noshow_df.Alcoholism.unique()))\n",
    "print('Diabetes: ', sorted (noshow_df.Diabetes.unique()))\n",
    "print('Gender: ', sorted (noshow_df.Gender.unique()))\n",
    "print('Handcap: ', sorted (noshow_df.Handcap.unique()))\n",
    "print('Hipertension: ', sorted (noshow_df.Hipertension.unique()))\n",
    "print('Scholarship: ', sorted (noshow_df.Scholarship.unique()))\n",
    "print('SMS_received:', sorted (noshow_df.SMS_received.unique()))"
   ]
  },
  {
   "cell_type": "code",
   "execution_count": 6,
   "metadata": {
    "collapsed": false,
    "deletable": true,
    "editable": true
   },
   "outputs": [
    {
     "data": {
      "text/html": [
       "<div>\n",
       "<table border=\"1\" class=\"dataframe\">\n",
       "  <thead>\n",
       "    <tr style=\"text-align: right;\">\n",
       "      <th></th>\n",
       "      <th>PatientId</th>\n",
       "      <th>AppointmentID</th>\n",
       "      <th>Gender</th>\n",
       "      <th>ScheduledDay</th>\n",
       "      <th>AppointmentDay</th>\n",
       "      <th>Age</th>\n",
       "      <th>Neighbourhood</th>\n",
       "      <th>Scholarship</th>\n",
       "      <th>Hipertension</th>\n",
       "      <th>Diabetes</th>\n",
       "      <th>Alcoholism</th>\n",
       "      <th>Handcap</th>\n",
       "      <th>SMS_received</th>\n",
       "      <th>No-show</th>\n",
       "    </tr>\n",
       "  </thead>\n",
       "  <tbody>\n",
       "    <tr>\n",
       "      <th>0</th>\n",
       "      <td>2.987250e+13</td>\n",
       "      <td>5642903</td>\n",
       "      <td>F</td>\n",
       "      <td>2016-04-29T18:38:08Z</td>\n",
       "      <td>2016-04-29T00:00:00Z</td>\n",
       "      <td>62</td>\n",
       "      <td>JARDIM DA PENHA</td>\n",
       "      <td>0</td>\n",
       "      <td>1</td>\n",
       "      <td>0</td>\n",
       "      <td>0</td>\n",
       "      <td>0</td>\n",
       "      <td>0</td>\n",
       "      <td>No</td>\n",
       "    </tr>\n",
       "    <tr>\n",
       "      <th>1</th>\n",
       "      <td>5.589978e+14</td>\n",
       "      <td>5642503</td>\n",
       "      <td>M</td>\n",
       "      <td>2016-04-29T16:08:27Z</td>\n",
       "      <td>2016-04-29T00:00:00Z</td>\n",
       "      <td>56</td>\n",
       "      <td>JARDIM DA PENHA</td>\n",
       "      <td>0</td>\n",
       "      <td>0</td>\n",
       "      <td>0</td>\n",
       "      <td>0</td>\n",
       "      <td>0</td>\n",
       "      <td>0</td>\n",
       "      <td>No</td>\n",
       "    </tr>\n",
       "    <tr>\n",
       "      <th>2</th>\n",
       "      <td>4.262962e+12</td>\n",
       "      <td>5642549</td>\n",
       "      <td>F</td>\n",
       "      <td>2016-04-29T16:19:04Z</td>\n",
       "      <td>2016-04-29T00:00:00Z</td>\n",
       "      <td>62</td>\n",
       "      <td>MATA DA PRAIA</td>\n",
       "      <td>0</td>\n",
       "      <td>0</td>\n",
       "      <td>0</td>\n",
       "      <td>0</td>\n",
       "      <td>0</td>\n",
       "      <td>0</td>\n",
       "      <td>No</td>\n",
       "    </tr>\n",
       "    <tr>\n",
       "      <th>3</th>\n",
       "      <td>8.679512e+11</td>\n",
       "      <td>5642828</td>\n",
       "      <td>F</td>\n",
       "      <td>2016-04-29T17:29:31Z</td>\n",
       "      <td>2016-04-29T00:00:00Z</td>\n",
       "      <td>8</td>\n",
       "      <td>PONTAL DE CAMBURI</td>\n",
       "      <td>0</td>\n",
       "      <td>0</td>\n",
       "      <td>0</td>\n",
       "      <td>0</td>\n",
       "      <td>0</td>\n",
       "      <td>0</td>\n",
       "      <td>No</td>\n",
       "    </tr>\n",
       "    <tr>\n",
       "      <th>4</th>\n",
       "      <td>8.841186e+12</td>\n",
       "      <td>5642494</td>\n",
       "      <td>F</td>\n",
       "      <td>2016-04-29T16:07:23Z</td>\n",
       "      <td>2016-04-29T00:00:00Z</td>\n",
       "      <td>56</td>\n",
       "      <td>JARDIM DA PENHA</td>\n",
       "      <td>0</td>\n",
       "      <td>1</td>\n",
       "      <td>1</td>\n",
       "      <td>0</td>\n",
       "      <td>0</td>\n",
       "      <td>0</td>\n",
       "      <td>No</td>\n",
       "    </tr>\n",
       "  </tbody>\n",
       "</table>\n",
       "</div>"
      ],
      "text/plain": [
       "      PatientId  AppointmentID Gender          ScheduledDay  \\\n",
       "0  2.987250e+13        5642903      F  2016-04-29T18:38:08Z   \n",
       "1  5.589978e+14        5642503      M  2016-04-29T16:08:27Z   \n",
       "2  4.262962e+12        5642549      F  2016-04-29T16:19:04Z   \n",
       "3  8.679512e+11        5642828      F  2016-04-29T17:29:31Z   \n",
       "4  8.841186e+12        5642494      F  2016-04-29T16:07:23Z   \n",
       "\n",
       "         AppointmentDay  Age      Neighbourhood  Scholarship  Hipertension  \\\n",
       "0  2016-04-29T00:00:00Z   62    JARDIM DA PENHA            0             1   \n",
       "1  2016-04-29T00:00:00Z   56    JARDIM DA PENHA            0             0   \n",
       "2  2016-04-29T00:00:00Z   62      MATA DA PRAIA            0             0   \n",
       "3  2016-04-29T00:00:00Z    8  PONTAL DE CAMBURI            0             0   \n",
       "4  2016-04-29T00:00:00Z   56    JARDIM DA PENHA            0             1   \n",
       "\n",
       "   Diabetes  Alcoholism  Handcap  SMS_received No-show  \n",
       "0         0           0        0             0      No  \n",
       "1         0           0        0             0      No  \n",
       "2         0           0        0             0      No  \n",
       "3         0           0        0             0      No  \n",
       "4         1           0        0             0      No  "
      ]
     },
     "execution_count": 6,
     "metadata": {},
     "output_type": "execute_result"
    }
   ],
   "source": [
    "noshow_df.head()"
   ]
  },
  {
   "cell_type": "markdown",
   "metadata": {
    "deletable": true,
    "editable": true
   },
   "source": [
    "* Among the above variables Age has outliers few of them being -1 and few above 100\n",
    "* ScheduledDay: The day someone called or registered the appointment\n",
    "* AppointmentDay: The day of the actuall appointment, when they have to visit the doctor\n",
    "* Neighbourhood: Where the appointment takes place\n",
    "* various medical conditions (0: Having no condition, 1: Having condition) \n",
    "* No-show (No: Showed up ,Yes: Didnt Show up)\n",
    "* Gender (M: Male, F: Female)\n",
    "* Handicap (0: No disability, 1: Mild, 2: Moderate, 3: Severe ,4: Profund )\n",
    "* SMS_received:(0: Not received,1: Received)\n",
    "* Scholorship:(0: Not received,1: Received)"
   ]
  },
  {
   "cell_type": "markdown",
   "metadata": {
    "deletable": true,
    "editable": true
   },
   "source": [
    "### 2. Data Cleaning and Wrangling"
   ]
  },
  {
   "cell_type": "markdown",
   "metadata": {
    "deletable": true,
    "editable": true
   },
   "source": [
    " #### Renaming column names"
   ]
  },
  {
   "cell_type": "code",
   "execution_count": 7,
   "metadata": {
    "collapsed": true,
    "deletable": true,
    "editable": true
   },
   "outputs": [],
   "source": [
    "#renaming the column name to avoid confusion \n",
    "noshow_df.rename(columns={'No-show': 'Status','Hipertension': \"Hypertension\", \"Handcap\": \"Handicap\" }, inplace=True)"
   ]
  },
  {
   "cell_type": "markdown",
   "metadata": {
    "deletable": true,
    "editable": true
   },
   "source": [
    "#### Removing outliers in age , categorizing them into groups"
   ]
  },
  {
   "cell_type": "code",
   "execution_count": 8,
   "metadata": {
    "collapsed": true,
    "deletable": true,
    "editable": true
   },
   "outputs": [],
   "source": [
    "# Removing negetive ages and ages above 100\n",
    "noshow_df = noshow_df[(noshow_df['Age']>=0) & (noshow_df['Age']<100)]"
   ]
  },
  {
   "cell_type": "code",
   "execution_count": 9,
   "metadata": {
    "collapsed": true,
    "deletable": true,
    "editable": true
   },
   "outputs": [],
   "source": [
    "# categorizing ages\n",
    "def ageGroup(x):\n",
    "    if x < 10:\n",
    "        return \"Kids\"\n",
    "    elif x >= 10 and x <=18:\n",
    "        return \"Teens\"\n",
    "    elif x >18 and x <= 35:\n",
    "        return \"Young Adults\"\n",
    "    elif x >35 and x <= 65:\n",
    "        return \"Older Adults\"\n",
    "    else:\n",
    "        return \"Seniors\""
   ]
  },
  {
   "cell_type": "code",
   "execution_count": 10,
   "metadata": {
    "collapsed": false,
    "deletable": true,
    "editable": true
   },
   "outputs": [],
   "source": [
    "noshow_df['AgeGroup'] = noshow_df['Age'].apply(ageGroup)"
   ]
  },
  {
   "cell_type": "markdown",
   "metadata": {
    "deletable": true,
    "editable": true
   },
   "source": [
    "#### Changing values in status"
   ]
  },
  {
   "cell_type": "code",
   "execution_count": 11,
   "metadata": {
    "collapsed": false,
    "deletable": true,
    "editable": true
   },
   "outputs": [
    {
     "data": {
      "text/html": [
       "<div>\n",
       "<table border=\"1\" class=\"dataframe\">\n",
       "  <thead>\n",
       "    <tr style=\"text-align: right;\">\n",
       "      <th></th>\n",
       "      <th>PatientId</th>\n",
       "      <th>AppointmentID</th>\n",
       "      <th>Gender</th>\n",
       "      <th>ScheduledDay</th>\n",
       "      <th>AppointmentDay</th>\n",
       "      <th>Age</th>\n",
       "      <th>Neighbourhood</th>\n",
       "      <th>Scholarship</th>\n",
       "      <th>Hypertension</th>\n",
       "      <th>Diabetes</th>\n",
       "      <th>Alcoholism</th>\n",
       "      <th>Handicap</th>\n",
       "      <th>SMS_received</th>\n",
       "      <th>Status</th>\n",
       "      <th>AgeGroup</th>\n",
       "    </tr>\n",
       "  </thead>\n",
       "  <tbody>\n",
       "    <tr>\n",
       "      <th>0</th>\n",
       "      <td>2.987250e+13</td>\n",
       "      <td>5642903</td>\n",
       "      <td>F</td>\n",
       "      <td>2016-04-29T18:38:08Z</td>\n",
       "      <td>2016-04-29T00:00:00Z</td>\n",
       "      <td>62</td>\n",
       "      <td>JARDIM DA PENHA</td>\n",
       "      <td>0</td>\n",
       "      <td>1</td>\n",
       "      <td>0</td>\n",
       "      <td>0</td>\n",
       "      <td>0</td>\n",
       "      <td>0</td>\n",
       "      <td>Show-Up</td>\n",
       "      <td>Older Adults</td>\n",
       "    </tr>\n",
       "    <tr>\n",
       "      <th>1</th>\n",
       "      <td>5.589978e+14</td>\n",
       "      <td>5642503</td>\n",
       "      <td>M</td>\n",
       "      <td>2016-04-29T16:08:27Z</td>\n",
       "      <td>2016-04-29T00:00:00Z</td>\n",
       "      <td>56</td>\n",
       "      <td>JARDIM DA PENHA</td>\n",
       "      <td>0</td>\n",
       "      <td>0</td>\n",
       "      <td>0</td>\n",
       "      <td>0</td>\n",
       "      <td>0</td>\n",
       "      <td>0</td>\n",
       "      <td>Show-Up</td>\n",
       "      <td>Older Adults</td>\n",
       "    </tr>\n",
       "    <tr>\n",
       "      <th>2</th>\n",
       "      <td>4.262962e+12</td>\n",
       "      <td>5642549</td>\n",
       "      <td>F</td>\n",
       "      <td>2016-04-29T16:19:04Z</td>\n",
       "      <td>2016-04-29T00:00:00Z</td>\n",
       "      <td>62</td>\n",
       "      <td>MATA DA PRAIA</td>\n",
       "      <td>0</td>\n",
       "      <td>0</td>\n",
       "      <td>0</td>\n",
       "      <td>0</td>\n",
       "      <td>0</td>\n",
       "      <td>0</td>\n",
       "      <td>Show-Up</td>\n",
       "      <td>Older Adults</td>\n",
       "    </tr>\n",
       "    <tr>\n",
       "      <th>3</th>\n",
       "      <td>8.679512e+11</td>\n",
       "      <td>5642828</td>\n",
       "      <td>F</td>\n",
       "      <td>2016-04-29T17:29:31Z</td>\n",
       "      <td>2016-04-29T00:00:00Z</td>\n",
       "      <td>8</td>\n",
       "      <td>PONTAL DE CAMBURI</td>\n",
       "      <td>0</td>\n",
       "      <td>0</td>\n",
       "      <td>0</td>\n",
       "      <td>0</td>\n",
       "      <td>0</td>\n",
       "      <td>0</td>\n",
       "      <td>Show-Up</td>\n",
       "      <td>Kids</td>\n",
       "    </tr>\n",
       "    <tr>\n",
       "      <th>4</th>\n",
       "      <td>8.841186e+12</td>\n",
       "      <td>5642494</td>\n",
       "      <td>F</td>\n",
       "      <td>2016-04-29T16:07:23Z</td>\n",
       "      <td>2016-04-29T00:00:00Z</td>\n",
       "      <td>56</td>\n",
       "      <td>JARDIM DA PENHA</td>\n",
       "      <td>0</td>\n",
       "      <td>1</td>\n",
       "      <td>1</td>\n",
       "      <td>0</td>\n",
       "      <td>0</td>\n",
       "      <td>0</td>\n",
       "      <td>Show-Up</td>\n",
       "      <td>Older Adults</td>\n",
       "    </tr>\n",
       "  </tbody>\n",
       "</table>\n",
       "</div>"
      ],
      "text/plain": [
       "      PatientId  AppointmentID Gender          ScheduledDay  \\\n",
       "0  2.987250e+13        5642903      F  2016-04-29T18:38:08Z   \n",
       "1  5.589978e+14        5642503      M  2016-04-29T16:08:27Z   \n",
       "2  4.262962e+12        5642549      F  2016-04-29T16:19:04Z   \n",
       "3  8.679512e+11        5642828      F  2016-04-29T17:29:31Z   \n",
       "4  8.841186e+12        5642494      F  2016-04-29T16:07:23Z   \n",
       "\n",
       "         AppointmentDay  Age      Neighbourhood  Scholarship  Hypertension  \\\n",
       "0  2016-04-29T00:00:00Z   62    JARDIM DA PENHA            0             1   \n",
       "1  2016-04-29T00:00:00Z   56    JARDIM DA PENHA            0             0   \n",
       "2  2016-04-29T00:00:00Z   62      MATA DA PRAIA            0             0   \n",
       "3  2016-04-29T00:00:00Z    8  PONTAL DE CAMBURI            0             0   \n",
       "4  2016-04-29T00:00:00Z   56    JARDIM DA PENHA            0             1   \n",
       "\n",
       "   Diabetes  Alcoholism  Handicap  SMS_received   Status      AgeGroup  \n",
       "0         0           0         0             0  Show-Up  Older Adults  \n",
       "1         0           0         0             0  Show-Up  Older Adults  \n",
       "2         0           0         0             0  Show-Up  Older Adults  \n",
       "3         0           0         0             0  Show-Up          Kids  \n",
       "4         1           0         0             0  Show-Up  Older Adults  "
      ]
     },
     "execution_count": 11,
     "metadata": {},
     "output_type": "execute_result"
    }
   ],
   "source": [
    "# changing the values of status to avoid confusion\n",
    "# No: Show-Up, Yes: No-Show\n",
    "noshow_df['Status'] = noshow_df.Status.apply(lambda x: 'No-Show' if x=='Yes' else 'Show-Up')\n",
    "noshow_df.head()"
   ]
  },
  {
   "cell_type": "markdown",
   "metadata": {
    "deletable": true,
    "editable": true
   },
   "source": [
    "#### Formatting Dates"
   ]
  },
  {
   "cell_type": "code",
   "execution_count": 12,
   "metadata": {
    "collapsed": true,
    "deletable": true,
    "editable": true
   },
   "outputs": [],
   "source": [
    "# converting dates to datetime format \n",
    "noshow_df['Registration_Date'] = noshow_df['ScheduledDay'].str.split('T').str[0]\n",
    "noshow_df['Registration_Date'] = noshow_df['Registration_Date'].astype('datetime64[ns]')\n",
    "noshow_df['RegistrationTime'] = noshow_df['ScheduledDay'].str.split('T').str[-1].str.replace('Z','')\n",
    "noshow_df['Appointment_Date'] = noshow_df['AppointmentDay'].str.split('T').str[0]\n",
    "noshow_df['Appointment_Date'] = noshow_df['Appointment_Date'].astype('datetime64[ns]')"
   ]
  },
  {
   "cell_type": "code",
   "execution_count": 13,
   "metadata": {
    "collapsed": false,
    "deletable": true,
    "editable": true
   },
   "outputs": [
    {
     "data": {
      "text/html": [
       "<div>\n",
       "<table border=\"1\" class=\"dataframe\">\n",
       "  <thead>\n",
       "    <tr style=\"text-align: right;\">\n",
       "      <th></th>\n",
       "      <th>PatientId</th>\n",
       "      <th>AppointmentID</th>\n",
       "      <th>Gender</th>\n",
       "      <th>ScheduledDay</th>\n",
       "      <th>AppointmentDay</th>\n",
       "      <th>Age</th>\n",
       "      <th>Neighbourhood</th>\n",
       "      <th>Scholarship</th>\n",
       "      <th>Hypertension</th>\n",
       "      <th>Diabetes</th>\n",
       "      <th>...</th>\n",
       "      <th>SMS_received</th>\n",
       "      <th>Status</th>\n",
       "      <th>AgeGroup</th>\n",
       "      <th>Registration_Date</th>\n",
       "      <th>RegistrationTime</th>\n",
       "      <th>Appointment_Date</th>\n",
       "      <th>AppointmentMonth</th>\n",
       "      <th>DayOfWeek</th>\n",
       "      <th>HourOfDay</th>\n",
       "      <th>WaitingDays</th>\n",
       "    </tr>\n",
       "  </thead>\n",
       "  <tbody>\n",
       "    <tr>\n",
       "      <th>0</th>\n",
       "      <td>2.987250e+13</td>\n",
       "      <td>5642903</td>\n",
       "      <td>F</td>\n",
       "      <td>2016-04-29T18:38:08Z</td>\n",
       "      <td>2016-04-29T00:00:00Z</td>\n",
       "      <td>62</td>\n",
       "      <td>JARDIM DA PENHA</td>\n",
       "      <td>0</td>\n",
       "      <td>1</td>\n",
       "      <td>0</td>\n",
       "      <td>...</td>\n",
       "      <td>0</td>\n",
       "      <td>Show-Up</td>\n",
       "      <td>Older Adults</td>\n",
       "      <td>2016-04-29</td>\n",
       "      <td>18:38:08</td>\n",
       "      <td>2016-04-29</td>\n",
       "      <td>4</td>\n",
       "      <td>5</td>\n",
       "      <td>18</td>\n",
       "      <td>0</td>\n",
       "    </tr>\n",
       "    <tr>\n",
       "      <th>1</th>\n",
       "      <td>5.589978e+14</td>\n",
       "      <td>5642503</td>\n",
       "      <td>M</td>\n",
       "      <td>2016-04-29T16:08:27Z</td>\n",
       "      <td>2016-04-29T00:00:00Z</td>\n",
       "      <td>56</td>\n",
       "      <td>JARDIM DA PENHA</td>\n",
       "      <td>0</td>\n",
       "      <td>0</td>\n",
       "      <td>0</td>\n",
       "      <td>...</td>\n",
       "      <td>0</td>\n",
       "      <td>Show-Up</td>\n",
       "      <td>Older Adults</td>\n",
       "      <td>2016-04-29</td>\n",
       "      <td>16:08:27</td>\n",
       "      <td>2016-04-29</td>\n",
       "      <td>4</td>\n",
       "      <td>5</td>\n",
       "      <td>16</td>\n",
       "      <td>0</td>\n",
       "    </tr>\n",
       "    <tr>\n",
       "      <th>2</th>\n",
       "      <td>4.262962e+12</td>\n",
       "      <td>5642549</td>\n",
       "      <td>F</td>\n",
       "      <td>2016-04-29T16:19:04Z</td>\n",
       "      <td>2016-04-29T00:00:00Z</td>\n",
       "      <td>62</td>\n",
       "      <td>MATA DA PRAIA</td>\n",
       "      <td>0</td>\n",
       "      <td>0</td>\n",
       "      <td>0</td>\n",
       "      <td>...</td>\n",
       "      <td>0</td>\n",
       "      <td>Show-Up</td>\n",
       "      <td>Older Adults</td>\n",
       "      <td>2016-04-29</td>\n",
       "      <td>16:19:04</td>\n",
       "      <td>2016-04-29</td>\n",
       "      <td>4</td>\n",
       "      <td>5</td>\n",
       "      <td>16</td>\n",
       "      <td>0</td>\n",
       "    </tr>\n",
       "    <tr>\n",
       "      <th>3</th>\n",
       "      <td>8.679512e+11</td>\n",
       "      <td>5642828</td>\n",
       "      <td>F</td>\n",
       "      <td>2016-04-29T17:29:31Z</td>\n",
       "      <td>2016-04-29T00:00:00Z</td>\n",
       "      <td>8</td>\n",
       "      <td>PONTAL DE CAMBURI</td>\n",
       "      <td>0</td>\n",
       "      <td>0</td>\n",
       "      <td>0</td>\n",
       "      <td>...</td>\n",
       "      <td>0</td>\n",
       "      <td>Show-Up</td>\n",
       "      <td>Kids</td>\n",
       "      <td>2016-04-29</td>\n",
       "      <td>17:29:31</td>\n",
       "      <td>2016-04-29</td>\n",
       "      <td>4</td>\n",
       "      <td>5</td>\n",
       "      <td>17</td>\n",
       "      <td>0</td>\n",
       "    </tr>\n",
       "    <tr>\n",
       "      <th>4</th>\n",
       "      <td>8.841186e+12</td>\n",
       "      <td>5642494</td>\n",
       "      <td>F</td>\n",
       "      <td>2016-04-29T16:07:23Z</td>\n",
       "      <td>2016-04-29T00:00:00Z</td>\n",
       "      <td>56</td>\n",
       "      <td>JARDIM DA PENHA</td>\n",
       "      <td>0</td>\n",
       "      <td>1</td>\n",
       "      <td>1</td>\n",
       "      <td>...</td>\n",
       "      <td>0</td>\n",
       "      <td>Show-Up</td>\n",
       "      <td>Older Adults</td>\n",
       "      <td>2016-04-29</td>\n",
       "      <td>16:07:23</td>\n",
       "      <td>2016-04-29</td>\n",
       "      <td>4</td>\n",
       "      <td>5</td>\n",
       "      <td>16</td>\n",
       "      <td>0</td>\n",
       "    </tr>\n",
       "  </tbody>\n",
       "</table>\n",
       "<p>5 rows × 22 columns</p>\n",
       "</div>"
      ],
      "text/plain": [
       "      PatientId  AppointmentID Gender          ScheduledDay  \\\n",
       "0  2.987250e+13        5642903      F  2016-04-29T18:38:08Z   \n",
       "1  5.589978e+14        5642503      M  2016-04-29T16:08:27Z   \n",
       "2  4.262962e+12        5642549      F  2016-04-29T16:19:04Z   \n",
       "3  8.679512e+11        5642828      F  2016-04-29T17:29:31Z   \n",
       "4  8.841186e+12        5642494      F  2016-04-29T16:07:23Z   \n",
       "\n",
       "         AppointmentDay  Age      Neighbourhood  Scholarship  Hypertension  \\\n",
       "0  2016-04-29T00:00:00Z   62    JARDIM DA PENHA            0             1   \n",
       "1  2016-04-29T00:00:00Z   56    JARDIM DA PENHA            0             0   \n",
       "2  2016-04-29T00:00:00Z   62      MATA DA PRAIA            0             0   \n",
       "3  2016-04-29T00:00:00Z    8  PONTAL DE CAMBURI            0             0   \n",
       "4  2016-04-29T00:00:00Z   56    JARDIM DA PENHA            0             1   \n",
       "\n",
       "   Diabetes     ...       SMS_received   Status      AgeGroup  \\\n",
       "0         0     ...                  0  Show-Up  Older Adults   \n",
       "1         0     ...                  0  Show-Up  Older Adults   \n",
       "2         0     ...                  0  Show-Up  Older Adults   \n",
       "3         0     ...                  0  Show-Up          Kids   \n",
       "4         1     ...                  0  Show-Up  Older Adults   \n",
       "\n",
       "  Registration_Date RegistrationTime Appointment_Date AppointmentMonth  \\\n",
       "0        2016-04-29         18:38:08       2016-04-29                4   \n",
       "1        2016-04-29         16:08:27       2016-04-29                4   \n",
       "2        2016-04-29         16:19:04       2016-04-29                4   \n",
       "3        2016-04-29         17:29:31       2016-04-29                4   \n",
       "4        2016-04-29         16:07:23       2016-04-29                4   \n",
       "\n",
       "  DayOfWeek  HourOfDay  WaitingDays  \n",
       "0         5         18            0  \n",
       "1         5         16            0  \n",
       "2         5         16            0  \n",
       "3         5         17            0  \n",
       "4         5         16            0  \n",
       "\n",
       "[5 rows x 22 columns]"
      ]
     },
     "execution_count": 13,
     "metadata": {},
     "output_type": "execute_result"
    }
   ],
   "source": [
    "# creating columns for day and month of regestration and appointmnt\n",
    "noshow_df['AppointmentMonth'] = noshow_df['Appointment_Date'].dt.month\n",
    "noshow_df['DayOfWeek'] = pd.to_datetime(noshow_df['Appointment_Date']).apply(lambda x: x.isoweekday())\n",
    "noshow_df[\"HourOfDay\"]= pd.to_datetime(noshow_df.RegistrationTime).dt.hour\n",
    "#Gap Between appointment and sheduled day\n",
    "noshow_df['WaitingDays'] = (noshow_df.Appointment_Date-noshow_df.Registration_Date).dt.days\n",
    "noshow_df.head()"
   ]
  },
  {
   "cell_type": "markdown",
   "metadata": {
    "deletable": true,
    "editable": true
   },
   "source": [
    "#### Removing unwanted columns from the data"
   ]
  },
  {
   "cell_type": "code",
   "execution_count": 14,
   "metadata": {
    "collapsed": true,
    "deletable": true,
    "editable": true
   },
   "outputs": [],
   "source": [
    "noshow_df.drop(['PatientId','AppointmentID','AppointmentDay','ScheduledDay','RegistrationTime'],axis=1,inplace=True)"
   ]
  },
  {
   "cell_type": "code",
   "execution_count": 15,
   "metadata": {
    "collapsed": false,
    "deletable": true,
    "editable": true
   },
   "outputs": [
    {
     "data": {
      "text/html": [
       "<div>\n",
       "<table border=\"1\" class=\"dataframe\">\n",
       "  <thead>\n",
       "    <tr style=\"text-align: right;\">\n",
       "      <th></th>\n",
       "      <th>Gender</th>\n",
       "      <th>Age</th>\n",
       "      <th>Neighbourhood</th>\n",
       "      <th>Scholarship</th>\n",
       "      <th>Hypertension</th>\n",
       "      <th>Diabetes</th>\n",
       "      <th>Alcoholism</th>\n",
       "      <th>Handicap</th>\n",
       "      <th>SMS_received</th>\n",
       "      <th>Status</th>\n",
       "      <th>AgeGroup</th>\n",
       "      <th>Registration_Date</th>\n",
       "      <th>Appointment_Date</th>\n",
       "      <th>AppointmentMonth</th>\n",
       "      <th>DayOfWeek</th>\n",
       "      <th>HourOfDay</th>\n",
       "      <th>WaitingDays</th>\n",
       "    </tr>\n",
       "  </thead>\n",
       "  <tbody>\n",
       "    <tr>\n",
       "      <th>0</th>\n",
       "      <td>F</td>\n",
       "      <td>62</td>\n",
       "      <td>JARDIM DA PENHA</td>\n",
       "      <td>0</td>\n",
       "      <td>1</td>\n",
       "      <td>0</td>\n",
       "      <td>0</td>\n",
       "      <td>0</td>\n",
       "      <td>0</td>\n",
       "      <td>Show-Up</td>\n",
       "      <td>Older Adults</td>\n",
       "      <td>2016-04-29</td>\n",
       "      <td>2016-04-29</td>\n",
       "      <td>4</td>\n",
       "      <td>5</td>\n",
       "      <td>18</td>\n",
       "      <td>0</td>\n",
       "    </tr>\n",
       "    <tr>\n",
       "      <th>1</th>\n",
       "      <td>M</td>\n",
       "      <td>56</td>\n",
       "      <td>JARDIM DA PENHA</td>\n",
       "      <td>0</td>\n",
       "      <td>0</td>\n",
       "      <td>0</td>\n",
       "      <td>0</td>\n",
       "      <td>0</td>\n",
       "      <td>0</td>\n",
       "      <td>Show-Up</td>\n",
       "      <td>Older Adults</td>\n",
       "      <td>2016-04-29</td>\n",
       "      <td>2016-04-29</td>\n",
       "      <td>4</td>\n",
       "      <td>5</td>\n",
       "      <td>16</td>\n",
       "      <td>0</td>\n",
       "    </tr>\n",
       "    <tr>\n",
       "      <th>2</th>\n",
       "      <td>F</td>\n",
       "      <td>62</td>\n",
       "      <td>MATA DA PRAIA</td>\n",
       "      <td>0</td>\n",
       "      <td>0</td>\n",
       "      <td>0</td>\n",
       "      <td>0</td>\n",
       "      <td>0</td>\n",
       "      <td>0</td>\n",
       "      <td>Show-Up</td>\n",
       "      <td>Older Adults</td>\n",
       "      <td>2016-04-29</td>\n",
       "      <td>2016-04-29</td>\n",
       "      <td>4</td>\n",
       "      <td>5</td>\n",
       "      <td>16</td>\n",
       "      <td>0</td>\n",
       "    </tr>\n",
       "    <tr>\n",
       "      <th>3</th>\n",
       "      <td>F</td>\n",
       "      <td>8</td>\n",
       "      <td>PONTAL DE CAMBURI</td>\n",
       "      <td>0</td>\n",
       "      <td>0</td>\n",
       "      <td>0</td>\n",
       "      <td>0</td>\n",
       "      <td>0</td>\n",
       "      <td>0</td>\n",
       "      <td>Show-Up</td>\n",
       "      <td>Kids</td>\n",
       "      <td>2016-04-29</td>\n",
       "      <td>2016-04-29</td>\n",
       "      <td>4</td>\n",
       "      <td>5</td>\n",
       "      <td>17</td>\n",
       "      <td>0</td>\n",
       "    </tr>\n",
       "    <tr>\n",
       "      <th>4</th>\n",
       "      <td>F</td>\n",
       "      <td>56</td>\n",
       "      <td>JARDIM DA PENHA</td>\n",
       "      <td>0</td>\n",
       "      <td>1</td>\n",
       "      <td>1</td>\n",
       "      <td>0</td>\n",
       "      <td>0</td>\n",
       "      <td>0</td>\n",
       "      <td>Show-Up</td>\n",
       "      <td>Older Adults</td>\n",
       "      <td>2016-04-29</td>\n",
       "      <td>2016-04-29</td>\n",
       "      <td>4</td>\n",
       "      <td>5</td>\n",
       "      <td>16</td>\n",
       "      <td>0</td>\n",
       "    </tr>\n",
       "  </tbody>\n",
       "</table>\n",
       "</div>"
      ],
      "text/plain": [
       "  Gender  Age      Neighbourhood  Scholarship  Hypertension  Diabetes  \\\n",
       "0      F   62    JARDIM DA PENHA            0             1         0   \n",
       "1      M   56    JARDIM DA PENHA            0             0         0   \n",
       "2      F   62      MATA DA PRAIA            0             0         0   \n",
       "3      F    8  PONTAL DE CAMBURI            0             0         0   \n",
       "4      F   56    JARDIM DA PENHA            0             1         1   \n",
       "\n",
       "   Alcoholism  Handicap  SMS_received   Status      AgeGroup  \\\n",
       "0           0         0             0  Show-Up  Older Adults   \n",
       "1           0         0             0  Show-Up  Older Adults   \n",
       "2           0         0             0  Show-Up  Older Adults   \n",
       "3           0         0             0  Show-Up          Kids   \n",
       "4           0         0             0  Show-Up  Older Adults   \n",
       "\n",
       "  Registration_Date Appointment_Date  AppointmentMonth  DayOfWeek  HourOfDay  \\\n",
       "0        2016-04-29       2016-04-29                 4          5         18   \n",
       "1        2016-04-29       2016-04-29                 4          5         16   \n",
       "2        2016-04-29       2016-04-29                 4          5         16   \n",
       "3        2016-04-29       2016-04-29                 4          5         17   \n",
       "4        2016-04-29       2016-04-29                 4          5         16   \n",
       "\n",
       "   WaitingDays  \n",
       "0            0  \n",
       "1            0  \n",
       "2            0  \n",
       "3            0  \n",
       "4            0  "
      ]
     },
     "execution_count": 15,
     "metadata": {},
     "output_type": "execute_result"
    }
   ],
   "source": [
    "noshow_df.head()"
   ]
  },
  {
   "cell_type": "code",
   "execution_count": 16,
   "metadata": {
    "collapsed": false,
    "deletable": true,
    "editable": true
   },
   "outputs": [
    {
     "name": "stdout",
     "output_type": "stream",
     "text": [
      "Months: [4, 5, 6]\n",
      "Days in week: [1, 2, 3, 4, 5, 6]\n",
      "Hours in a day: [6, 7, 8, 9, 10, 11, 12, 13, 14, 15, 16, 17, 18, 19, 20, 21]\n"
     ]
    }
   ],
   "source": [
    "# Unique values among the three columns\n",
    "print('Months:',sorted(noshow_df.AppointmentMonth.unique()))\n",
    "print('Days in week:',sorted(noshow_df.DayOfWeek.unique()))\n",
    "print('Hours in a day:',sorted(noshow_df.HourOfDay.unique()))"
   ]
  },
  {
   "cell_type": "markdown",
   "metadata": {
    "deletable": true,
    "editable": true
   },
   "source": [
    "Data shows that Medical appointments data only consists data collected during april, may and june 2016 from 6am-9pm, and sundays are exempted while collecting the data. Analysing other variables over month would not be very usefull, so im dropping AppointmentMonth column aswell from the dataset for analysis."
   ]
  },
  {
   "cell_type": "code",
   "execution_count": 17,
   "metadata": {
    "collapsed": true,
    "deletable": true,
    "editable": true
   },
   "outputs": [],
   "source": [
    "noshow_df.drop(['AppointmentMonth'],axis=1,inplace=True)"
   ]
  },
  {
   "cell_type": "code",
   "execution_count": 18,
   "metadata": {
    "collapsed": false,
    "deletable": true,
    "editable": true
   },
   "outputs": [
    {
     "data": {
      "text/plain": [
       "['Gender',\n",
       " 'Age',\n",
       " 'Neighbourhood',\n",
       " 'Scholarship',\n",
       " 'Hypertension',\n",
       " 'Diabetes',\n",
       " 'Alcoholism',\n",
       " 'Handicap',\n",
       " 'SMS_received',\n",
       " 'Status',\n",
       " 'AgeGroup',\n",
       " 'Registration_Date',\n",
       " 'Appointment_Date',\n",
       " 'DayOfWeek',\n",
       " 'HourOfDay',\n",
       " 'WaitingDays']"
      ]
     },
     "execution_count": 18,
     "metadata": {},
     "output_type": "execute_result"
    }
   ],
   "source": [
    "cols = list(noshow_df.columns.values)\n",
    "cols"
   ]
  },
  {
   "cell_type": "markdown",
   "metadata": {
    "deletable": true,
    "editable": true
   },
   "source": [
    "#### Rearranging Columns"
   ]
  },
  {
   "cell_type": "code",
   "execution_count": 19,
   "metadata": {
    "collapsed": false,
    "deletable": true,
    "editable": true
   },
   "outputs": [
    {
     "name": "stdout",
     "output_type": "stream",
     "text": [
      "<class 'pandas.core.frame.DataFrame'>\n",
      "Int64Index: 110515 entries, 0 to 110526\n",
      "Data columns (total 16 columns):\n",
      "Neighbourhood        110515 non-null object\n",
      "Gender               110515 non-null object\n",
      "Age                  110515 non-null int64\n",
      "AgeGroup             110515 non-null object\n",
      "Registration_Date    110515 non-null datetime64[ns]\n",
      "Appointment_Date     110515 non-null datetime64[ns]\n",
      "DayOfWeek            110515 non-null int64\n",
      "HourOfDay            110515 non-null int64\n",
      "Hypertension         110515 non-null int64\n",
      "Diabetes             110515 non-null int64\n",
      "Alcoholism           110515 non-null int64\n",
      "Handicap             110515 non-null int64\n",
      "Scholarship          110515 non-null int64\n",
      "SMS_received         110515 non-null int64\n",
      "Status               110515 non-null object\n",
      "WaitingDays          110515 non-null int64\n",
      "dtypes: datetime64[ns](2), int64(10), object(4)\n",
      "memory usage: 14.3+ MB\n"
     ]
    }
   ],
   "source": [
    "# arranging columns\n",
    "noshow_df = noshow_df[['Neighbourhood', 'Gender', 'Age','AgeGroup','Registration_Date','Appointment_Date','DayOfWeek','HourOfDay','Hypertension','Diabetes','Alcoholism','Handicap','Scholarship','SMS_received','Status','WaitingDays']]\n",
    "noshow_df.info()"
   ]
  },
  {
   "cell_type": "code",
   "execution_count": 20,
   "metadata": {
    "collapsed": false,
    "deletable": true,
    "editable": true
   },
   "outputs": [
    {
     "data": {
      "text/html": [
       "<div>\n",
       "<table border=\"1\" class=\"dataframe\">\n",
       "  <thead>\n",
       "    <tr style=\"text-align: right;\">\n",
       "      <th></th>\n",
       "      <th>Neighbourhood</th>\n",
       "      <th>Gender</th>\n",
       "      <th>Age</th>\n",
       "      <th>AgeGroup</th>\n",
       "      <th>Registration_Date</th>\n",
       "      <th>Appointment_Date</th>\n",
       "      <th>DayOfWeek</th>\n",
       "      <th>HourOfDay</th>\n",
       "      <th>Hypertension</th>\n",
       "      <th>Diabetes</th>\n",
       "      <th>Alcoholism</th>\n",
       "      <th>Handicap</th>\n",
       "      <th>Scholarship</th>\n",
       "      <th>SMS_received</th>\n",
       "      <th>Status</th>\n",
       "      <th>WaitingDays</th>\n",
       "    </tr>\n",
       "  </thead>\n",
       "  <tbody>\n",
       "    <tr>\n",
       "      <th>0</th>\n",
       "      <td>JARDIM DA PENHA</td>\n",
       "      <td>F</td>\n",
       "      <td>62</td>\n",
       "      <td>Older Adults</td>\n",
       "      <td>2016-04-29</td>\n",
       "      <td>2016-04-29</td>\n",
       "      <td>5</td>\n",
       "      <td>18</td>\n",
       "      <td>1</td>\n",
       "      <td>0</td>\n",
       "      <td>0</td>\n",
       "      <td>0</td>\n",
       "      <td>0</td>\n",
       "      <td>0</td>\n",
       "      <td>Show-Up</td>\n",
       "      <td>0</td>\n",
       "    </tr>\n",
       "    <tr>\n",
       "      <th>1</th>\n",
       "      <td>JARDIM DA PENHA</td>\n",
       "      <td>M</td>\n",
       "      <td>56</td>\n",
       "      <td>Older Adults</td>\n",
       "      <td>2016-04-29</td>\n",
       "      <td>2016-04-29</td>\n",
       "      <td>5</td>\n",
       "      <td>16</td>\n",
       "      <td>0</td>\n",
       "      <td>0</td>\n",
       "      <td>0</td>\n",
       "      <td>0</td>\n",
       "      <td>0</td>\n",
       "      <td>0</td>\n",
       "      <td>Show-Up</td>\n",
       "      <td>0</td>\n",
       "    </tr>\n",
       "    <tr>\n",
       "      <th>2</th>\n",
       "      <td>MATA DA PRAIA</td>\n",
       "      <td>F</td>\n",
       "      <td>62</td>\n",
       "      <td>Older Adults</td>\n",
       "      <td>2016-04-29</td>\n",
       "      <td>2016-04-29</td>\n",
       "      <td>5</td>\n",
       "      <td>16</td>\n",
       "      <td>0</td>\n",
       "      <td>0</td>\n",
       "      <td>0</td>\n",
       "      <td>0</td>\n",
       "      <td>0</td>\n",
       "      <td>0</td>\n",
       "      <td>Show-Up</td>\n",
       "      <td>0</td>\n",
       "    </tr>\n",
       "    <tr>\n",
       "      <th>3</th>\n",
       "      <td>PONTAL DE CAMBURI</td>\n",
       "      <td>F</td>\n",
       "      <td>8</td>\n",
       "      <td>Kids</td>\n",
       "      <td>2016-04-29</td>\n",
       "      <td>2016-04-29</td>\n",
       "      <td>5</td>\n",
       "      <td>17</td>\n",
       "      <td>0</td>\n",
       "      <td>0</td>\n",
       "      <td>0</td>\n",
       "      <td>0</td>\n",
       "      <td>0</td>\n",
       "      <td>0</td>\n",
       "      <td>Show-Up</td>\n",
       "      <td>0</td>\n",
       "    </tr>\n",
       "    <tr>\n",
       "      <th>4</th>\n",
       "      <td>JARDIM DA PENHA</td>\n",
       "      <td>F</td>\n",
       "      <td>56</td>\n",
       "      <td>Older Adults</td>\n",
       "      <td>2016-04-29</td>\n",
       "      <td>2016-04-29</td>\n",
       "      <td>5</td>\n",
       "      <td>16</td>\n",
       "      <td>1</td>\n",
       "      <td>1</td>\n",
       "      <td>0</td>\n",
       "      <td>0</td>\n",
       "      <td>0</td>\n",
       "      <td>0</td>\n",
       "      <td>Show-Up</td>\n",
       "      <td>0</td>\n",
       "    </tr>\n",
       "  </tbody>\n",
       "</table>\n",
       "</div>"
      ],
      "text/plain": [
       "       Neighbourhood Gender  Age      AgeGroup Registration_Date  \\\n",
       "0    JARDIM DA PENHA      F   62  Older Adults        2016-04-29   \n",
       "1    JARDIM DA PENHA      M   56  Older Adults        2016-04-29   \n",
       "2      MATA DA PRAIA      F   62  Older Adults        2016-04-29   \n",
       "3  PONTAL DE CAMBURI      F    8          Kids        2016-04-29   \n",
       "4    JARDIM DA PENHA      F   56  Older Adults        2016-04-29   \n",
       "\n",
       "  Appointment_Date  DayOfWeek  HourOfDay  Hypertension  Diabetes  Alcoholism  \\\n",
       "0       2016-04-29          5         18             1         0           0   \n",
       "1       2016-04-29          5         16             0         0           0   \n",
       "2       2016-04-29          5         16             0         0           0   \n",
       "3       2016-04-29          5         17             0         0           0   \n",
       "4       2016-04-29          5         16             1         1           0   \n",
       "\n",
       "   Handicap  Scholarship  SMS_received   Status  WaitingDays  \n",
       "0         0            0             0  Show-Up            0  \n",
       "1         0            0             0  Show-Up            0  \n",
       "2         0            0             0  Show-Up            0  \n",
       "3         0            0             0  Show-Up            0  \n",
       "4         0            0             0  Show-Up            0  "
      ]
     },
     "execution_count": 20,
     "metadata": {},
     "output_type": "execute_result"
    }
   ],
   "source": [
    "noshow_df.head()"
   ]
  },
  {
   "cell_type": "markdown",
   "metadata": {
    "deletable": true,
    "editable": true
   },
   "source": [
    "Here is the clean dataset on which im going analyze various features."
   ]
  },
  {
   "cell_type": "markdown",
   "metadata": {
    "deletable": true,
    "editable": true
   },
   "source": [
    "### 3. Exploratory Data Analysis"
   ]
  },
  {
   "cell_type": "markdown",
   "metadata": {
    "deletable": true,
    "editable": true
   },
   "source": [
    "### Gender Based Patterns"
   ]
  },
  {
   "cell_type": "markdown",
   "metadata": {
    "deletable": true,
    "editable": true
   },
   "source": [
    "#### 3.1 What is the percentage of No Show among the population?"
   ]
  },
  {
   "cell_type": "code",
   "execution_count": 21,
   "metadata": {
    "collapsed": false,
    "deletable": true,
    "editable": true
   },
   "outputs": [
    {
     "name": "stdout",
     "output_type": "stream",
     "text": [
      "Show-Up    88199\n",
      "No-Show    22316\n",
      "Name: Status, dtype: int64\n"
     ]
    }
   ],
   "source": [
    "noshow = noshow_df['Status'].value_counts()\n",
    "print(noshow)"
   ]
  },
  {
   "cell_type": "code",
   "execution_count": 22,
   "metadata": {
    "collapsed": false,
    "deletable": true,
    "editable": true
   },
   "outputs": [
    {
     "data": {
      "image/png": "[encoded data removed]",
      "text/plain": [
       "<matplotlib.figure.Figure at 0x2168000f7f0>"
      ]
     },
     "metadata": {},
     "output_type": "display_data"
    }
   ],
   "source": [
    "group = noshow_df.groupby(['Status'])\n",
    "gps = group.size()\n",
    "ax = sns.barplot(x=gps.index.tolist(), y=gps.values)\n",
    "sns.plt.title(\"Number of People: Show-Up v/s No-Show\", fontsize = '15')\n",
    "sns.plt.xlabel(\"Noshow/Showup\")\n",
    "sns.plt.ylabel(\"Total Number\")\n",
    "sns.plt.show()"
   ]
  },
  {
   "cell_type": "code",
   "execution_count": 23,
   "metadata": {
    "collapsed": false,
    "deletable": true,
    "editable": true
   },
   "outputs": [
    {
     "name": "stdout",
     "output_type": "stream",
     "text": [
      "Percentage of patients not attending appointments: 20.19%\n"
     ]
    }
   ],
   "source": [
    "#Percentage no-shows over entire population\n",
    "percent_no_show = (noshow[1]/ noshow.sum()) * 100\n",
    "print('Percentage of patients not attending appointments: {}%'.format(round(percent_no_show,2)))"
   ]
  },
  {
   "cell_type": "markdown",
   "metadata": {
    "deletable": true,
    "editable": true
   },
   "source": [
    "#### 3.2 What percentage of Male and Female do not Show-Up ?"
   ]
  },
  {
   "cell_type": "code",
   "execution_count": 24,
   "metadata": {
    "collapsed": true,
    "deletable": true,
    "editable": true
   },
   "outputs": [],
   "source": [
    "# Function to calcuate and return percentage\n",
    "def percentage_NoShow(dataset,group_by):\n",
    "    df = pd.crosstab(index = dataset[group_by],columns = dataset.Status).reset_index()\n",
    "    df['Percentage'] = (df['No-Show']/(df['Show-Up']+df['No-Show']))*100\n",
    "    return df[[group_by,'Percentage']]"
   ]
  },
  {
   "cell_type": "code",
   "execution_count": 25,
   "metadata": {
    "collapsed": false,
    "deletable": true,
    "editable": true
   },
   "outputs": [
    {
     "data": {
      "text/html": [
       "<div>\n",
       "<table border=\"1\" class=\"dataframe\">\n",
       "  <thead>\n",
       "    <tr style=\"text-align: right;\">\n",
       "      <th>Status</th>\n",
       "      <th>Gender</th>\n",
       "      <th>Percentage</th>\n",
       "    </tr>\n",
       "  </thead>\n",
       "  <tbody>\n",
       "    <tr>\n",
       "      <th>0</th>\n",
       "      <td>F</td>\n",
       "      <td>20.31324</td>\n",
       "    </tr>\n",
       "    <tr>\n",
       "      <th>1</th>\n",
       "      <td>M</td>\n",
       "      <td>19.96898</td>\n",
       "    </tr>\n",
       "  </tbody>\n",
       "</table>\n",
       "</div>"
      ],
      "text/plain": [
       "Status Gender  Percentage\n",
       "0           F    20.31324\n",
       "1           M    19.96898"
      ]
     },
     "execution_count": 25,
     "metadata": {},
     "output_type": "execute_result"
    }
   ],
   "source": [
    "percentage = percentage_NoShow(noshow_df,'Gender')\n",
    "percentage"
   ]
  },
  {
   "cell_type": "code",
   "execution_count": 26,
   "metadata": {
    "collapsed": false,
    "deletable": true,
    "editable": true
   },
   "outputs": [
    {
     "data": {
      "image/png": "[encoded data removed]",
      "text/plain": [
       "<matplotlib.figure.Figure at 0x2168312b0f0>"
      ]
     },
     "metadata": {},
     "output_type": "display_data"
    }
   ],
   "source": [
    "sns.barplot(x = 'Gender', y = 'Percentage', data = percentage)\n",
    "sns.plt.title(\"Percentage of M/F NoShow\", fontsize = '13')\n",
    "plt.xlabel('Gender')\n",
    "plt.ylabel('Probability of no-show')\n",
    "plt.show()"
   ]
  },
  {
   "cell_type": "markdown",
   "metadata": {
    "deletable": true,
    "editable": true
   },
   "source": [
    "Nearly 20% of Male and Female do not show up on day of Appointment"
   ]
  },
  {
   "cell_type": "markdown",
   "metadata": {
    "deletable": true,
    "editable": true
   },
   "source": [
    "#### 3.3 Who visit doctor more often ?"
   ]
  },
  {
   "cell_type": "code",
   "execution_count": 27,
   "metadata": {
    "collapsed": false,
    "deletable": true,
    "editable": true
   },
   "outputs": [
    {
     "data": {
      "image/png": "[encoded data removed]",
      "text/plain": [
       "<matplotlib.figure.Figure at 0x216829e9860>"
      ]
     },
     "metadata": {},
     "output_type": "display_data"
    }
   ],
   "source": [
    "g = sns.countplot(x='Gender',hue='Status',data=noshow_df)\n",
    "plt.show()"
   ]
  },
  {
   "cell_type": "code",
   "execution_count": 28,
   "metadata": {
    "collapsed": false,
    "deletable": true,
    "editable": true
   },
   "outputs": [
    {
     "data": {
      "image/png": "[encoded data removed]",
      "text/plain": [
       "<matplotlib.figure.Figure at 0x216829d8da0>"
      ]
     },
     "metadata": {},
     "output_type": "display_data"
    }
   ],
   "source": [
    "df = noshow_df[noshow_df.Status == 'Show-Up']\n",
    "range_df = pd.DataFrame()\n",
    "range_df['Age'] = range(100)\n",
    "men = range_df.Age.apply(lambda x: len(df[(df.Age == x) & (df.Gender == 'M')]))\n",
    "women = range_df.Age.apply(lambda x: len(df[(df.Age == x) & (df.Gender == 'F')]))\n",
    "sns.plt.title('Who visit doctor more often')\n",
    "plt.xlabel('Age')\n",
    "plt.plot(range(100),men, 'b')\n",
    "plt.plot(range(100),women, color = 'g')\n",
    "plt.legend(['M','F'])\n",
    "plt.show()"
   ]
  },
  {
   "cell_type": "markdown",
   "metadata": {
    "deletable": true,
    "editable": true
   },
   "source": [
    "Both men and women visited doctor in a similar fashion till 15 years and from then we can see a sudden spike in female show up. There might be different reasons for it but we dont have enough data to come to a conclusion. From age of 15 woman are twice more likely to visit doctor when compared to men."
   ]
  },
  {
   "cell_type": "markdown",
   "metadata": {
    "deletable": true,
    "editable": true
   },
   "source": [
    "### Features based patterns"
   ]
  },
  {
   "cell_type": "markdown",
   "metadata": {
    "deletable": true,
    "editable": true
   },
   "source": [
    "#### 3.4 Probability of Show Up with respect to different features"
   ]
  },
  {
   "cell_type": "code",
   "execution_count": 29,
   "metadata": {
    "collapsed": true,
    "deletable": true,
    "editable": true
   },
   "outputs": [],
   "source": [
    "#Function to calculate and return probability of No-Show\n",
    "def prob_noshow(dataset,group_by):\n",
    "    df = pd.crosstab(index = dataset[group_by],columns = dataset.Status).reset_index()\n",
    "    df['probNoShow'] = df['No-Show']/(df['Show-Up']+df['No-Show'])\n",
    "    return df[[group_by,'probNoShow']]"
   ]
  },
  {
   "cell_type": "code",
   "execution_count": 30,
   "metadata": {
    "collapsed": false,
    "deletable": true,
    "editable": true
   },
   "outputs": [
    {
     "data": {
      "image/png": "[encoded data removed]",
      "text/plain": [
       "<matplotlib.figure.Figure at 0x216809b5860>"
      ]
     },
     "metadata": {},
     "output_type": "display_data"
    }
   ],
   "source": [
    "fig = plt.figure(figsize=(18,10))\n",
    "ax1 = fig.add_subplot(2,2,1)\n",
    "plt.title('Probability of No-Show with respect to age')\n",
    "sns.regplot(data = prob_noshow(noshow_df,'Age'),x = 'Age',y = 'probNoShow',ax=ax1)\n",
    "\n",
    "ax2 = fig.add_subplot(2,2,2)\n",
    "plt.title('Probability of No-Show with respect to Hour of the Days')\n",
    "sns.regplot(data = prob_noshow(noshow_df,'HourOfDay'),x = 'HourOfDay',y = 'probNoShow',ax=ax2)\n",
    "\n",
    "ax3 = fig.add_subplot(2,2,3)\n",
    "plt.title('Probability of No-Show with respect to Day of Week')\n",
    "sns.regplot(data = prob_noshow(noshow_df,'DayOfWeek'),x = 'DayOfWeek',y = 'probNoShow',ax=ax3)\n",
    "\n",
    "ax4 = fig.add_subplot(2,2,4)\n",
    "plt.title('Probability of No-Show with respect to waiting days')\n",
    "sns.regplot(data = prob_noshow(noshow_df,'WaitingDays'),x = 'WaitingDays',y = 'probNoShow', ax=ax4)\n",
    "\n",
    "\n",
    "plt.tight_layout()\n",
    "\n",
    "plt.show()"
   ]
  },
  {
   "cell_type": "markdown",
   "metadata": {
    "deletable": true,
    "editable": true
   },
   "source": [
    "1. There is a declining trend in No-Show probability with increase in age, with young adults having higher No-Show rates compared to older adults.\n",
    "2. No-Show probability is low early in the day,after noon probability of No-Show continue to increase.\n",
    "3. Over the week Probability of No-Show is less on wednesday and thursday compared to other weekdays.\n",
    "4. Probability of No-Show is less when the days between regestration and appointment are less than 25. "
   ]
  },
  {
   "cell_type": "markdown",
   "metadata": {
    "deletable": true,
    "editable": true
   },
   "source": [
    "#### 3.5 How does Show-Up/No-Show distribute over a week and Day?"
   ]
  },
  {
   "cell_type": "code",
   "execution_count": 37,
   "metadata": {
    "collapsed": false,
    "deletable": true,
    "editable": true
   },
   "outputs": [
    {
     "data": {
      "image/png": "[encoded data removed]",
      "text/plain": [
       "<matplotlib.figure.Figure at 0x2168098f208>"
      ]
     },
     "metadata": {},
     "output_type": "display_data"
    }
   ],
   "source": [
    "# weekly Distribution\n",
    "fig1 = plt.figure(figsize=(18,8))\n",
    "ax = fig1.add_subplot(1,2,1)\n",
    "ax.set_title(\"Weekly Count\")\n",
    "sns.countplot(x=\"DayOfWeek\",hue=\"Status\",data=noshow_df,palette='winter',ax=ax)\n",
    "ax.set_xlabel(\"Weekday (starts from Monday)\")\n",
    "\n",
    "# Distribution over Day\n",
    "ax2 = fig1.add_subplot(1,2,2)\n",
    "ax2.set_title(\"Hourly Count\")\n",
    "sns.countplot(x=\"HourOfDay\",hue=\"Status\",data=noshow_df,palette='winter',ax=ax2)\n",
    "ax2.set_xlabel(\"Hour of the day(24 hours)\")\n",
    "\n",
    "plt.tight_layout\n",
    "plt.show()"
   ]
  },
  {
   "cell_type": "markdown",
   "metadata": {
    "deletable": true,
    "editable": true
   },
   "source": [
    "1. First half of the week higher number of people showed up on Tuesday and Thursday with an inclining trend. Intrestingly second half of the week followed the same trend with less number of Show-Up's than first half f the week.\n",
    "2. More number of people are showing up early in the morning starting from 7am, but over the day number of Show-Up's decline. There is a sudden decline at 12 pm which might be due to lunch break."
   ]
  },
  {
   "cell_type": "markdown",
   "metadata": {
    "deletable": true,
    "editable": true
   },
   "source": [
    "### Patterns based on Medical conditions"
   ]
  },
  {
   "cell_type": "markdown",
   "metadata": {
    "deletable": true,
    "editable": true
   },
   "source": [
    "For this part of analysis we need to transform the data"
   ]
  },
  {
   "cell_type": "markdown",
   "metadata": {
    "deletable": true,
    "editable": true
   },
   "source": [
    "#### 3.6 Do patients with different Medical conditions show similar trend of Show-Up  over day?"
   ]
  },
  {
   "cell_type": "code",
   "execution_count": 38,
   "metadata": {
    "collapsed": true,
    "deletable": true,
    "editable": true
   },
   "outputs": [],
   "source": [
    "pv1 = noshow_df.pivot_table(values=[\"Diabetes\",\"Alcoholism\",\"Hypertension\",\"Handicap\"],columns=\"Status\",index=[\"HourOfDay\"],aggfunc=np.sum)"
   ]
  },
  {
   "cell_type": "code",
   "execution_count": 39,
   "metadata": {
    "collapsed": true,
    "deletable": true,
    "editable": true
   },
   "outputs": [],
   "source": [
    "disease_data = pv1.unstack().unstack('Status').reset_index().rename(columns={\"level_0\":\"Category\"})"
   ]
  },
  {
   "cell_type": "code",
   "execution_count": 40,
   "metadata": {
    "collapsed": true,
    "deletable": true,
    "editable": true
   },
   "outputs": [],
   "source": [
    "disease_data[\"Show-Up Rate\"] = disease_data['Show-Up'] / (disease_data['No-Show'] + disease_data['Show-Up'])"
   ]
  },
  {
   "cell_type": "code",
   "execution_count": 41,
   "metadata": {
    "collapsed": false,
    "deletable": true,
    "editable": true
   },
   "outputs": [
    {
     "data": {
      "text/html": [
       "<div>\n",
       "<table border=\"1\" class=\"dataframe\">\n",
       "  <thead>\n",
       "    <tr style=\"text-align: right;\">\n",
       "      <th>Status</th>\n",
       "      <th>Category</th>\n",
       "      <th>HourOfDay</th>\n",
       "      <th>No-Show</th>\n",
       "      <th>Show-Up</th>\n",
       "      <th>Show-Up Rate</th>\n",
       "    </tr>\n",
       "  </thead>\n",
       "  <tbody>\n",
       "    <tr>\n",
       "      <th>0</th>\n",
       "      <td>Diabetes</td>\n",
       "      <td>6</td>\n",
       "      <td>42</td>\n",
       "      <td>132</td>\n",
       "      <td>0.758621</td>\n",
       "    </tr>\n",
       "    <tr>\n",
       "      <th>1</th>\n",
       "      <td>Diabetes</td>\n",
       "      <td>7</td>\n",
       "      <td>208</td>\n",
       "      <td>1223</td>\n",
       "      <td>0.854647</td>\n",
       "    </tr>\n",
       "    <tr>\n",
       "      <th>2</th>\n",
       "      <td>Diabetes</td>\n",
       "      <td>8</td>\n",
       "      <td>155</td>\n",
       "      <td>901</td>\n",
       "      <td>0.853220</td>\n",
       "    </tr>\n",
       "    <tr>\n",
       "      <th>3</th>\n",
       "      <td>Diabetes</td>\n",
       "      <td>9</td>\n",
       "      <td>166</td>\n",
       "      <td>809</td>\n",
       "      <td>0.829744</td>\n",
       "    </tr>\n",
       "    <tr>\n",
       "      <th>4</th>\n",
       "      <td>Diabetes</td>\n",
       "      <td>10</td>\n",
       "      <td>167</td>\n",
       "      <td>650</td>\n",
       "      <td>0.795594</td>\n",
       "    </tr>\n",
       "  </tbody>\n",
       "</table>\n",
       "</div>"
      ],
      "text/plain": [
       "Status  Category  HourOfDay  No-Show  Show-Up  Show-Up Rate\n",
       "0       Diabetes          6       42      132      0.758621\n",
       "1       Diabetes          7      208     1223      0.854647\n",
       "2       Diabetes          8      155      901      0.853220\n",
       "3       Diabetes          9      166      809      0.829744\n",
       "4       Diabetes         10      167      650      0.795594"
      ]
     },
     "execution_count": 41,
     "metadata": {},
     "output_type": "execute_result"
    }
   ],
   "source": [
    "disease_data.head()"
   ]
  },
  {
   "cell_type": "code",
   "execution_count": 44,
   "metadata": {
    "collapsed": false,
    "deletable": true,
    "editable": true
   },
   "outputs": [
    {
     "data": {
      "application/vnd.plotly.v1+json": {
       "data": [
        {
         "mode": "lines+markers",
         "name": "Diabetes",
         "text": [
          "Diabetes",
          "Diabetes",
          "Diabetes",
          "Diabetes",
          "Diabetes",
          "Diabetes",
          "Diabetes",
          "Diabetes",
          "Diabetes",
          "Diabetes",
          "Diabetes",
          "Diabetes",
          "Diabetes",
          "Diabetes",
          "Diabetes",
          "Diabetes"
         ],
         "type": "scatter",
         "x": [
          6,
          7,
          8,
          9,
          10,
          11,
          12,
          13,
          14,
          15,
          16,
          17,
          18,
          19,
          20,
          21
         ],
         "y": [
          132,
          1223,
          901,
          809,
          650,
          529,
          353,
          485,
          486,
          447,
          263,
          139,
          75,
          17,
          4,
          0
         ]
        },
        {
         "mode": "lines+markers",
         "name": "Alcoholism",
         "text": [
          "Alcoholism",
          "Alcoholism",
          "Alcoholism",
          "Alcoholism",
          "Alcoholism",
          "Alcoholism",
          "Alcoholism",
          "Alcoholism",
          "Alcoholism",
          "Alcoholism",
          "Alcoholism",
          "Alcoholism",
          "Alcoholism",
          "Alcoholism",
          "Alcoholism",
          "Alcoholism"
         ],
         "type": "scatter",
         "x": [
          6,
          7,
          8,
          9,
          10,
          11,
          12,
          13,
          14,
          15,
          16,
          17,
          18,
          19,
          20,
          21
         ],
         "y": [
          26,
          466,
          416,
          300,
          242,
          280,
          164,
          169,
          194,
          162,
          126,
          92,
          33,
          11,
          2,
          0
         ]
        },
        {
         "mode": "lines+markers",
         "name": "Handcap",
         "text": [
          "Handicap",
          "Handicap",
          "Handicap",
          "Handicap",
          "Handicap",
          "Handicap",
          "Handicap",
          "Handicap",
          "Handicap",
          "Handicap",
          "Handicap",
          "Handicap",
          "Handicap",
          "Handicap",
          "Handicap",
          "Handicap"
         ],
         "type": "scatter",
         "x": [
          6,
          7,
          8,
          9,
          10,
          11,
          12,
          13,
          14,
          15,
          16,
          17,
          18,
          19,
          20,
          21
         ],
         "y": [
          25,
          269,
          269,
          281,
          214,
          195,
          92,
          178,
          167,
          179,
          87,
          29,
          15,
          3,
          0,
          0
         ]
        },
        {
         "mode": "lines+markers",
         "name": "Hypertension",
         "text": [
          "Hypertension",
          "Hypertension",
          "Hypertension",
          "Hypertension",
          "Hypertension",
          "Hypertension",
          "Hypertension",
          "Hypertension",
          "Hypertension",
          "Hypertension",
          "Hypertension",
          "Hypertension",
          "Hypertension",
          "Hypertension",
          "Hypertension",
          "Hypertension"
         ],
         "type": "scatter",
         "x": [
          6,
          7,
          8,
          9,
          10,
          11,
          12,
          13,
          14,
          15,
          16,
          17,
          18,
          19,
          20,
          21
         ],
         "y": [
          359,
          3637,
          2549,
          2111,
          1766,
          1393,
          960,
          1326,
          1269,
          1224,
          766,
          391,
          209,
          59,
          9,
          0
         ]
        }
       ],
       "layout": {
        "hovermode": "closest",
        "title": "Show-Up over Day",
        "xaxis": {
         "title": "Hour of Day"
        },
        "yaxis": {
         "title": "Show-Up"
        }
       }
      },
      "text/html": [
       "<div id=\"d00d58e4-aa23-4c44-b6f4-8bef1874ba9a\" style=\"height: 525px; width: 100%;\" class=\"plotly-graph-div\"></div><script type=\"text/javascript\">require([\"plotly\"], function(Plotly) { window.PLOTLYENV=window.PLOTLYENV || {};window.PLOTLYENV.BASE_URL=\"https://plot.ly\";Plotly.newPlot(\"d00d58e4-aa23-4c44-b6f4-8bef1874ba9a\", [{\"type\": \"scatter\", \"x\": [6, 7, 8, 9, 10, 11, 12, 13, 14, 15, 16, 17, 18, 19, 20, 21], \"y\": [132, 1223, 901, 809, 650, 529, 353, 485, 486, 447, 263, 139, 75, 17, 4, 0], \"mode\": \"lines+markers\", \"text\": [\"Diabetes\", \"Diabetes\", \"Diabetes\", \"Diabetes\", \"Diabetes\", \"Diabetes\", \"Diabetes\", \"Diabetes\", \"Diabetes\", \"Diabetes\", \"Diabetes\", \"Diabetes\", \"Diabetes\", \"Diabetes\", \"Diabetes\", \"Diabetes\"], \"name\": \"Diabetes\"}, {\"type\": \"scatter\", \"x\": [6, 7, 8, 9, 10, 11, 12, 13, 14, 15, 16, 17, 18, 19, 20, 21], \"y\": [26, 466, 416, 300, 242, 280, 164, 169, 194, 162, 126, 92, 33, 11, 2, 0], \"mode\": \"lines+markers\", \"text\": [\"Alcoholism\", \"Alcoholism\", \"Alcoholism\", \"Alcoholism\", \"Alcoholism\", \"Alcoholism\", \"Alcoholism\", \"Alcoholism\", \"Alcoholism\", \"Alcoholism\", \"Alcoholism\", \"Alcoholism\", \"Alcoholism\", \"Alcoholism\", \"Alcoholism\", \"Alcoholism\"], \"name\": \"Alcoholism\"}, {\"type\": \"scatter\", \"x\": [6, 7, 8, 9, 10, 11, 12, 13, 14, 15, 16, 17, 18, 19, 20, 21], \"y\": [25, 269, 269, 281, 214, 195, 92, 178, 167, 179, 87, 29, 15, 3, 0, 0], \"mode\": \"lines+markers\", \"text\": [\"Handicap\", \"Handicap\", \"Handicap\", \"Handicap\", \"Handicap\", \"Handicap\", \"Handicap\", \"Handicap\", \"Handicap\", \"Handicap\", \"Handicap\", \"Handicap\", \"Handicap\", \"Handicap\", \"Handicap\", \"Handicap\"], \"name\": \"Handcap\"}, {\"type\": \"scatter\", \"x\": [6, 7, 8, 9, 10, 11, 12, 13, 14, 15, 16, 17, 18, 19, 20, 21], \"y\": [359, 3637, 2549, 2111, 1766, 1393, 960, 1326, 1269, 1224, 766, 391, 209, 59, 9, 0], \"mode\": \"lines+markers\", \"text\": [\"Hypertension\", \"Hypertension\", \"Hypertension\", \"Hypertension\", \"Hypertension\", \"Hypertension\", \"Hypertension\", \"Hypertension\", \"Hypertension\", \"Hypertension\", \"Hypertension\", \"Hypertension\", \"Hypertension\", \"Hypertension\", \"Hypertension\", \"Hypertension\"], \"name\": \"Hypertension\"}], {\"title\": \"Show-Up over Day\", \"hovermode\": \"closest\", \"xaxis\": {\"title\": \"Hour of Day\"}, \"yaxis\": {\"title\": \"Show-Up\"}}, {\"showLink\": true, \"linkText\": \"Export to plot.ly\"})});</script>"
      ],
      "text/vnd.plotly.v1+html": [
       "<div id=\"d00d58e4-aa23-4c44-b6f4-8bef1874ba9a\" style=\"height: 525px; width: 100%;\" class=\"plotly-graph-div\"></div><script type=\"text/javascript\">require([\"plotly\"], function(Plotly) { window.PLOTLYENV=window.PLOTLYENV || {};window.PLOTLYENV.BASE_URL=\"https://plot.ly\";Plotly.newPlot(\"d00d58e4-aa23-4c44-b6f4-8bef1874ba9a\", [{\"type\": \"scatter\", \"x\": [6, 7, 8, 9, 10, 11, 12, 13, 14, 15, 16, 17, 18, 19, 20, 21], \"y\": [132, 1223, 901, 809, 650, 529, 353, 485, 486, 447, 263, 139, 75, 17, 4, 0], \"mode\": \"lines+markers\", \"text\": [\"Diabetes\", \"Diabetes\", \"Diabetes\", \"Diabetes\", \"Diabetes\", \"Diabetes\", \"Diabetes\", \"Diabetes\", \"Diabetes\", \"Diabetes\", \"Diabetes\", \"Diabetes\", \"Diabetes\", \"Diabetes\", \"Diabetes\", \"Diabetes\"], \"name\": \"Diabetes\"}, {\"type\": \"scatter\", \"x\": [6, 7, 8, 9, 10, 11, 12, 13, 14, 15, 16, 17, 18, 19, 20, 21], \"y\": [26, 466, 416, 300, 242, 280, 164, 169, 194, 162, 126, 92, 33, 11, 2, 0], \"mode\": \"lines+markers\", \"text\": [\"Alcoholism\", \"Alcoholism\", \"Alcoholism\", \"Alcoholism\", \"Alcoholism\", \"Alcoholism\", \"Alcoholism\", \"Alcoholism\", \"Alcoholism\", \"Alcoholism\", \"Alcoholism\", \"Alcoholism\", \"Alcoholism\", \"Alcoholism\", \"Alcoholism\", \"Alcoholism\"], \"name\": \"Alcoholism\"}, {\"type\": \"scatter\", \"x\": [6, 7, 8, 9, 10, 11, 12, 13, 14, 15, 16, 17, 18, 19, 20, 21], \"y\": [25, 269, 269, 281, 214, 195, 92, 178, 167, 179, 87, 29, 15, 3, 0, 0], \"mode\": \"lines+markers\", \"text\": [\"Handicap\", \"Handicap\", \"Handicap\", \"Handicap\", \"Handicap\", \"Handicap\", \"Handicap\", \"Handicap\", \"Handicap\", \"Handicap\", \"Handicap\", \"Handicap\", \"Handicap\", \"Handicap\", \"Handicap\", \"Handicap\"], \"name\": \"Handcap\"}, {\"type\": \"scatter\", \"x\": [6, 7, 8, 9, 10, 11, 12, 13, 14, 15, 16, 17, 18, 19, 20, 21], \"y\": [359, 3637, 2549, 2111, 1766, 1393, 960, 1326, 1269, 1224, 766, 391, 209, 59, 9, 0], \"mode\": \"lines+markers\", \"text\": [\"Hypertension\", \"Hypertension\", \"Hypertension\", \"Hypertension\", \"Hypertension\", \"Hypertension\", \"Hypertension\", \"Hypertension\", \"Hypertension\", \"Hypertension\", \"Hypertension\", \"Hypertension\", \"Hypertension\", \"Hypertension\", \"Hypertension\", \"Hypertension\"], \"name\": \"Hypertension\"}], {\"title\": \"Show-Up over Day\", \"hovermode\": \"closest\", \"xaxis\": {\"title\": \"Hour of Day\"}, \"yaxis\": {\"title\": \"Show-Up\"}}, {\"showLink\": true, \"linkText\": \"Export to plot.ly\"})});</script>"
      ]
     },
     "metadata": {},
     "output_type": "display_data"
    }
   ],
   "source": [
    "Diabetes = disease_data[disease_data['Category'] == 'Diabetes']\n",
    "Alcoholism = disease_data[disease_data['Category'] == 'Alcoholism']\n",
    "Handicap = disease_data[disease_data['Category'] == 'Handicap']\n",
    "Hypertension = disease_data[disease_data['Category'] == 'Hypertension']\n",
    "\n",
    "trace0 = go.Scatter(\n",
    "    x= Diabetes['HourOfDay'],\n",
    "    y=Diabetes['Show-Up'],\n",
    "    mode= 'lines+markers',\n",
    "    text=Diabetes['Category'],\n",
    "    name=\"Diabetes\")\n",
    "\n",
    "trace1 = go.Scatter(\n",
    "    x= Alcoholism['HourOfDay'],\n",
    "    y=Alcoholism['Show-Up'],\n",
    "    mode= 'lines+markers',\n",
    "    text=Alcoholism['Category'],\n",
    "    name=\"Alcoholism\")\n",
    "\n",
    "trace2 = go.Scatter(\n",
    "    x= Handicap['HourOfDay'],\n",
    "    y=Handicap['Show-Up'],\n",
    "    mode= 'lines+markers',\n",
    "    text=Handicap['Category'],\n",
    "    name='Handcap')\n",
    "\n",
    "trace3 = go.Scatter(\n",
    "    x= Hypertension['HourOfDay'],\n",
    "    y=Hypertension['Show-Up'],\n",
    "    mode= 'lines+markers',\n",
    "    text=Hypertension['Category'],\n",
    "    name='Hypertension')\n",
    "\n",
    "layout = dict(title = \"Show-Up over Day\",hovermode='closest',xaxis=dict({\"title\":\"Hour of Day\"}),\n",
    "             yaxis=dict({\"title\":\"Show-Up\"}))\n",
    "dat = [trace0,trace1,trace2,trace3]\n",
    "fig = go.Figure(data=dat,layout=layout)\n",
    "iplot(fig,filename='basic-line')"
   ]
  },
  {
   "cell_type": "markdown",
   "metadata": {
    "deletable": true,
    "editable": true
   },
   "source": [
    "Patients with different medical conditions show similar pattern of Show-Up over day to popuation."
   ]
  },
  {
   "cell_type": "markdown",
   "metadata": {
    "deletable": true,
    "editable": true
   },
   "source": [
    "#### 3.7 Do patients with different Medical conditions show different Show-Up rate over day?"
   ]
  },
  {
   "cell_type": "code",
   "execution_count": 46,
   "metadata": {
    "collapsed": false,
    "deletable": true,
    "editable": true
   },
   "outputs": [
    {
     "data": {
      "application/vnd.plotly.v1+json": {
       "data": [
        {
         "mode": "lines+markers",
         "name": "Diabetes",
         "text": [
          "Diabetes",
          "Diabetes",
          "Diabetes",
          "Diabetes",
          "Diabetes",
          "Diabetes",
          "Diabetes",
          "Diabetes",
          "Diabetes",
          "Diabetes",
          "Diabetes",
          "Diabetes",
          "Diabetes",
          "Diabetes",
          "Diabetes",
          "Diabetes"
         ],
         "type": "scatter",
         "x": [
          6,
          7,
          8,
          9,
          10,
          11,
          12,
          13,
          14,
          15,
          16,
          17,
          18,
          19,
          20,
          21
         ],
         "y": [
          0.7586206896551724,
          0.8546470999301188,
          0.853219696969697,
          0.8297435897435897,
          0.795593635250918,
          0.829153605015674,
          0.8190255220417634,
          0.8206429780033841,
          0.7915309446254072,
          0.7814685314685315,
          0.7735294117647059,
          0.7393617021276596,
          0.8426966292134831,
          0.7727272727272727,
          0.8,
          null
         ]
        },
        {
         "mode": "lines+markers",
         "name": "Alcoholism",
         "text": [
          "Alcoholism",
          "Alcoholism",
          "Alcoholism",
          "Alcoholism",
          "Alcoholism",
          "Alcoholism",
          "Alcoholism",
          "Alcoholism",
          "Alcoholism",
          "Alcoholism",
          "Alcoholism",
          "Alcoholism",
          "Alcoholism",
          "Alcoholism",
          "Alcoholism",
          "Alcoholism"
         ],
         "type": "scatter",
         "x": [
          6,
          7,
          8,
          9,
          10,
          11,
          12,
          13,
          14,
          15,
          16,
          17,
          18,
          19,
          20,
          21
         ],
         "y": [
          0.65,
          0.8048359240069085,
          0.832,
          0.8042895442359249,
          0.7446153846153846,
          0.8383233532934131,
          0.8541666666666666,
          0.771689497716895,
          0.776,
          0.7431192660550459,
          0.8344370860927153,
          0.7863247863247863,
          0.7333333333333333,
          0.8461538461538461,
          0.5,
          null
         ]
        },
        {
         "mode": "lines+markers",
         "name": "Handicap",
         "text": [
          "Handicap",
          "Handicap",
          "Handicap",
          "Handicap",
          "Handicap",
          "Handicap",
          "Handicap",
          "Handicap",
          "Handicap",
          "Handicap",
          "Handicap",
          "Handicap",
          "Handicap",
          "Handicap",
          "Handicap",
          "Handicap"
         ],
         "type": "scatter",
         "x": [
          6,
          7,
          8,
          9,
          10,
          11,
          12,
          13,
          14,
          15,
          16,
          17,
          18,
          19,
          20,
          21
         ],
         "y": [
          0.6578947368421053,
          0.8276923076923077,
          0.8459119496855346,
          0.8413173652694611,
          0.8014981273408239,
          0.7831325301204819,
          0.8141592920353983,
          0.827906976744186,
          0.835,
          0.7816593886462883,
          0.8446601941747572,
          0.725,
          0.7894736842105263,
          1,
          null,
          null
         ]
        },
        {
         "mode": "lines+markers",
         "name": "Hipertension",
         "text": [
          "Hypertension",
          "Hypertension",
          "Hypertension",
          "Hypertension",
          "Hypertension",
          "Hypertension",
          "Hypertension",
          "Hypertension",
          "Hypertension",
          "Hypertension",
          "Hypertension",
          "Hypertension",
          "Hypertension",
          "Hypertension",
          "Hypertension",
          "Hypertension"
         ],
         "type": "scatter",
         "x": [
          6,
          7,
          8,
          9,
          10,
          11,
          12,
          13,
          14,
          15,
          16,
          17,
          18,
          19,
          20,
          21
         ],
         "y": [
          0.7907488986784141,
          0.8624614654967987,
          0.8508010680907877,
          0.828818217510797,
          0.812327506899724,
          0.8103548574752764,
          0.8297320656871219,
          0.8445859872611465,
          0.8016424510423247,
          0.8068556361239289,
          0.7768762677484787,
          0.7433460076045627,
          0.7946768060836502,
          0.7662337662337663,
          0.6428571428571429,
          null
         ]
        }
       ],
       "layout": {
        "hovermode": "closest",
        "title": "Show-Up Rate over Day",
        "xaxis": {
         "title": "Hour of Day"
        },
        "yaxis": {
         "title": "Show-Up Rate"
        }
       }
      },
      "text/html": [
       "<div id=\"ac93cb3b-5eac-40e3-ba57-b37c54709f66\" style=\"height: 525px; width: 100%;\" class=\"plotly-graph-div\"></div><script type=\"text/javascript\">require([\"plotly\"], function(Plotly) { window.PLOTLYENV=window.PLOTLYENV || {};window.PLOTLYENV.BASE_URL=\"https://plot.ly\";Plotly.newPlot(\"ac93cb3b-5eac-40e3-ba57-b37c54709f66\", [{\"type\": \"scatter\", \"x\": [6, 7, 8, 9, 10, 11, 12, 13, 14, 15, 16, 17, 18, 19, 20, 21], \"y\": [0.7586206896551724, 0.8546470999301188, 0.853219696969697, 0.8297435897435897, 0.795593635250918, 0.829153605015674, 0.8190255220417634, 0.8206429780033841, 0.7915309446254072, 0.7814685314685315, 0.7735294117647059, 0.7393617021276596, 0.8426966292134831, 0.7727272727272727, 0.8, null], \"mode\": \"lines+markers\", \"text\": [\"Diabetes\", \"Diabetes\", \"Diabetes\", \"Diabetes\", \"Diabetes\", \"Diabetes\", \"Diabetes\", \"Diabetes\", \"Diabetes\", \"Diabetes\", \"Diabetes\", \"Diabetes\", \"Diabetes\", \"Diabetes\", \"Diabetes\", \"Diabetes\"], \"name\": \"Diabetes\"}, {\"type\": \"scatter\", \"x\": [6, 7, 8, 9, 10, 11, 12, 13, 14, 15, 16, 17, 18, 19, 20, 21], \"y\": [0.65, 0.8048359240069085, 0.832, 0.8042895442359249, 0.7446153846153846, 0.8383233532934131, 0.8541666666666666, 0.771689497716895, 0.776, 0.7431192660550459, 0.8344370860927153, 0.7863247863247863, 0.7333333333333333, 0.8461538461538461, 0.5, null], \"mode\": \"lines+markers\", \"text\": [\"Alcoholism\", \"Alcoholism\", \"Alcoholism\", \"Alcoholism\", \"Alcoholism\", \"Alcoholism\", \"Alcoholism\", \"Alcoholism\", \"Alcoholism\", \"Alcoholism\", \"Alcoholism\", \"Alcoholism\", \"Alcoholism\", \"Alcoholism\", \"Alcoholism\", \"Alcoholism\"], \"name\": \"Alcoholism\"}, {\"type\": \"scatter\", \"x\": [6, 7, 8, 9, 10, 11, 12, 13, 14, 15, 16, 17, 18, 19, 20, 21], \"y\": [0.6578947368421053, 0.8276923076923077, 0.8459119496855346, 0.8413173652694611, 0.8014981273408239, 0.7831325301204819, 0.8141592920353983, 0.827906976744186, 0.835, 0.7816593886462883, 0.8446601941747572, 0.725, 0.7894736842105263, 1.0, null, null], \"mode\": \"lines+markers\", \"text\": [\"Handicap\", \"Handicap\", \"Handicap\", \"Handicap\", \"Handicap\", \"Handicap\", \"Handicap\", \"Handicap\", \"Handicap\", \"Handicap\", \"Handicap\", \"Handicap\", \"Handicap\", \"Handicap\", \"Handicap\", \"Handicap\"], \"name\": \"Handicap\"}, {\"type\": \"scatter\", \"x\": [6, 7, 8, 9, 10, 11, 12, 13, 14, 15, 16, 17, 18, 19, 20, 21], \"y\": [0.7907488986784141, 0.8624614654967987, 0.8508010680907877, 0.828818217510797, 0.812327506899724, 0.8103548574752764, 0.8297320656871219, 0.8445859872611465, 0.8016424510423247, 0.8068556361239289, 0.7768762677484787, 0.7433460076045627, 0.7946768060836502, 0.7662337662337663, 0.6428571428571429, null], \"mode\": \"lines+markers\", \"text\": [\"Hypertension\", \"Hypertension\", \"Hypertension\", \"Hypertension\", \"Hypertension\", \"Hypertension\", \"Hypertension\", \"Hypertension\", \"Hypertension\", \"Hypertension\", \"Hypertension\", \"Hypertension\", \"Hypertension\", \"Hypertension\", \"Hypertension\", \"Hypertension\"], \"name\": \"Hipertension\"}], {\"title\": \"Show-Up Rate over Day\", \"hovermode\": \"closest\", \"xaxis\": {\"title\": \"Hour of Day\"}, \"yaxis\": {\"title\": \"Show-Up Rate\"}}, {\"showLink\": true, \"linkText\": \"Export to plot.ly\"})});</script>"
      ],
      "text/vnd.plotly.v1+html": [
       "<div id=\"ac93cb3b-5eac-40e3-ba57-b37c54709f66\" style=\"height: 525px; width: 100%;\" class=\"plotly-graph-div\"></div><script type=\"text/javascript\">require([\"plotly\"], function(Plotly) { window.PLOTLYENV=window.PLOTLYENV || {};window.PLOTLYENV.BASE_URL=\"https://plot.ly\";Plotly.newPlot(\"ac93cb3b-5eac-40e3-ba57-b37c54709f66\", [{\"type\": \"scatter\", \"x\": [6, 7, 8, 9, 10, 11, 12, 13, 14, 15, 16, 17, 18, 19, 20, 21], \"y\": [0.7586206896551724, 0.8546470999301188, 0.853219696969697, 0.8297435897435897, 0.795593635250918, 0.829153605015674, 0.8190255220417634, 0.8206429780033841, 0.7915309446254072, 0.7814685314685315, 0.7735294117647059, 0.7393617021276596, 0.8426966292134831, 0.7727272727272727, 0.8, null], \"mode\": \"lines+markers\", \"text\": [\"Diabetes\", \"Diabetes\", \"Diabetes\", \"Diabetes\", \"Diabetes\", \"Diabetes\", \"Diabetes\", \"Diabetes\", \"Diabetes\", \"Diabetes\", \"Diabetes\", \"Diabetes\", \"Diabetes\", \"Diabetes\", \"Diabetes\", \"Diabetes\"], \"name\": \"Diabetes\"}, {\"type\": \"scatter\", \"x\": [6, 7, 8, 9, 10, 11, 12, 13, 14, 15, 16, 17, 18, 19, 20, 21], \"y\": [0.65, 0.8048359240069085, 0.832, 0.8042895442359249, 0.7446153846153846, 0.8383233532934131, 0.8541666666666666, 0.771689497716895, 0.776, 0.7431192660550459, 0.8344370860927153, 0.7863247863247863, 0.7333333333333333, 0.8461538461538461, 0.5, null], \"mode\": \"lines+markers\", \"text\": [\"Alcoholism\", \"Alcoholism\", \"Alcoholism\", \"Alcoholism\", \"Alcoholism\", \"Alcoholism\", \"Alcoholism\", \"Alcoholism\", \"Alcoholism\", \"Alcoholism\", \"Alcoholism\", \"Alcoholism\", \"Alcoholism\", \"Alcoholism\", \"Alcoholism\", \"Alcoholism\"], \"name\": \"Alcoholism\"}, {\"type\": \"scatter\", \"x\": [6, 7, 8, 9, 10, 11, 12, 13, 14, 15, 16, 17, 18, 19, 20, 21], \"y\": [0.6578947368421053, 0.8276923076923077, 0.8459119496855346, 0.8413173652694611, 0.8014981273408239, 0.7831325301204819, 0.8141592920353983, 0.827906976744186, 0.835, 0.7816593886462883, 0.8446601941747572, 0.725, 0.7894736842105263, 1.0, null, null], \"mode\": \"lines+markers\", \"text\": [\"Handicap\", \"Handicap\", \"Handicap\", \"Handicap\", \"Handicap\", \"Handicap\", \"Handicap\", \"Handicap\", \"Handicap\", \"Handicap\", \"Handicap\", \"Handicap\", \"Handicap\", \"Handicap\", \"Handicap\", \"Handicap\"], \"name\": \"Handicap\"}, {\"type\": \"scatter\", \"x\": [6, 7, 8, 9, 10, 11, 12, 13, 14, 15, 16, 17, 18, 19, 20, 21], \"y\": [0.7907488986784141, 0.8624614654967987, 0.8508010680907877, 0.828818217510797, 0.812327506899724, 0.8103548574752764, 0.8297320656871219, 0.8445859872611465, 0.8016424510423247, 0.8068556361239289, 0.7768762677484787, 0.7433460076045627, 0.7946768060836502, 0.7662337662337663, 0.6428571428571429, null], \"mode\": \"lines+markers\", \"text\": [\"Hypertension\", \"Hypertension\", \"Hypertension\", \"Hypertension\", \"Hypertension\", \"Hypertension\", \"Hypertension\", \"Hypertension\", \"Hypertension\", \"Hypertension\", \"Hypertension\", \"Hypertension\", \"Hypertension\", \"Hypertension\", \"Hypertension\", \"Hypertension\"], \"name\": \"Hipertension\"}], {\"title\": \"Show-Up Rate over Day\", \"hovermode\": \"closest\", \"xaxis\": {\"title\": \"Hour of Day\"}, \"yaxis\": {\"title\": \"Show-Up Rate\"}}, {\"showLink\": true, \"linkText\": \"Export to plot.ly\"})});</script>"
      ]
     },
     "metadata": {},
     "output_type": "display_data"
    }
   ],
   "source": [
    "trace0 = go.Scatter(\n",
    "    x= Diabetes['HourOfDay'],\n",
    "    y=Diabetes['Show-Up Rate'],\n",
    "    mode= 'lines+markers',\n",
    "    text=Diabetes['Category'],\n",
    "    name=\"Diabetes\")\n",
    "\n",
    "trace1 = go.Scatter(\n",
    "    x= Alcoholism['HourOfDay'],\n",
    "    y=Alcoholism['Show-Up Rate'],\n",
    "    mode= 'lines+markers',\n",
    "    text=Alcoholism['Category'],\n",
    "    name=\"Alcoholism\")\n",
    "\n",
    "trace2 = go.Scatter(\n",
    "    x= Handicap['HourOfDay'],\n",
    "    y=Handicap['Show-Up Rate'],\n",
    "    mode= 'lines+markers',\n",
    "    text=Handicap['Category'],\n",
    "    name='Handicap')\n",
    "\n",
    "trace3 = go.Scatter(\n",
    "    x= Hypertension['HourOfDay'],\n",
    "    y=Hypertension['Show-Up Rate'],\n",
    "    mode= 'lines+markers',\n",
    "    text=Hypertension['Category'],\n",
    "    name='Hipertension')\n",
    "\n",
    "layout = dict(title = \"Show-Up Rate over Day\",hovermode='closest',xaxis=dict({\"title\":\"Hour of Day\"}),\n",
    "             yaxis=dict({\"title\":\"Show-Up Rate\"}))\n",
    "dat = [trace0,trace1,trace2,trace3]\n",
    "fig = go.Figure(data=dat,layout=layout)\n",
    "iplot(fig,filename='basic-line')"
   ]
  },
  {
   "cell_type": "markdown",
   "metadata": {
    "deletable": true,
    "editable": true
   },
   "source": [
    "1. Alcoholics and Handicapped show lower Show-Up rate.\n",
    "2. Alcoholics tend to show-up at higher rate between 10am-12pm,4pm and 7pm. They are less likely to show-up after 7pm.\n",
    "3. Handicapped tend to show-up at higer rate between 6pm-7pm.\n",
    "4. Patients with diabetes and hypertension tend to show-up at higher rate during day time through out the day, but patients with hypertension are less likely to show-up after 7pm."
   ]
  },
  {
   "cell_type": "markdown",
   "metadata": {
    "deletable": true,
    "editable": true
   },
   "source": [
    "#### 3.8 Do patients with different Medical conditions show similar trend of Show-Up  over week?"
   ]
  },
  {
   "cell_type": "code",
   "execution_count": 47,
   "metadata": {
    "collapsed": true,
    "deletable": true,
    "editable": true
   },
   "outputs": [],
   "source": [
    "pv2 = noshow_df.pivot_table(values=[\"Diabetes\",\"Alcoholism\",\"Hypertension\",\"Handicap\"],columns=\"Status\",index=[\"DayOfWeek\"],aggfunc=np.sum)"
   ]
  },
  {
   "cell_type": "code",
   "execution_count": 48,
   "metadata": {
    "collapsed": true,
    "deletable": true,
    "editable": true
   },
   "outputs": [],
   "source": [
    "week_data = pv2.unstack().unstack('Status').reset_index().rename(columns={\"level_0\":\"Category\"})"
   ]
  },
  {
   "cell_type": "code",
   "execution_count": 49,
   "metadata": {
    "collapsed": true,
    "deletable": true,
    "editable": true
   },
   "outputs": [],
   "source": [
    "week_data[\"Show-Up Rate\"] = week_data['Show-Up'] / (week_data['No-Show'] + week_data['Show-Up'])"
   ]
  },
  {
   "cell_type": "code",
   "execution_count": 50,
   "metadata": {
    "collapsed": false,
    "deletable": true,
    "editable": true
   },
   "outputs": [
    {
     "data": {
      "text/html": [
       "<div>\n",
       "<table border=\"1\" class=\"dataframe\">\n",
       "  <thead>\n",
       "    <tr style=\"text-align: right;\">\n",
       "      <th>Status</th>\n",
       "      <th>Category</th>\n",
       "      <th>DayOfWeek</th>\n",
       "      <th>No-Show</th>\n",
       "      <th>Show-Up</th>\n",
       "      <th>Show-Up Rate</th>\n",
       "    </tr>\n",
       "  </thead>\n",
       "  <tbody>\n",
       "    <tr>\n",
       "      <th>0</th>\n",
       "      <td>Diabetes</td>\n",
       "      <td>1</td>\n",
       "      <td>328</td>\n",
       "      <td>1243</td>\n",
       "      <td>0.791216</td>\n",
       "    </tr>\n",
       "    <tr>\n",
       "      <th>1</th>\n",
       "      <td>Diabetes</td>\n",
       "      <td>2</td>\n",
       "      <td>295</td>\n",
       "      <td>1580</td>\n",
       "      <td>0.842667</td>\n",
       "    </tr>\n",
       "    <tr>\n",
       "      <th>2</th>\n",
       "      <td>Diabetes</td>\n",
       "      <td>3</td>\n",
       "      <td>316</td>\n",
       "      <td>1508</td>\n",
       "      <td>0.826754</td>\n",
       "    </tr>\n",
       "    <tr>\n",
       "      <th>3</th>\n",
       "      <td>Diabetes</td>\n",
       "      <td>4</td>\n",
       "      <td>202</td>\n",
       "      <td>1001</td>\n",
       "      <td>0.832086</td>\n",
       "    </tr>\n",
       "    <tr>\n",
       "      <th>4</th>\n",
       "      <td>Diabetes</td>\n",
       "      <td>5</td>\n",
       "      <td>287</td>\n",
       "      <td>1176</td>\n",
       "      <td>0.803828</td>\n",
       "    </tr>\n",
       "  </tbody>\n",
       "</table>\n",
       "</div>"
      ],
      "text/plain": [
       "Status  Category  DayOfWeek  No-Show  Show-Up  Show-Up Rate\n",
       "0       Diabetes          1      328     1243      0.791216\n",
       "1       Diabetes          2      295     1580      0.842667\n",
       "2       Diabetes          3      316     1508      0.826754\n",
       "3       Diabetes          4      202     1001      0.832086\n",
       "4       Diabetes          5      287     1176      0.803828"
      ]
     },
     "execution_count": 50,
     "metadata": {},
     "output_type": "execute_result"
    }
   ],
   "source": [
    "week_data.head()"
   ]
  },
  {
   "cell_type": "code",
   "execution_count": 52,
   "metadata": {
    "collapsed": false,
    "deletable": true,
    "editable": true
   },
   "outputs": [
    {
     "data": {
      "application/vnd.plotly.v1+json": {
       "data": [
        {
         "mode": "lines+markers",
         "name": "Diabetes",
         "text": [
          "Diabetes",
          "Diabetes",
          "Diabetes",
          "Diabetes",
          "Diabetes",
          "Diabetes"
         ],
         "type": "scatter",
         "x": [
          1,
          2,
          3,
          4,
          5,
          6
         ],
         "y": [
          1243,
          1580,
          1508,
          1001,
          1176,
          5
         ]
        },
        {
         "mode": "lines+markers",
         "name": "Alcoholism",
         "text": [
          "Alcoholism",
          "Alcoholism",
          "Alcoholism",
          "Alcoholism",
          "Alcoholism",
          "Alcoholism"
         ],
         "type": "scatter",
         "x": [
          1,
          2,
          3,
          4,
          5,
          6
         ],
         "y": [
          544,
          574,
          654,
          417,
          492,
          2
         ]
        },
        {
         "mode": "lines+markers",
         "name": "Handcap",
         "text": [
          "Handicap",
          "Handicap",
          "Handicap",
          "Handicap",
          "Handicap",
          "Handicap"
         ],
         "type": "scatter",
         "x": [
          1,
          2,
          3,
          4,
          5,
          6
         ],
         "y": [
          382,
          466,
          438,
          338,
          378,
          1
         ]
        },
        {
         "mode": "lines+markers",
         "name": "Hipertension",
         "text": [
          "Hypertension",
          "Hypertension",
          "Hypertension",
          "Hypertension",
          "Hypertension",
          "Hypertension"
         ],
         "type": "scatter",
         "x": [
          1,
          2,
          3,
          4,
          5,
          6
         ],
         "y": [
          3597,
          4249,
          4195,
          2907,
          3065,
          15
         ]
        }
       ],
       "layout": {
        "hovermode": "closest",
        "title": "Show-Up over week",
        "xaxis": {
         "title": "Day of Week(Mon-Sat)"
        },
        "yaxis": {
         "title": "Show-Up"
        }
       }
      },
      "text/html": [
       "<div id=\"db3756bf-63f5-495b-a095-13683fd8ce5f\" style=\"height: 525px; width: 100%;\" class=\"plotly-graph-div\"></div><script type=\"text/javascript\">require([\"plotly\"], function(Plotly) { window.PLOTLYENV=window.PLOTLYENV || {};window.PLOTLYENV.BASE_URL=\"https://plot.ly\";Plotly.newPlot(\"db3756bf-63f5-495b-a095-13683fd8ce5f\", [{\"type\": \"scatter\", \"x\": [1, 2, 3, 4, 5, 6], \"y\": [1243, 1580, 1508, 1001, 1176, 5], \"mode\": \"lines+markers\", \"text\": [\"Diabetes\", \"Diabetes\", \"Diabetes\", \"Diabetes\", \"Diabetes\", \"Diabetes\"], \"name\": \"Diabetes\"}, {\"type\": \"scatter\", \"x\": [1, 2, 3, 4, 5, 6], \"y\": [544, 574, 654, 417, 492, 2], \"mode\": \"lines+markers\", \"text\": [\"Alcoholism\", \"Alcoholism\", \"Alcoholism\", \"Alcoholism\", \"Alcoholism\", \"Alcoholism\"], \"name\": \"Alcoholism\"}, {\"type\": \"scatter\", \"x\": [1, 2, 3, 4, 5, 6], \"y\": [382, 466, 438, 338, 378, 1], \"mode\": \"lines+markers\", \"text\": [\"Handicap\", \"Handicap\", \"Handicap\", \"Handicap\", \"Handicap\", \"Handicap\"], \"name\": \"Handcap\"}, {\"type\": \"scatter\", \"x\": [1, 2, 3, 4, 5, 6], \"y\": [3597, 4249, 4195, 2907, 3065, 15], \"mode\": \"lines+markers\", \"text\": [\"Hypertension\", \"Hypertension\", \"Hypertension\", \"Hypertension\", \"Hypertension\", \"Hypertension\"], \"name\": \"Hipertension\"}], {\"title\": \"Show-Up over week\", \"hovermode\": \"closest\", \"xaxis\": {\"title\": \"Day of Week(Mon-Sat)\"}, \"yaxis\": {\"title\": \"Show-Up\"}}, {\"showLink\": true, \"linkText\": \"Export to plot.ly\"})});</script>"
      ],
      "text/vnd.plotly.v1+html": [
       "<div id=\"db3756bf-63f5-495b-a095-13683fd8ce5f\" style=\"height: 525px; width: 100%;\" class=\"plotly-graph-div\"></div><script type=\"text/javascript\">require([\"plotly\"], function(Plotly) { window.PLOTLYENV=window.PLOTLYENV || {};window.PLOTLYENV.BASE_URL=\"https://plot.ly\";Plotly.newPlot(\"db3756bf-63f5-495b-a095-13683fd8ce5f\", [{\"type\": \"scatter\", \"x\": [1, 2, 3, 4, 5, 6], \"y\": [1243, 1580, 1508, 1001, 1176, 5], \"mode\": \"lines+markers\", \"text\": [\"Diabetes\", \"Diabetes\", \"Diabetes\", \"Diabetes\", \"Diabetes\", \"Diabetes\"], \"name\": \"Diabetes\"}, {\"type\": \"scatter\", \"x\": [1, 2, 3, 4, 5, 6], \"y\": [544, 574, 654, 417, 492, 2], \"mode\": \"lines+markers\", \"text\": [\"Alcoholism\", \"Alcoholism\", \"Alcoholism\", \"Alcoholism\", \"Alcoholism\", \"Alcoholism\"], \"name\": \"Alcoholism\"}, {\"type\": \"scatter\", \"x\": [1, 2, 3, 4, 5, 6], \"y\": [382, 466, 438, 338, 378, 1], \"mode\": \"lines+markers\", \"text\": [\"Handicap\", \"Handicap\", \"Handicap\", \"Handicap\", \"Handicap\", \"Handicap\"], \"name\": \"Handcap\"}, {\"type\": \"scatter\", \"x\": [1, 2, 3, 4, 5, 6], \"y\": [3597, 4249, 4195, 2907, 3065, 15], \"mode\": \"lines+markers\", \"text\": [\"Hypertension\", \"Hypertension\", \"Hypertension\", \"Hypertension\", \"Hypertension\", \"Hypertension\"], \"name\": \"Hipertension\"}], {\"title\": \"Show-Up over week\", \"hovermode\": \"closest\", \"xaxis\": {\"title\": \"Day of Week(Mon-Sat)\"}, \"yaxis\": {\"title\": \"Show-Up\"}}, {\"showLink\": true, \"linkText\": \"Export to plot.ly\"})});</script>"
      ]
     },
     "metadata": {},
     "output_type": "display_data"
    }
   ],
   "source": [
    "Diabetes = week_data[week_data['Category'] == 'Diabetes']\n",
    "Alcoholism = week_data[week_data['Category'] == 'Alcoholism']\n",
    "Handicap = week_data[week_data['Category'] == 'Handicap']\n",
    "Hypertension = week_data[week_data['Category'] == 'Hypertension']\n",
    "\n",
    "trace0 = go.Scatter(\n",
    "    x= Diabetes['DayOfWeek'],\n",
    "    y=Diabetes['Show-Up'],\n",
    "    mode= 'lines+markers',\n",
    "    text=Diabetes['Category'],\n",
    "    name=\"Diabetes\")\n",
    "\n",
    "trace1 = go.Scatter(\n",
    "    x= Alcoholism['DayOfWeek'],\n",
    "    y=Alcoholism['Show-Up'],\n",
    "    mode= 'lines+markers',\n",
    "    text=Alcoholism['Category'],\n",
    "    name=\"Alcoholism\")\n",
    "\n",
    "trace2 = go.Scatter(\n",
    "    x= Handicap['DayOfWeek'],\n",
    "    y=Handicap['Show-Up'],\n",
    "    mode= 'lines+markers',\n",
    "    text=Handicap['Category'],\n",
    "    name='Handcap')\n",
    "\n",
    "trace3 = go.Scatter(\n",
    "    x= Hypertension['DayOfWeek'],\n",
    "    y=Hypertension['Show-Up'],\n",
    "    mode= 'lines+markers',\n",
    "    text=Hypertension['Category'],\n",
    "    name='Hipertension')\n",
    "\n",
    "layout = dict(title = \"Show-Up over week\",hovermode='closest',xaxis=dict({\"title\":\"Day of Week(Mon-Sat)\"}),\n",
    "             yaxis=dict({\"title\":\"Show-Up\"}))\n",
    "dat = [trace0,trace1,trace2,trace3]\n",
    "fig = go.Figure(data=dat,layout=layout)\n",
    "iplot(fig,filename='basic-line')"
   ]
  },
  {
   "cell_type": "markdown",
   "metadata": {
    "deletable": true,
    "editable": true
   },
   "source": [
    "Patients with different medical conditions show similar trend in show-up over a week to population"
   ]
  },
  {
   "cell_type": "markdown",
   "metadata": {
    "deletable": true,
    "editable": true
   },
   "source": [
    "#### 3.9 Do patients with different Medical conditions show different Show-Up rate over week?"
   ]
  },
  {
   "cell_type": "code",
   "execution_count": 53,
   "metadata": {
    "collapsed": false,
    "deletable": true,
    "editable": true
   },
   "outputs": [
    {
     "data": {
      "application/vnd.plotly.v1+json": {
       "data": [
        {
         "mode": "lines+markers",
         "name": "Diabetes",
         "text": [
          "Diabetes",
          "Diabetes",
          "Diabetes",
          "Diabetes",
          "Diabetes",
          "Diabetes"
         ],
         "type": "scatter",
         "x": [
          1,
          2,
          3,
          4,
          5,
          6
         ],
         "y": [
          0.7912157861234882,
          0.8426666666666667,
          0.8267543859649122,
          0.8320864505403158,
          0.8038277511961722,
          0.7142857142857143
         ]
        },
        {
         "mode": "lines+markers",
         "name": "Alcoholism",
         "text": [
          "Alcoholism",
          "Alcoholism",
          "Alcoholism",
          "Alcoholism",
          "Alcoholism",
          "Alcoholism"
         ],
         "type": "scatter",
         "x": [
          1,
          2,
          3,
          4,
          5,
          6
         ],
         "y": [
          0.7727272727272727,
          0.7777777777777778,
          0.8278481012658228,
          0.805019305019305,
          0.8092105263157895,
          1
         ]
        },
        {
         "mode": "lines+markers",
         "name": "Handicap",
         "text": [
          "Handicap",
          "Handicap",
          "Handicap",
          "Handicap",
          "Handicap",
          "Handicap"
         ],
         "type": "scatter",
         "x": [
          1,
          2,
          3,
          4,
          5,
          6
         ],
         "y": [
          0.8025210084033614,
          0.797945205479452,
          0.8096118299445472,
          0.8304668304668305,
          0.8513513513513513,
          1
         ]
        },
        {
         "mode": "lines+markers",
         "name": "Hipertension",
         "text": [
          "Hypertension",
          "Hypertension",
          "Hypertension",
          "Hypertension",
          "Hypertension",
          "Hypertension"
         ],
         "type": "scatter",
         "x": [
          1,
          2,
          3,
          4,
          5,
          6
         ],
         "y": [
          0.8193621867881549,
          0.8281036834924966,
          0.8321761555246975,
          0.8382352941176471,
          0.8171154358837643,
          0.7894736842105263
         ]
        }
       ],
       "layout": {
        "hovermode": "closest",
        "title": "Show-Up Rate over week",
        "xaxis": {
         "title": "Day of week(Mon-Sat)"
        },
        "yaxis": {
         "title": "Show-Up Rate"
        }
       }
      },
      "text/html": [
       "<div id=\"5628ac70-74ea-4633-952c-061e6550d2e6\" style=\"height: 525px; width: 100%;\" class=\"plotly-graph-div\"></div><script type=\"text/javascript\">require([\"plotly\"], function(Plotly) { window.PLOTLYENV=window.PLOTLYENV || {};window.PLOTLYENV.BASE_URL=\"https://plot.ly\";Plotly.newPlot(\"5628ac70-74ea-4633-952c-061e6550d2e6\", [{\"type\": \"scatter\", \"x\": [1, 2, 3, 4, 5, 6], \"y\": [0.7912157861234882, 0.8426666666666667, 0.8267543859649122, 0.8320864505403158, 0.8038277511961722, 0.7142857142857143], \"mode\": \"lines+markers\", \"text\": [\"Diabetes\", \"Diabetes\", \"Diabetes\", \"Diabetes\", \"Diabetes\", \"Diabetes\"], \"name\": \"Diabetes\"}, {\"type\": \"scatter\", \"x\": [1, 2, 3, 4, 5, 6], \"y\": [0.7727272727272727, 0.7777777777777778, 0.8278481012658228, 0.805019305019305, 0.8092105263157895, 1.0], \"mode\": \"lines+markers\", \"text\": [\"Alcoholism\", \"Alcoholism\", \"Alcoholism\", \"Alcoholism\", \"Alcoholism\", \"Alcoholism\"], \"name\": \"Alcoholism\"}, {\"type\": \"scatter\", \"x\": [1, 2, 3, 4, 5, 6], \"y\": [0.8025210084033614, 0.797945205479452, 0.8096118299445472, 0.8304668304668305, 0.8513513513513513, 1.0], \"mode\": \"lines+markers\", \"text\": [\"Handicap\", \"Handicap\", \"Handicap\", \"Handicap\", \"Handicap\", \"Handicap\"], \"name\": \"Handicap\"}, {\"type\": \"scatter\", \"x\": [1, 2, 3, 4, 5, 6], \"y\": [0.8193621867881549, 0.8281036834924966, 0.8321761555246975, 0.8382352941176471, 0.8171154358837643, 0.7894736842105263], \"mode\": \"lines+markers\", \"text\": [\"Hypertension\", \"Hypertension\", \"Hypertension\", \"Hypertension\", \"Hypertension\", \"Hypertension\"], \"name\": \"Hipertension\"}], {\"title\": \"Show-Up Rate over week\", \"hovermode\": \"closest\", \"xaxis\": {\"title\": \"Day of week(Mon-Sat)\"}, \"yaxis\": {\"title\": \"Show-Up Rate\"}}, {\"showLink\": true, \"linkText\": \"Export to plot.ly\"})});</script>"
      ],
      "text/vnd.plotly.v1+html": [
       "<div id=\"5628ac70-74ea-4633-952c-061e6550d2e6\" style=\"height: 525px; width: 100%;\" class=\"plotly-graph-div\"></div><script type=\"text/javascript\">require([\"plotly\"], function(Plotly) { window.PLOTLYENV=window.PLOTLYENV || {};window.PLOTLYENV.BASE_URL=\"https://plot.ly\";Plotly.newPlot(\"5628ac70-74ea-4633-952c-061e6550d2e6\", [{\"type\": \"scatter\", \"x\": [1, 2, 3, 4, 5, 6], \"y\": [0.7912157861234882, 0.8426666666666667, 0.8267543859649122, 0.8320864505403158, 0.8038277511961722, 0.7142857142857143], \"mode\": \"lines+markers\", \"text\": [\"Diabetes\", \"Diabetes\", \"Diabetes\", \"Diabetes\", \"Diabetes\", \"Diabetes\"], \"name\": \"Diabetes\"}, {\"type\": \"scatter\", \"x\": [1, 2, 3, 4, 5, 6], \"y\": [0.7727272727272727, 0.7777777777777778, 0.8278481012658228, 0.805019305019305, 0.8092105263157895, 1.0], \"mode\": \"lines+markers\", \"text\": [\"Alcoholism\", \"Alcoholism\", \"Alcoholism\", \"Alcoholism\", \"Alcoholism\", \"Alcoholism\"], \"name\": \"Alcoholism\"}, {\"type\": \"scatter\", \"x\": [1, 2, 3, 4, 5, 6], \"y\": [0.8025210084033614, 0.797945205479452, 0.8096118299445472, 0.8304668304668305, 0.8513513513513513, 1.0], \"mode\": \"lines+markers\", \"text\": [\"Handicap\", \"Handicap\", \"Handicap\", \"Handicap\", \"Handicap\", \"Handicap\"], \"name\": \"Handicap\"}, {\"type\": \"scatter\", \"x\": [1, 2, 3, 4, 5, 6], \"y\": [0.8193621867881549, 0.8281036834924966, 0.8321761555246975, 0.8382352941176471, 0.8171154358837643, 0.7894736842105263], \"mode\": \"lines+markers\", \"text\": [\"Hypertension\", \"Hypertension\", \"Hypertension\", \"Hypertension\", \"Hypertension\", \"Hypertension\"], \"name\": \"Hipertension\"}], {\"title\": \"Show-Up Rate over week\", \"hovermode\": \"closest\", \"xaxis\": {\"title\": \"Day of week(Mon-Sat)\"}, \"yaxis\": {\"title\": \"Show-Up Rate\"}}, {\"showLink\": true, \"linkText\": \"Export to plot.ly\"})});</script>"
      ]
     },
     "metadata": {},
     "output_type": "display_data"
    }
   ],
   "source": [
    "trace0 = go.Scatter(\n",
    "    x= Diabetes['DayOfWeek'],\n",
    "    y=Diabetes['Show-Up Rate'],\n",
    "    mode= 'lines+markers',\n",
    "    text=Diabetes['Category'],\n",
    "    name=\"Diabetes\")\n",
    "\n",
    "trace1 = go.Scatter(\n",
    "    x= Alcoholism['DayOfWeek'],\n",
    "    y=Alcoholism['Show-Up Rate'],\n",
    "    mode= 'lines+markers',\n",
    "    text=Alcoholism['Category'],\n",
    "    name=\"Alcoholism\")\n",
    "\n",
    "trace2 = go.Scatter(\n",
    "    x= Handicap['DayOfWeek'],\n",
    "    y=Handicap['Show-Up Rate'],\n",
    "    mode= 'lines+markers',\n",
    "    text=Handicap['Category'],\n",
    "    name='Handicap')\n",
    "\n",
    "trace3 = go.Scatter(\n",
    "    x= Hypertension['DayOfWeek'],\n",
    "    y=Hypertension['Show-Up Rate'],\n",
    "    mode= 'lines+markers',\n",
    "    text=Hypertension['Category'],\n",
    "    name='Hipertension')\n",
    "\n",
    "layout = dict(title = \"Show-Up Rate over week\",hovermode='closest',xaxis=dict({\"title\":\"Day of week(Mon-Sat)\"}),\n",
    "             yaxis=dict({\"title\":\"Show-Up Rate\"}))\n",
    "dat = [trace0,trace1,trace2,trace3]\n",
    "fig = go.Figure(data=dat,layout=layout)\n",
    "iplot(fig,filename='basic-line')"
   ]
  },
  {
   "cell_type": "markdown",
   "metadata": {
    "deletable": true,
    "editable": true
   },
   "source": [
    "1. show-up rate of alcoholics,handicapped increased over week \n",
    "2. Patients with Diabetes Alcoholism have shown a consistant show-up through out the week.\n",
    "3. extreme spikes on day6(Saturday) are due to less number of appintments."
   ]
  },
  {
   "cell_type": "markdown",
   "metadata": {
    "deletable": true,
    "editable": true
   },
   "source": [
    "#### 3.10 Show-Up Rate of patients among different age groups"
   ]
  },
  {
   "cell_type": "code",
   "execution_count": 58,
   "metadata": {
    "collapsed": true,
    "deletable": true,
    "editable": true
   },
   "outputs": [],
   "source": [
    "pv3 = noshow_df.pivot_table(values=[\"Diabetes\",\"Alcoholism\",\"Hypertension\",\"Handicap\"],columns=\"Status\",index=\"AgeGroup\",aggfunc=np.sum)"
   ]
  },
  {
   "cell_type": "code",
   "execution_count": 59,
   "metadata": {
    "collapsed": true,
    "deletable": true,
    "editable": true
   },
   "outputs": [],
   "source": [
    "Age_data = pv3.unstack().unstack('Status').reset_index().rename(columns={\"level_0\":\"Category\"})"
   ]
  },
  {
   "cell_type": "code",
   "execution_count": 60,
   "metadata": {
    "collapsed": true,
    "deletable": true,
    "editable": true
   },
   "outputs": [],
   "source": [
    "Age_data[\"Show-Up Rate\"] =  Age_data['Show-Up']/(Age_data['No-Show'] + Age_data['Show-Up'])"
   ]
  },
  {
   "cell_type": "code",
   "execution_count": 61,
   "metadata": {
    "collapsed": false,
    "deletable": true,
    "editable": true
   },
   "outputs": [
    {
     "data": {
      "text/html": [
       "<div>\n",
       "<table border=\"1\" class=\"dataframe\">\n",
       "  <thead>\n",
       "    <tr style=\"text-align: right;\">\n",
       "      <th>Status</th>\n",
       "      <th>Category</th>\n",
       "      <th>AgeGroup</th>\n",
       "      <th>No-Show</th>\n",
       "      <th>Show-Up</th>\n",
       "      <th>Show-Up Rate</th>\n",
       "    </tr>\n",
       "  </thead>\n",
       "  <tbody>\n",
       "    <tr>\n",
       "      <th>0</th>\n",
       "      <td>Diabetes</td>\n",
       "      <td>Kids</td>\n",
       "      <td>3</td>\n",
       "      <td>5</td>\n",
       "      <td>0.625000</td>\n",
       "    </tr>\n",
       "    <tr>\n",
       "      <th>1</th>\n",
       "      <td>Diabetes</td>\n",
       "      <td>Older Adults</td>\n",
       "      <td>819</td>\n",
       "      <td>3740</td>\n",
       "      <td>0.820355</td>\n",
       "    </tr>\n",
       "    <tr>\n",
       "      <th>2</th>\n",
       "      <td>Diabetes</td>\n",
       "      <td>Seniors</td>\n",
       "      <td>533</td>\n",
       "      <td>2574</td>\n",
       "      <td>0.828452</td>\n",
       "    </tr>\n",
       "    <tr>\n",
       "      <th>3</th>\n",
       "      <td>Diabetes</td>\n",
       "      <td>Teens</td>\n",
       "      <td>13</td>\n",
       "      <td>30</td>\n",
       "      <td>0.697674</td>\n",
       "    </tr>\n",
       "    <tr>\n",
       "      <th>4</th>\n",
       "      <td>Diabetes</td>\n",
       "      <td>Young Adults</td>\n",
       "      <td>62</td>\n",
       "      <td>164</td>\n",
       "      <td>0.725664</td>\n",
       "    </tr>\n",
       "  </tbody>\n",
       "</table>\n",
       "</div>"
      ],
      "text/plain": [
       "Status  Category      AgeGroup  No-Show  Show-Up  Show-Up Rate\n",
       "0       Diabetes          Kids        3        5      0.625000\n",
       "1       Diabetes  Older Adults      819     3740      0.820355\n",
       "2       Diabetes       Seniors      533     2574      0.828452\n",
       "3       Diabetes         Teens       13       30      0.697674\n",
       "4       Diabetes  Young Adults       62      164      0.725664"
      ]
     },
     "execution_count": 61,
     "metadata": {},
     "output_type": "execute_result"
    }
   ],
   "source": [
    "Age_data.head()"
   ]
  },
  {
   "cell_type": "code",
   "execution_count": 68,
   "metadata": {
    "collapsed": false,
    "deletable": true,
    "editable": true
   },
   "outputs": [
    {
     "data": {
      "application/vnd.plotly.v1+json": {
       "data": [
        {
         "name": "Kids",
         "text": [
          "Kids",
          "Kids",
          "Kids",
          "Kids"
         ],
         "type": "bar",
         "x": [
          "Diabetes",
          "Alcoholism",
          "Hypertension",
          "Handicap"
         ],
         "y": [
          0.625,
          0.8,
          0.75,
          0.6
         ]
        },
        {
         "name": "Teens",
         "text": [
          "Teens",
          "Teens",
          "Teens",
          "Teens"
         ],
         "type": "bar",
         "x": [
          "Diabetes",
          "Alcoholism",
          "Hypertension",
          "Handicap"
         ],
         "y": [
          0.6976744186046512,
          0.5217391304347826,
          0.65625,
          0.7727272727272727
         ]
        },
        {
         "name": "YoungAdults",
         "text": [
          "Young Adults",
          "Young Adults",
          "Young Adults",
          "Young Adults"
         ],
         "type": "bar",
         "x": [
          "Diabetes",
          "Alcoholism",
          "Hypertension",
          "Handicap"
         ],
         "y": [
          0.7256637168141593,
          0.7387387387387387,
          0.7883663366336634,
          0.8195876288659794
         ]
        },
        {
         "name": "OlderAdults",
         "text": [
          "Older Adults",
          "Older Adults",
          "Older Adults",
          "Older Adults"
         ],
         "type": "bar",
         "x": [
          "Diabetes",
          "Alcoholism",
          "Hypertension",
          "Handicap"
         ],
         "y": [
          0.820355341083571,
          0.8065141527723924,
          0.8224998072326316,
          0.8411654135338346
         ]
        },
        {
         "name": "Seniors",
         "text": [
          "Seniors",
          "Seniors",
          "Seniors",
          "Seniors"
         ],
         "type": "bar",
         "x": [
          "Diabetes",
          "Alcoholism",
          "Hypertension",
          "Handicap"
         ],
         "y": [
          0.8284518828451883,
          0.8381877022653722,
          0.8389076788174872,
          0.8173784977908689
         ]
        }
       ],
       "layout": {
        "barmode": "group",
        "title": "Show-Up rate by age group",
        "xaxis": {
         "title": "Diseases"
        },
        "yaxis": {
         "title": "Rate"
        }
       }
      },
      "text/html": [
       "<div id=\"cdc6869f-f20b-4f31-b37d-725a0173cba5\" style=\"height: 525px; width: 100%;\" class=\"plotly-graph-div\"></div><script type=\"text/javascript\">require([\"plotly\"], function(Plotly) { window.PLOTLYENV=window.PLOTLYENV || {};window.PLOTLYENV.BASE_URL=\"https://plot.ly\";Plotly.newPlot(\"cdc6869f-f20b-4f31-b37d-725a0173cba5\", [{\"type\": \"bar\", \"x\": [\"Diabetes\", \"Alcoholism\", \"Hypertension\", \"Handicap\"], \"y\": [0.625, 0.8, 0.75, 0.6], \"text\": [\"Kids\", \"Kids\", \"Kids\", \"Kids\"], \"name\": \"Kids\"}, {\"type\": \"bar\", \"x\": [\"Diabetes\", \"Alcoholism\", \"Hypertension\", \"Handicap\"], \"y\": [0.6976744186046512, 0.5217391304347826, 0.65625, 0.7727272727272727], \"text\": [\"Teens\", \"Teens\", \"Teens\", \"Teens\"], \"name\": \"Teens\"}, {\"type\": \"bar\", \"x\": [\"Diabetes\", \"Alcoholism\", \"Hypertension\", \"Handicap\"], \"y\": [0.7256637168141593, 0.7387387387387387, 0.7883663366336634, 0.8195876288659794], \"text\": [\"Young Adults\", \"Young Adults\", \"Young Adults\", \"Young Adults\"], \"name\": \"YoungAdults\"}, {\"type\": \"bar\", \"x\": [\"Diabetes\", \"Alcoholism\", \"Hypertension\", \"Handicap\"], \"y\": [0.820355341083571, 0.8065141527723924, 0.8224998072326316, 0.8411654135338346], \"text\": [\"Older Adults\", \"Older Adults\", \"Older Adults\", \"Older Adults\"], \"name\": \"OlderAdults\"}, {\"type\": \"bar\", \"x\": [\"Diabetes\", \"Alcoholism\", \"Hypertension\", \"Handicap\"], \"y\": [0.8284518828451883, 0.8381877022653722, 0.8389076788174872, 0.8173784977908689], \"text\": [\"Seniors\", \"Seniors\", \"Seniors\", \"Seniors\"], \"name\": \"Seniors\"}], {\"title\": \"Show-Up rate by age group\", \"barmode\": \"group\", \"xaxis\": {\"title\": \"Diseases\"}, \"yaxis\": {\"title\": \"Rate\"}}, {\"showLink\": true, \"linkText\": \"Export to plot.ly\"})});</script>"
      ],
      "text/vnd.plotly.v1+html": [
       "<div id=\"cdc6869f-f20b-4f31-b37d-725a0173cba5\" style=\"height: 525px; width: 100%;\" class=\"plotly-graph-div\"></div><script type=\"text/javascript\">require([\"plotly\"], function(Plotly) { window.PLOTLYENV=window.PLOTLYENV || {};window.PLOTLYENV.BASE_URL=\"https://plot.ly\";Plotly.newPlot(\"cdc6869f-f20b-4f31-b37d-725a0173cba5\", [{\"type\": \"bar\", \"x\": [\"Diabetes\", \"Alcoholism\", \"Hypertension\", \"Handicap\"], \"y\": [0.625, 0.8, 0.75, 0.6], \"text\": [\"Kids\", \"Kids\", \"Kids\", \"Kids\"], \"name\": \"Kids\"}, {\"type\": \"bar\", \"x\": [\"Diabetes\", \"Alcoholism\", \"Hypertension\", \"Handicap\"], \"y\": [0.6976744186046512, 0.5217391304347826, 0.65625, 0.7727272727272727], \"text\": [\"Teens\", \"Teens\", \"Teens\", \"Teens\"], \"name\": \"Teens\"}, {\"type\": \"bar\", \"x\": [\"Diabetes\", \"Alcoholism\", \"Hypertension\", \"Handicap\"], \"y\": [0.7256637168141593, 0.7387387387387387, 0.7883663366336634, 0.8195876288659794], \"text\": [\"Young Adults\", \"Young Adults\", \"Young Adults\", \"Young Adults\"], \"name\": \"YoungAdults\"}, {\"type\": \"bar\", \"x\": [\"Diabetes\", \"Alcoholism\", \"Hypertension\", \"Handicap\"], \"y\": [0.820355341083571, 0.8065141527723924, 0.8224998072326316, 0.8411654135338346], \"text\": [\"Older Adults\", \"Older Adults\", \"Older Adults\", \"Older Adults\"], \"name\": \"OlderAdults\"}, {\"type\": \"bar\", \"x\": [\"Diabetes\", \"Alcoholism\", \"Hypertension\", \"Handicap\"], \"y\": [0.8284518828451883, 0.8381877022653722, 0.8389076788174872, 0.8173784977908689], \"text\": [\"Seniors\", \"Seniors\", \"Seniors\", \"Seniors\"], \"name\": \"Seniors\"}], {\"title\": \"Show-Up rate by age group\", \"barmode\": \"group\", \"xaxis\": {\"title\": \"Diseases\"}, \"yaxis\": {\"title\": \"Rate\"}}, {\"showLink\": true, \"linkText\": \"Export to plot.ly\"})});</script>"
      ]
     },
     "metadata": {},
     "output_type": "display_data"
    }
   ],
   "source": [
    "kids = Age_data[Age_data['AgeGroup'] == 'Kids']\n",
    "Teens = Age_data[Age_data['AgeGroup'] == 'Teens']\n",
    "YoungAdults = Age_data[Age_data['AgeGroup'] == 'Young Adults']\n",
    "OlderAdults = Age_data[Age_data['AgeGroup'] == 'Older Adults']\n",
    "Seniors = Age_data[Age_data['AgeGroup'] == 'Seniors']\n",
    "\n",
    "\n",
    "trace0 = go.Bar(\n",
    "    x= kids['Category'],\n",
    "    y=kids['Show-Up Rate'],\n",
    "    text=kids['AgeGroup'],\n",
    "    name=\"Kids\")\n",
    "\n",
    "trace1 = go.Bar(\n",
    "    x= Teens['Category'],\n",
    "    y=Teens['Show-Up Rate'],\n",
    "    text=Teens['AgeGroup'],\n",
    "    name=\"Teens\")\n",
    "\n",
    "trace2 = go.Bar(\n",
    "    x= YoungAdults['Category'],\n",
    "    y=YoungAdults['Show-Up Rate'],\n",
    "    text=YoungAdults['AgeGroup'],\n",
    "    name=\"YoungAdults\")\n",
    "\n",
    "trace3 = go.Bar(\n",
    "    x= OlderAdults['Category'],\n",
    "    y=OlderAdults['Show-Up Rate'],\n",
    "    text=OlderAdults['AgeGroup'],\n",
    "    name=\"OlderAdults\")\n",
    "\n",
    "trace4 = go.Bar(\n",
    "    x= Seniors['Category'],\n",
    "    y=Seniors['Show-Up Rate'],\n",
    "    text=Seniors['AgeGroup'],\n",
    "    name=\"Seniors\")\n",
    "\n",
    "\n",
    "layout = dict(title = \"Show-Up rate by age group\",barmode='group',xaxis=dict({\"title\":\"Diseases\"}),\n",
    "             yaxis=dict({\"title\":\"Rate\"}))\n",
    "dat = [trace0,trace1,trace2,trace3,trace4]\n",
    "fig = go.Figure(data=dat,layout=layout)\n",
    "iplot(fig,filename='grouped-bar')"
   ]
  },
  {
   "cell_type": "markdown",
   "metadata": {},
   "source": [
    "1. Among patients with Diabetes show-up rate increases by age. \n",
    "2. Teen Alcoholics, Teens with hypertension show-up less compared to other age groups.\n",
    "3. Kids with hypertension and Alcoholism show-up more than their teen counterparts."
   ]
  },
  {
   "cell_type": "markdown",
   "metadata": {},
   "source": [
    "#### 3.11 Show-Up rate of patients based on gender"
   ]
  },
  {
   "cell_type": "code",
   "execution_count": 69,
   "metadata": {
    "collapsed": true
   },
   "outputs": [],
   "source": [
    "pv4 = noshow_df.pivot_table(values=[\"Diabetes\",\"Alcoholism\",\"Hypertension\",\"Handicap\"],columns=\"Status\",index=\"Gender\",aggfunc=np.sum)"
   ]
  },
  {
   "cell_type": "code",
   "execution_count": 70,
   "metadata": {
    "collapsed": true
   },
   "outputs": [],
   "source": [
    "Gender_data = pv4.unstack().unstack('Status').reset_index().rename(columns={\"level_0\":\"Category\"})"
   ]
  },
  {
   "cell_type": "code",
   "execution_count": 72,
   "metadata": {
    "collapsed": true
   },
   "outputs": [],
   "source": [
    "Gender_data[\"Show-Up Rate\"] =  Gender_data['Show-Up']/(Gender_data['No-Show'] + Gender_data['Show-Up'])"
   ]
  },
  {
   "cell_type": "code",
   "execution_count": 73,
   "metadata": {
    "collapsed": false
   },
   "outputs": [
    {
     "data": {
      "text/html": [
       "<div>\n",
       "<table border=\"1\" class=\"dataframe\">\n",
       "  <thead>\n",
       "    <tr style=\"text-align: right;\">\n",
       "      <th>Status</th>\n",
       "      <th>Category</th>\n",
       "      <th>Gender</th>\n",
       "      <th>No-Show</th>\n",
       "      <th>Show-Up</th>\n",
       "      <th>Show-Up Rate</th>\n",
       "    </tr>\n",
       "  </thead>\n",
       "  <tbody>\n",
       "    <tr>\n",
       "      <th>0</th>\n",
       "      <td>Diabetes</td>\n",
       "      <td>F</td>\n",
       "      <td>1017</td>\n",
       "      <td>4589</td>\n",
       "      <td>0.818587</td>\n",
       "    </tr>\n",
       "    <tr>\n",
       "      <th>1</th>\n",
       "      <td>Diabetes</td>\n",
       "      <td>M</td>\n",
       "      <td>413</td>\n",
       "      <td>1924</td>\n",
       "      <td>0.823278</td>\n",
       "    </tr>\n",
       "    <tr>\n",
       "      <th>2</th>\n",
       "      <td>Alcoholism</td>\n",
       "      <td>F</td>\n",
       "      <td>308</td>\n",
       "      <td>915</td>\n",
       "      <td>0.748160</td>\n",
       "    </tr>\n",
       "    <tr>\n",
       "      <th>3</th>\n",
       "      <td>Alcoholism</td>\n",
       "      <td>M</td>\n",
       "      <td>369</td>\n",
       "      <td>1768</td>\n",
       "      <td>0.827328</td>\n",
       "    </tr>\n",
       "    <tr>\n",
       "      <th>4</th>\n",
       "      <td>Hypertension</td>\n",
       "      <td>F</td>\n",
       "      <td>2657</td>\n",
       "      <td>12681</td>\n",
       "      <td>0.826770</td>\n",
       "    </tr>\n",
       "    <tr>\n",
       "      <th>5</th>\n",
       "      <td>Hypertension</td>\n",
       "      <td>M</td>\n",
       "      <td>1115</td>\n",
       "      <td>5347</td>\n",
       "      <td>0.827453</td>\n",
       "    </tr>\n",
       "    <tr>\n",
       "      <th>6</th>\n",
       "      <td>Handicap</td>\n",
       "      <td>F</td>\n",
       "      <td>268</td>\n",
       "      <td>1132</td>\n",
       "      <td>0.808571</td>\n",
       "    </tr>\n",
       "    <tr>\n",
       "      <th>7</th>\n",
       "      <td>Handicap</td>\n",
       "      <td>M</td>\n",
       "      <td>182</td>\n",
       "      <td>871</td>\n",
       "      <td>0.827160</td>\n",
       "    </tr>\n",
       "  </tbody>\n",
       "</table>\n",
       "</div>"
      ],
      "text/plain": [
       "Status      Category Gender  No-Show  Show-Up  Show-Up Rate\n",
       "0           Diabetes      F     1017     4589      0.818587\n",
       "1           Diabetes      M      413     1924      0.823278\n",
       "2         Alcoholism      F      308      915      0.748160\n",
       "3         Alcoholism      M      369     1768      0.827328\n",
       "4       Hypertension      F     2657    12681      0.826770\n",
       "5       Hypertension      M     1115     5347      0.827453\n",
       "6           Handicap      F      268     1132      0.808571\n",
       "7           Handicap      M      182      871      0.827160"
      ]
     },
     "execution_count": 73,
     "metadata": {},
     "output_type": "execute_result"
    }
   ],
   "source": [
    "Gender_data"
   ]
  },
  {
   "cell_type": "code",
   "execution_count": 74,
   "metadata": {
    "collapsed": false
   },
   "outputs": [
    {
     "data": {
      "application/vnd.plotly.v1+json": {
       "data": [
        {
         "name": "Male",
         "text": [
          "M",
          "M",
          "M",
          "M"
         ],
         "type": "bar",
         "x": [
          "Diabetes",
          "Alcoholism",
          "Hypertension",
          "Handicap"
         ],
         "y": [
          0.8232777064612752,
          0.827328029948526,
          0.8274528009904054,
          0.8271604938271605
         ]
        },
        {
         "name": "Female",
         "text": [
          "F",
          "F",
          "F",
          "F"
         ],
         "type": "bar",
         "x": [
          "Diabetes",
          "Alcoholism",
          "Hypertension",
          "Handicap"
         ],
         "y": [
          0.8185872279700321,
          0.7481602616516762,
          0.8267701134437345,
          0.8085714285714286
         ]
        }
       ],
       "layout": {
        "barmode": "group",
        "title": "Show-Up rate by Gender",
        "xaxis": {
         "title": "Diseases"
        },
        "yaxis": {
         "title": "Rate"
        }
       }
      },
      "text/html": [
       "<div id=\"2d8e0893-d4a0-418a-98e5-565a84ccd699\" style=\"height: 525px; width: 100%;\" class=\"plotly-graph-div\"></div><script type=\"text/javascript\">require([\"plotly\"], function(Plotly) { window.PLOTLYENV=window.PLOTLYENV || {};window.PLOTLYENV.BASE_URL=\"https://plot.ly\";Plotly.newPlot(\"2d8e0893-d4a0-418a-98e5-565a84ccd699\", [{\"type\": \"bar\", \"x\": [\"Diabetes\", \"Alcoholism\", \"Hypertension\", \"Handicap\"], \"y\": [0.8232777064612752, 0.827328029948526, 0.8274528009904054, 0.8271604938271605], \"text\": [\"M\", \"M\", \"M\", \"M\"], \"name\": \"Male\"}, {\"type\": \"bar\", \"x\": [\"Diabetes\", \"Alcoholism\", \"Hypertension\", \"Handicap\"], \"y\": [0.8185872279700321, 0.7481602616516762, 0.8267701134437345, 0.8085714285714286], \"text\": [\"F\", \"F\", \"F\", \"F\"], \"name\": \"Female\"}], {\"title\": \"Show-Up rate by Gender\", \"barmode\": \"group\", \"xaxis\": {\"title\": \"Diseases\"}, \"yaxis\": {\"title\": \"Rate\"}}, {\"showLink\": true, \"linkText\": \"Export to plot.ly\"})});</script>"
      ],
      "text/vnd.plotly.v1+html": [
       "<div id=\"2d8e0893-d4a0-418a-98e5-565a84ccd699\" style=\"height: 525px; width: 100%;\" class=\"plotly-graph-div\"></div><script type=\"text/javascript\">require([\"plotly\"], function(Plotly) { window.PLOTLYENV=window.PLOTLYENV || {};window.PLOTLYENV.BASE_URL=\"https://plot.ly\";Plotly.newPlot(\"2d8e0893-d4a0-418a-98e5-565a84ccd699\", [{\"type\": \"bar\", \"x\": [\"Diabetes\", \"Alcoholism\", \"Hypertension\", \"Handicap\"], \"y\": [0.8232777064612752, 0.827328029948526, 0.8274528009904054, 0.8271604938271605], \"text\": [\"M\", \"M\", \"M\", \"M\"], \"name\": \"Male\"}, {\"type\": \"bar\", \"x\": [\"Diabetes\", \"Alcoholism\", \"Hypertension\", \"Handicap\"], \"y\": [0.8185872279700321, 0.7481602616516762, 0.8267701134437345, 0.8085714285714286], \"text\": [\"F\", \"F\", \"F\", \"F\"], \"name\": \"Female\"}], {\"title\": \"Show-Up rate by Gender\", \"barmode\": \"group\", \"xaxis\": {\"title\": \"Diseases\"}, \"yaxis\": {\"title\": \"Rate\"}}, {\"showLink\": true, \"linkText\": \"Export to plot.ly\"})});</script>"
      ]
     },
     "metadata": {},
     "output_type": "display_data"
    }
   ],
   "source": [
    "Male = Gender_data[Gender_data['Gender'] == 'M']\n",
    "Female = Gender_data[Gender_data['Gender'] == 'F']\n",
    "\n",
    "trace0 = go.Bar(\n",
    "    x= Male['Category'],\n",
    "    y=Male['Show-Up Rate'],\n",
    "    text=Male['Gender'],\n",
    "    name=\"Male\")\n",
    "\n",
    "trace1 = go.Bar(\n",
    "    x= Female['Category'],\n",
    "    y=Female['Show-Up Rate'],\n",
    "    text=Female['Gender'],\n",
    "    name=\"Female\")\n",
    "\n",
    "\n",
    "layout = dict(title = \"Show-Up rate by Gender\",barmode='group',xaxis=dict({\"title\":\"Diseases\"}),\n",
    "             yaxis=dict({\"title\":\"Rate\"}))\n",
    "dat = [trace0,trace1]\n",
    "fig = go.Figure(data=dat,layout=layout)\n",
    "iplot(fig,filename='grouped-bar')"
   ]
  },
  {
   "cell_type": "markdown",
   "metadata": {},
   "source": [
    "Show-up rate among men and woman with different medical conditions is nearly same among all conditions, but woman alcoholics show-up less than men."
   ]
  },
  {
   "cell_type": "code",
   "execution_count": null,
   "metadata": {
    "collapsed": true
   },
   "outputs": [],
   "source": []
  }
 ],
 "metadata": {
  "kernelspec": {
   "display_name": "Python 3",
   "language": "python",
   "name": "python3"
  },
  "language_info": {
   "codemirror_mode": {
    "name": "ipython",
    "version": 3
   },
   "file_extension": ".py",
   "mimetype": "text/x-python",
   "name": "python",
   "nbconvert_exporter": "python",
   "pygments_lexer": "ipython3",
   "version": "3.6.0"
  }
 },
 "nbformat": 4,
 "nbformat_minor": 2
}
